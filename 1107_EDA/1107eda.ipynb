{
 "cells": [
  {
   "cell_type": "code",
   "execution_count": 28,
   "metadata": {},
   "outputs": [
    {
     "name": "stdout",
     "output_type": "stream",
     "text": [
      "<pandas.core.groupby.generic.DataFrameGroupBy object at 0x00000193003CEB80>\n"
     ]
    }
   ],
   "source": [
    "#** 11월7일 판다스 정리\n",
    "#주제 : Groupby\n",
    "import pandas as pd\n",
    "#Manufacturer 열의 값을 사용하여 시리얼을 그룹화 해보세요.\n",
    "cereals = pd.read_csv(\"cereals.csv\")\n",
    "cereals.head()\n",
    "manufacturers = cereals.groupby(\"Manufacturer\")\n",
    "print(manufacturers)\n",
    "\n"
   ]
  },
  {
   "cell_type": "code",
   "execution_count": 27,
   "metadata": {},
   "outputs": [
    {
     "data": {
      "text/html": [
       "<div>\n",
       "<style scoped>\n",
       "    .dataframe tbody tr th:only-of-type {\n",
       "        vertical-align: middle;\n",
       "    }\n",
       "\n",
       "    .dataframe tbody tr th {\n",
       "        vertical-align: top;\n",
       "    }\n",
       "\n",
       "    .dataframe thead th {\n",
       "        text-align: right;\n",
       "    }\n",
       "</style>\n",
       "<table border=\"1\" class=\"dataframe\">\n",
       "  <thead>\n",
       "    <tr style=\"text-align: right;\">\n",
       "      <th></th>\n",
       "      <th>Name</th>\n",
       "      <th>Manufacturer</th>\n",
       "      <th>Type</th>\n",
       "      <th>Calories</th>\n",
       "      <th>Fiber</th>\n",
       "      <th>Sugars</th>\n",
       "    </tr>\n",
       "  </thead>\n",
       "  <tbody>\n",
       "    <tr>\n",
       "      <th>0</th>\n",
       "      <td>100% Bran</td>\n",
       "      <td>Nabisco</td>\n",
       "      <td>Cold</td>\n",
       "      <td>70</td>\n",
       "      <td>10.0</td>\n",
       "      <td>6</td>\n",
       "    </tr>\n",
       "    <tr>\n",
       "      <th>20</th>\n",
       "      <td>Cream of Wheat (Quick)</td>\n",
       "      <td>Nabisco</td>\n",
       "      <td>Hot</td>\n",
       "      <td>100</td>\n",
       "      <td>1.0</td>\n",
       "      <td>0</td>\n",
       "    </tr>\n",
       "    <tr>\n",
       "      <th>63</th>\n",
       "      <td>Shredded Wheat</td>\n",
       "      <td>Nabisco</td>\n",
       "      <td>Cold</td>\n",
       "      <td>80</td>\n",
       "      <td>3.0</td>\n",
       "      <td>0</td>\n",
       "    </tr>\n",
       "    <tr>\n",
       "      <th>64</th>\n",
       "      <td>Shredded Wheat 'n'Bran</td>\n",
       "      <td>Nabisco</td>\n",
       "      <td>Cold</td>\n",
       "      <td>90</td>\n",
       "      <td>4.0</td>\n",
       "      <td>0</td>\n",
       "    </tr>\n",
       "    <tr>\n",
       "      <th>65</th>\n",
       "      <td>Shredded Wheat spoon size</td>\n",
       "      <td>Nabisco</td>\n",
       "      <td>Cold</td>\n",
       "      <td>90</td>\n",
       "      <td>3.0</td>\n",
       "      <td>0</td>\n",
       "    </tr>\n",
       "    <tr>\n",
       "      <th>68</th>\n",
       "      <td>Strawberry Fruit Wheats</td>\n",
       "      <td>Nabisco</td>\n",
       "      <td>Cold</td>\n",
       "      <td>90</td>\n",
       "      <td>3.0</td>\n",
       "      <td>5</td>\n",
       "    </tr>\n",
       "  </tbody>\n",
       "</table>\n",
       "</div>"
      ],
      "text/plain": [
       "                         Name Manufacturer  Type  Calories  Fiber  Sugars\n",
       "0                   100% Bran      Nabisco  Cold        70   10.0       6\n",
       "20     Cream of Wheat (Quick)      Nabisco   Hot       100    1.0       0\n",
       "63             Shredded Wheat      Nabisco  Cold        80    3.0       0\n",
       "64     Shredded Wheat 'n'Bran      Nabisco  Cold        90    4.0       0\n",
       "65  Shredded Wheat spoon size      Nabisco  Cold        90    3.0       0\n",
       "68    Strawberry Fruit Wheats      Nabisco  Cold        90    3.0       5"
      ]
     },
     "execution_count": 27,
     "metadata": {},
     "output_type": "execute_result"
    }
   ],
   "source": [
    "#그룹의 총 개수와  그룹별 시리얼의 개수를 구하세요.\n",
    "len(manufacturers)\n",
    "#제조업체(그룹) 'Nabisco'에 속하는 시리얼을 추출하세요.\n",
    "manufacturers.get_group(\"Nabisco\")\n"
   ]
  },
  {
   "cell_type": "code",
   "execution_count": 16,
   "metadata": {},
   "outputs": [
    {
     "data": {
      "text/html": [
       "<div>\n",
       "<style scoped>\n",
       "    .dataframe tbody tr th:only-of-type {\n",
       "        vertical-align: middle;\n",
       "    }\n",
       "\n",
       "    .dataframe tbody tr th {\n",
       "        vertical-align: top;\n",
       "    }\n",
       "\n",
       "    .dataframe thead th {\n",
       "        text-align: right;\n",
       "    }\n",
       "</style>\n",
       "<table border=\"1\" class=\"dataframe\">\n",
       "  <thead>\n",
       "    <tr style=\"text-align: right;\">\n",
       "      <th></th>\n",
       "      <th></th>\n",
       "      <th>Name</th>\n",
       "      <th>Manufacturer</th>\n",
       "      <th>Type</th>\n",
       "      <th>Calories</th>\n",
       "      <th>Fiber</th>\n",
       "      <th>Sugars</th>\n",
       "    </tr>\n",
       "    <tr>\n",
       "      <th>Manufacturer</th>\n",
       "      <th></th>\n",
       "      <th></th>\n",
       "      <th></th>\n",
       "      <th></th>\n",
       "      <th></th>\n",
       "      <th></th>\n",
       "      <th></th>\n",
       "    </tr>\n",
       "  </thead>\n",
       "  <tbody>\n",
       "    <tr>\n",
       "      <th>American Home Food Products</th>\n",
       "      <th>43</th>\n",
       "      <td>Maypo</td>\n",
       "      <td>American Home Food Products</td>\n",
       "      <td>Hot</td>\n",
       "      <td>100</td>\n",
       "      <td>0.0</td>\n",
       "      <td>3</td>\n",
       "    </tr>\n",
       "    <tr>\n",
       "      <th>General Mills</th>\n",
       "      <th>11</th>\n",
       "      <td>Cheerios</td>\n",
       "      <td>General Mills</td>\n",
       "      <td>Cold</td>\n",
       "      <td>110</td>\n",
       "      <td>2.0</td>\n",
       "      <td>1</td>\n",
       "    </tr>\n",
       "    <tr>\n",
       "      <th>Kellogg's</th>\n",
       "      <th>3</th>\n",
       "      <td>All-Bran with Extra Fiber</td>\n",
       "      <td>Kellogg's</td>\n",
       "      <td>Cold</td>\n",
       "      <td>50</td>\n",
       "      <td>14.0</td>\n",
       "      <td>0</td>\n",
       "    </tr>\n",
       "    <tr>\n",
       "      <th>Nabisco</th>\n",
       "      <th>20</th>\n",
       "      <td>Cream of Wheat (Quick)</td>\n",
       "      <td>Nabisco</td>\n",
       "      <td>Hot</td>\n",
       "      <td>100</td>\n",
       "      <td>1.0</td>\n",
       "      <td>0</td>\n",
       "    </tr>\n",
       "    <tr>\n",
       "      <th>Post</th>\n",
       "      <th>33</th>\n",
       "      <td>Grape-Nuts</td>\n",
       "      <td>Post</td>\n",
       "      <td>Cold</td>\n",
       "      <td>110</td>\n",
       "      <td>3.0</td>\n",
       "      <td>3</td>\n",
       "    </tr>\n",
       "    <tr>\n",
       "      <th>Quaker Oats</th>\n",
       "      <th>57</th>\n",
       "      <td>Quaker Oatmeal</td>\n",
       "      <td>Quaker Oats</td>\n",
       "      <td>Hot</td>\n",
       "      <td>100</td>\n",
       "      <td>2.7</td>\n",
       "      <td>-1</td>\n",
       "    </tr>\n",
       "    <tr>\n",
       "      <th>Ralston Purina</th>\n",
       "      <th>61</th>\n",
       "      <td>Rice Chex</td>\n",
       "      <td>Ralston Purina</td>\n",
       "      <td>Cold</td>\n",
       "      <td>110</td>\n",
       "      <td>0.0</td>\n",
       "      <td>2</td>\n",
       "    </tr>\n",
       "  </tbody>\n",
       "</table>\n",
       "</div>"
      ],
      "text/plain": [
       "                                                     Name  \\\n",
       "Manufacturer                                                \n",
       "American Home Food Products 43                      Maypo   \n",
       "General Mills               11                   Cheerios   \n",
       "Kellogg's                   3   All-Bran with Extra Fiber   \n",
       "Nabisco                     20     Cream of Wheat (Quick)   \n",
       "Post                        33                 Grape-Nuts   \n",
       "Quaker Oats                 57             Quaker Oatmeal   \n",
       "Ralston Purina              61                  Rice Chex   \n",
       "\n",
       "                                               Manufacturer  Type  Calories  \\\n",
       "Manufacturer                                                                  \n",
       "American Home Food Products 43  American Home Food Products   Hot       100   \n",
       "General Mills               11                General Mills  Cold       110   \n",
       "Kellogg's                   3                     Kellogg's  Cold        50   \n",
       "Nabisco                     20                      Nabisco   Hot       100   \n",
       "Post                        33                         Post  Cold       110   \n",
       "Quaker Oats                 57                  Quaker Oats   Hot       100   \n",
       "Ralston Purina              61               Ralston Purina  Cold       110   \n",
       "\n",
       "                                Fiber  Sugars  \n",
       "Manufacturer                                   \n",
       "American Home Food Products 43    0.0       3  \n",
       "General Mills               11    2.0       1  \n",
       "Kellogg's                   3    14.0       0  \n",
       "Nabisco                     20    1.0       0  \n",
       "Post                        33    3.0       3  \n",
       "Quaker Oats                 57    2.7      -1  \n",
       "Ralston Purina              61    0.0       2  "
      ]
     },
     "execution_count": 16,
     "metadata": {},
     "output_type": "execute_result"
    }
   ],
   "source": [
    "\n",
    "#각 제조업체의 Calories, Fiber, Sugars 열 값의 평균을\n",
    "#계산하세요.\n",
    "\n",
    "manufacturers.mean(numeric_only=True)\n",
    "\n",
    "\n",
    "#각 제조업체의 Sugar 열에서 최대값을 찾으세요.\n",
    "manufacturers[\"Sugars\"].max()\n",
    "\n",
    "\n",
    "#각 제조업체의 Fiber 열에서 최소값을 찾으세요.\n",
    "manufacturers[\"Fiber\"].min()\n",
    "\n",
    "#제조업체별로 설탕함량이 가장 낮은 시리얼을 새로운\n",
    "# Dataframe으로 추출하세요.\n",
    "def smallest_sugar_row(df):\n",
    "    return df.nsmallest(1, \"Sugars\")\n",
    "\n",
    "manufacturers.apply(smallest_sugar_row)"
   ]
  },
  {
   "cell_type": "code",
   "execution_count": 17,
   "metadata": {},
   "outputs": [
    {
     "name": "stdout",
     "output_type": "stream",
     "text": [
      "['꿈', '의', '거처']\n",
      "[('달이', 'Noun'), ('참', 'Verb'), ('예쁘다고', 'Adjective')]\n",
      "['달이/Noun', '참/Verb', '예쁘다고/Adjective']\n",
      "['달이']\n",
      "[('안녕하세요', 'Adjective'), ('감사해요', 'Verb'), ('잘', 'Verb'), ('있어요', 'Adjective'), ('다시', 'Noun'), ('만나요', 'Verb')]\n",
      "[('안녕하세요', 1), ('있어요', 1), ('다시', 1)]\n"
     ]
    }
   ],
   "source": [
    "from konlpy.tag import Okt\n",
    "okt=Okt()\n",
    "\n",
    "token=okt.morphs('꿈의 거처') ## 텍스트에서 형태소를 리턴\n",
    "print(token)\n",
    "\n",
    "sentence_tag=okt.pos('달이 참 예쁘다고') ## 텍스트에 품사 정보를 부착하여 리턴\n",
    "print(sentence_tag) ## 리스트 안에 튜플?\n",
    "\n",
    "sentence_tag=okt.pos('달이 참 예쁘다고', join=True) ## 리스트로 반환 join=True\n",
    "print(sentence_tag)\n",
    "\n",
    "sentence=okt.phrases('달이 참 예쁘다고') ##텍스트에서 어절 추출\n",
    "print(sentence)\n",
    "\n",
    "text=input()\n",
    "sentece_tag=okt.pos(text)\n",
    "print(sentece_tag)\n",
    "import collections\n",
    "sentece_tag=okt.pos(text)\n",
    "\n",
    "adj_list=[]\n",
    "for word,tag in sentece_tag: \n",
    "  if tag in ['Noun','Adjective']: # 품사 중에서 명사, 형용사인 것만 추출하기\n",
    "    adj_list.append(word)\n",
    "counts=collections.Counter(adj_list)\n",
    "tag=counts.most_common(10)\n",
    "print(tag)\n"
   ]
  },
  {
   "cell_type": "code",
   "execution_count": 12,
   "metadata": {},
   "outputs": [
    {
     "name": "stdout",
     "output_type": "stream",
     "text": [
      "['서기', '영원해도', '난', '마지막', '나야', '난', '나라', '시대', '처음', '끝', '난', '나라', '인류', '기원', '종말', '넌', '나라', '마음', '유일한', '무덤', '넌', '나라', '시계', '마지막', '시침', '난', '나라', '우주', '빅뱅', '블랙홀', '난', '나라', '신화', '실체', '허구', '난', '너', '이름', '집']\n",
      "[('서기', 'Noun'), ('가', 'Josa'), ('영원해도', 'Adjective'), ('난', 'Noun'), ('마지막', 'Noun'), ('나야', 'Noun'), ('난', 'Noun'), ('나라', 'Noun'), ('는', 'Josa'), ('시대', 'Noun'), ('의', 'Josa'), ('처음', 'Noun'), ('과', 'Josa'), ('끝', 'Noun'), ('이야', 'Josa'), ('난', 'Noun'), ('나라', 'Noun'), ('는', 'Josa'), ('인류', 'Noun'), ('의', 'Josa'), ('기원', 'Noun'), ('과', 'Josa'), ('종말', 'Noun'), ('이야', 'Josa'), ('넌', 'Noun'), ('나라', 'Noun'), ('는', 'Josa'), ('마음', 'Noun'), ('의', 'Josa'), ('유일한', 'Adjective'), ('무덤', 'Noun'), ('이야', 'Josa'), ('넌', 'Noun'), ('나라', 'Noun'), ('는', 'Josa'), ('시계', 'Noun'), ('의', 'Josa'), ('마지막', 'Noun'), ('시침', 'Noun'), ('이야', 'Josa'), ('난', 'Noun'), ('나라', 'Noun'), ('는', 'Josa'), ('우주', 'Noun'), ('의', 'Josa'), ('빅뱅', 'Noun'), ('과', 'Josa'), ('블랙홀', 'Noun'), ('이야', 'Josa'), ('난', 'Noun'), ('나라', 'Noun'), ('는', 'Josa'), ('신화', 'Noun'), ('의', 'Josa'), ('실체', 'Noun'), ('와', 'Josa'), ('허구', 'Noun'), ('야', 'Josa'), ('난', 'Noun'), ('너', 'Noun'), ('의', 'Josa'), ('이름', 'Noun'), ('을', 'Josa'), ('닮은', 'Verb'), ('집', 'Noun'), ('을', 'Josa'), ('지을', 'Verb'), ('거야', 'Eomi')]\n"
     ]
    }
   ],
   "source": [
    "import matplotlib.pyplot as plt\n",
    "text1 = input()\n",
    "sentence_tag = okt.pos(text1)\n",
    "adj_list_1=[]\n",
    "\n",
    "for word,tag in sentence_tag:\n",
    "  if tag in ['Noun', 'Adjective']:\n",
    "    adj_list_1.append(word)\n",
    "print(adj_list_1)\n",
    "print(sentence_tag)"
   ]
  },
  {
   "cell_type": "code",
   "execution_count": 13,
   "metadata": {},
   "outputs": [
    {
     "data": {
      "text/plain": [
       "[('난', 6),\n",
       " ('나라', 6),\n",
       " ('마지막', 2),\n",
       " ('넌', 2),\n",
       " ('서기', 1),\n",
       " ('영원해도', 1),\n",
       " ('나야', 1),\n",
       " ('시대', 1),\n",
       " ('처음', 1),\n",
       " ('끝', 1)]"
      ]
     },
     "execution_count": 13,
     "metadata": {},
     "output_type": "execute_result"
    }
   ],
   "source": [
    "import collections\n",
    "counts=collections.Counter(adj_list_1)\n",
    "tag=counts.most_common(10)\n",
    "tag\n"
   ]
  },
  {
   "cell_type": "code",
   "execution_count": 11,
   "metadata": {},
   "outputs": [],
   "source": [
    "from wordcloud import WordCloud\n",
    "wc = WordCloud(font_path='malgun', background_color='white',max_font_size=60)\n",
    "#wc = WordCloud(background_color='white',max_font_size=60)\n",
    "cloud=wc.generate_from_frequencies(dict(tag))"
   ]
  },
  {
   "cell_type": "code",
   "execution_count": 9,
   "metadata": {},
   "outputs": [
    {
     "data": {
      "text/plain": [
       "<matplotlib.image.AxesImage at 0x1937e9956d0>"
      ]
     },
     "execution_count": 9,
     "metadata": {},
     "output_type": "execute_result"
    },
    {
     "data": {
      "image/png": "[encoded data removed]",
      "text/plain": [
       "<Figure size 1000x800 with 1 Axes>"
      ]
     },
     "metadata": {},
     "output_type": "display_data"
    }
   ],
   "source": [
    "import matplotlib.pyplot as plt\n",
    "plt.figure(figsize=(10,8))\n",
    "plt.imshow(cloud)"
   ]
  }
 ],
 "metadata": {
  "kernelspec": {
   "display_name": "test_venv",
   "language": "python",
   "name": "python3"
  },
  "language_info": {
   "codemirror_mode": {
    "name": "ipython",
    "version": 3
   },
   "file_extension": ".py",
   "mimetype": "text/x-python",
   "name": "python",
   "nbconvert_exporter": "python",
   "pygments_lexer": "ipython3",
   "version": "3.8.18"
  },
  "orig_nbformat": 4
 },
 "nbformat": 4,
 "nbformat_minor": 2
}
