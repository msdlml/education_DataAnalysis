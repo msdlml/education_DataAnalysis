{
 "cells": [
  {
   "cell_type": "code",
   "execution_count": 2,
   "metadata": {},
   "outputs": [],
   "source": [
    "from tkinter import *\n",
    "import random\n",
    "import tkinter.messagebox\n",
    "\n",
    "num = 0\n",
    "xPos = 0\n",
    "yPos = 0\n",
    "btnlist = [\"\"] * 16\n",
    "\n",
    "window = Tk()\n",
    "window.title(\"지뢰 찾기\")\n",
    "window.geometry(\"280x280\")\n",
    "window.resizable(False,False)\n",
    "\n",
    "ran = random.randint(0,15)\n",
    "photo = PhotoImage(file = \"bomb.gif\")\n",
    "\n",
    "def clickleft():\n",
    "    btnlist[ran].configure(image=photo)\n",
    "    tkinter.messagebox.showinfo(\"폭탄\",\"지뢰를 찾았습니다!\")\n",
    "\n",
    "\n",
    "\n",
    "for i in range(16):\n",
    "     if ran == i:\n",
    "         btnlist[i] = Button(window,bg=\"gray\",width=70,height=70,command=clickleft)\n",
    "     else:\n",
    "         btnlist[i] = Button(window,bg=\"gray\",width=70,height=70)\n",
    "\n",
    "\n",
    "\n",
    "for i in range(0,4):\n",
    "    for k in range(4):\n",
    "        btnlist[num].place(x=xPos, y=yPos)\n",
    "        num += 1\n",
    "        xPos += 70\n",
    "    xPos = 0\n",
    "    yPos += 70\n",
    "\n",
    "window.mainloop()\n"
   ]
  },
  {
   "cell_type": "code",
   "execution_count": null,
   "metadata": {},
   "outputs": [],
   "source": []
  }
 ],
 "metadata": {
  "kernelspec": {
   "display_name": "test_venv",
   "language": "python",
   "name": "python3"
  },
  "language_info": {
   "codemirror_mode": {
    "name": "ipython",
    "version": 3
   },
   "file_extension": ".py",
   "mimetype": "text/x-python",
   "name": "python",
   "nbconvert_exporter": "python",
   "pygments_lexer": "ipython3",
   "version": "3.8.18"
  },
  "orig_nbformat": 4
 },
 "nbformat": 4,
 "nbformat_minor": 2
}
