{
 "cells": [
  {
   "cell_type": "code",
   "execution_count": 19,
   "metadata": {},
   "outputs": [
    {
     "name": "stdout",
     "output_type": "stream",
     "text": [
      "['“The world as we have created it is a process of our thinking. It cannot be changed without changing our thinking.”', 'Albert Einstein']\n",
      "['“It is our choices, Harry, that show what we truly are, far more than our abilities.”', 'J.K. Rowling']\n",
      "['“There are only two ways to live your life. One is as though nothing is a miracle. The other is as though everything is a miracle.”', 'Albert Einstein']\n",
      "['“The person, be it gentleman or lady, who has not pleasure in a good novel, must be intolerably stupid.”', 'Jane Austen']\n",
      "[\"“Imperfection is beauty, madness is genius and it's better to be absolutely ridiculous than absolutely boring.”\", 'Marilyn Monroe']\n",
      "['“Try not to become a man of success. Rather become a man of value.”', 'Albert Einstein']\n",
      "['“It is better to be hated for what you are than to be loved for what you are not.”', 'André Gide']\n",
      "[\"“I have not failed. I've just found 10,000 ways that won't work.”\", 'Thomas A. Edison']\n",
      "[\"“A woman is like a tea bag; you never know how strong it is until it's in hot water.”\", 'Eleanor Roosevelt']\n",
      "['“A day without sunshine is like, you know, night.”', 'Steve Martin']\n"
     ]
    }
   ],
   "source": [
    "import urllib.request\n",
    "import bs4\n",
    "import time\n",
    "def info(tag):\n",
    "    name = tag.find('small',{'class':'author'}).text\n",
    "    txt = tag.find('span',{'class':'text'}).text\n",
    "    return [txt,name]\n",
    "\n",
    "siteurl = f\"https://quotes.toscrape.com\"\n",
    "htmlObject = urllib.request.urlopen(siteurl)\n",
    "webPage = htmlObject.read()\n",
    "bsObject = bs4.BeautifulSoup(webPage, 'html.parser')\n",
    "tag = bsObject.findAll('div',{'class':'quote'})\n",
    "\n",
    "\n",
    "for li in tag:\n",
    "    print(info(li))\n",
    "        "
   ]
  },
  {
   "cell_type": "code",
   "execution_count": null,
   "metadata": {},
   "outputs": [],
   "source": []
  }
 ],
 "metadata": {
  "kernelspec": {
   "display_name": "test_venv",
   "language": "python",
   "name": "python3"
  },
  "language_info": {
   "codemirror_mode": {
    "name": "ipython",
    "version": 3
   },
   "file_extension": ".py",
   "mimetype": "text/x-python",
   "name": "python",
   "nbconvert_exporter": "python",
   "pygments_lexer": "ipython3",
   "version": "3.8.18"
  },
  "orig_nbformat": 4
 },
 "nbformat": 4,
 "nbformat_minor": 2
}
