{
 "cells": [
  {
   "cell_type": "code",
   "execution_count": null,
   "metadata": {},
   "outputs": [],
   "source": [
    "import urllib.request\n",
    "import bs4\n",
    "import openpyxl\n",
    "#시트 생성\n",
    "outWorkbook = openpyxl.Workbook()\n",
    "outWorkbook.remove(outWorkbook['Sheet'])\n",
    "outSheet = outWorkbook.create_sheet('book')\n",
    "#크롤러\n",
    "siteurl = \"https://www.yes24.com/24/Category/Display/001001046001\"\n",
    "htmlObject = urllib.request.urlopen(siteurl)\n",
    "webPage = htmlObject.read()\n",
    "bsObject = bs4.BeautifulSoup(webPage, 'html.parser')\n",
    "\n",
    "tag_li = bsObject.find('ul',{'class':'clearfix'}) #가장 큰 틀\n",
    "li_list = tag_li.findAll('div',{'class':'goods_info'}) \n",
    "rank = 1\n",
    "header = ['순위', '제목', '작가', '출판사','출판 날짜','가격']\n",
    "for i in range(1,len(header)+1):\n",
    "    outCell = outSheet.cell(row=1,column=i,value = header[i-1]) #헤더\n",
    "for li in li_list: #데이터\n",
    "    tag_name = li.find('div',{'class':'goods_name'})\n",
    "    name = tag_name.find('a').text\n",
    "    tag_auth = li.find('span',{'class':'goods_auth'})\n",
    "    auth = tag_auth.find('a').text\n",
    "    pub = li.find('span',{'class':'goods_pub'}).text\n",
    "    date = li.find('span',{'class':'goods_date'}).text\n",
    "    price = li.find('em',{'class':'yes_b'}).text+\"원\"\n",
    "    info = [rank,name, auth, pub, date, price]\n",
    "    for col in range(1,len(info)+1):\n",
    "        outCell = outSheet.cell(row = li_list.index(li)+2, column= col, value = info[col-1])\n",
    "    rank += 1\n",
    "    \n",
    "outWorkbook.save('bookcrawl.xlsx') "
   ]
  }
 ],
 "metadata": {
  "kernelspec": {
   "display_name": "test_venv",
   "language": "python",
   "name": "python3"
  },
  "language_info": {
   "name": "python",
   "version": "3.8.18"
  },
  "orig_nbformat": 4
 },
 "nbformat": 4,
 "nbformat_minor": 2
}
