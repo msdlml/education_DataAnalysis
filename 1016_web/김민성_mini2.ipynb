{
 "cells": [
  {
   "cell_type": "code",
   "execution_count": 14,
   "metadata": {},
   "outputs": [
    {
     "name": "stdout",
     "output_type": "stream",
     "text": [
      "['21위', '101가지 문제로 배우는 딥러닝 허깅페이스 트랜스포머 with 파이토치']\n",
      "['41위', '101가지 문제로 배우는 딥러닝 허깅페이스 트랜스포머 with 파이토치']\n",
      "['61위', '101가지 문제로 배우는 딥러닝 허깅페이스 트랜스포머 with 파이토치']\n"
     ]
    },
    {
     "ename": "KeyboardInterrupt",
     "evalue": "",
     "output_type": "error",
     "traceback": [
      "\u001b[1;31m---------------------------------------------------------------------------\u001b[0m",
      "\u001b[1;31mKeyboardInterrupt\u001b[0m                         Traceback (most recent call last)",
      "\u001b[1;32mc:\\Users\\user\\Desktop\\my_ws\\edu\\data_analysis\\1016_web\\김민성_mini2.ipynb Cell 1\u001b[0m line \u001b[0;36m3\n\u001b[0;32m     <a href='vscode-notebook-cell:/c%3A/Users/user/Desktop/my_ws/edu/data_analysis/1016_web/%EA%B9%80%EB%AF%BC%EC%84%B1_mini2.ipynb#W0sZmlsZQ%3D%3D?line=28'>29</a>\u001b[0m     i \u001b[39m+\u001b[39m\u001b[39m=\u001b[39m \u001b[39m1\u001b[39m\n\u001b[0;32m     <a href='vscode-notebook-cell:/c%3A/Users/user/Desktop/my_ws/edu/data_analysis/1016_web/%EA%B9%80%EB%AF%BC%EC%84%B1_mini2.ipynb#W0sZmlsZQ%3D%3D?line=29'>30</a>\u001b[0m \u001b[39mprint\u001b[39m(info(li))\n\u001b[1;32m---> <a href='vscode-notebook-cell:/c%3A/Users/user/Desktop/my_ws/edu/data_analysis/1016_web/%EA%B9%80%EB%AF%BC%EC%84%B1_mini2.ipynb#W0sZmlsZQ%3D%3D?line=30'>31</a>\u001b[0m time\u001b[39m.\u001b[39;49msleep(\u001b[39m30\u001b[39;49m)\n",
      "\u001b[1;31mKeyboardInterrupt\u001b[0m: "
     ]
    }
   ],
   "source": [
    "import urllib.request\n",
    "import bs4\n",
    "import csv\n",
    "import time\n",
    "\n",
    "def info(tag):\n",
    "    tag_name = tag.find('div',{'class':'goods_name'})\n",
    "    name = tag_name.find('a').text\n",
    "    rank = f'{i}위'\n",
    "    return [rank,name]\n",
    "\n",
    "i = 1\n",
    "\n",
    "header = ['순위','제목']\n",
    "with open('bookrank.csv',\"w\",encoding='euc-kr',newline='') as outFp:\n",
    "        csvw = csv.writer(outFp)\n",
    "        csvw.writerow(header)\n",
    "while True:\n",
    "    for li in li_list:\n",
    "        siteurl = \"https://www.yes24.com/24/Category/Display/001001003022004\"\n",
    "        htmlObject = urllib.request.urlopen(siteurl)\n",
    "        webPage = htmlObject.read()\n",
    "        bsObject = bs4.BeautifulSoup(webPage, 'html.parser')\n",
    "        tag_li = bsObject.find('ul',{'class':'clearfix'}) #가장 큰 틀\n",
    "        li_list = tag_li.findAll('div',{'class':'goods_info'})\n",
    "        with open('bookrank.csv',\"a\",encoding='euc-kr',newline='') as outFp:\n",
    "            csvw = csv.writer(outFp)\n",
    "            csvw.writerow(info(li))\n",
    "        i += 1\n",
    "    print(info(li))\n",
    "    time.sleep(30)\n",
    "\n",
    "\n"
   ]
  },
  {
   "cell_type": "code",
   "execution_count": null,
   "metadata": {},
   "outputs": [],
   "source": []
  }
 ],
 "metadata": {
  "kernelspec": {
   "display_name": "test_venv",
   "language": "python",
   "name": "python3"
  },
  "language_info": {
   "codemirror_mode": {
    "name": "ipython",
    "version": 3
   },
   "file_extension": ".py",
   "mimetype": "text/x-python",
   "name": "python",
   "nbconvert_exporter": "python",
   "pygments_lexer": "ipython3",
   "version": "3.8.18"
  },
  "orig_nbformat": 4
 },
 "nbformat": 4,
 "nbformat_minor": 2
}
