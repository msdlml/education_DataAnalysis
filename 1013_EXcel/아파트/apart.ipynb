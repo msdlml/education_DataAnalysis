{
 "cells": [
  {
   "cell_type": "code",
   "execution_count": 2,
   "metadata": {},
   "outputs": [
    {
     "name": "stdout",
     "output_type": "stream",
     "text": [
      "apart07.csv\n",
      "apart08.csv\n",
      "apart09.csv\n"
     ]
    }
   ],
   "source": [
    "import csv\n",
    "import glob\n",
    "import os\n",
    "\n",
    "flist = glob.glob(os.path.join('*.csv'))\n",
    "\n",
    "firstYN = True\n",
    "\n",
    "for input_file in flist:\n",
    "    print(input_file)\n",
    "    with open(input_file,\"r\",encoding=\"euc-kr\") as inFp:\n",
    "        with open(\"csv병합결과제출.csv\", \"a\", newline='',encoding=\"euc-kr\") as outFp:\n",
    "            csvR = csv.reader(inFp)\n",
    "            csvwr = csv.writer(outFp)\n",
    "            header_list = next(csvR)\n",
    "\n",
    "            if firstYN == True:\n",
    "                csvwr.writerow(header_list)\n",
    "                firstYN = False\n",
    "            \n",
    "            for row_list in csvR:\n",
    "                csvwr.writerow(row_list)"
   ]
  },
  {
   "cell_type": "code",
   "execution_count": 12,
   "metadata": {},
   "outputs": [
    {
     "name": "stdout",
     "output_type": "stream",
     "text": [
      "3개월간 아파트 매매 최고가는 110000만원 입니다.\n"
     ]
    }
   ],
   "source": [
    "import csv\n",
    "\n",
    "def printList(pList):\n",
    "    for data in pList:\n",
    "        print(data, end='\\t')\n",
    "    print()\n",
    "\n",
    "max_num = 0\n",
    "\n",
    "with open(\"csv병합결과제출.csv\",\"r\",encoding=\"euc-kr\") as inFp:\n",
    "    csvr = csv.reader(inFp)\n",
    "    header_list = next(csvr)\n",
    "\n",
    "    for row_list in csvr:\n",
    "        price = int(row_list[8].replace(',',''))\n",
    "        if price > max_num:\n",
    "            max_num = price\n",
    "\n",
    "print(f\"3개월간 아파트 매매 최고가는 {max_num}만원 입니다.\")"
   ]
  },
  {
   "cell_type": "code",
   "execution_count": null,
   "metadata": {},
   "outputs": [],
   "source": []
  }
 ],
 "metadata": {
  "kernelspec": {
   "display_name": "test_venv",
   "language": "python",
   "name": "python3"
  },
  "language_info": {
   "codemirror_mode": {
    "name": "ipython",
    "version": 3
   },
   "file_extension": ".py",
   "mimetype": "text/x-python",
   "name": "python",
   "nbconvert_exporter": "python",
   "pygments_lexer": "ipython3",
   "version": "3.8.18"
  },
  "orig_nbformat": 4
 },
 "nbformat": 4,
 "nbformat_minor": 2
}
