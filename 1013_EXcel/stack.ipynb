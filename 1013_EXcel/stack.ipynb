{
 "cells": [
  {
   "cell_type": "code",
   "execution_count": 4,
   "metadata": {},
   "outputs": [
    {
     "name": "stdout",
     "output_type": "stream",
     "text": [
      "a자동차가 주차했습니다.\n",
      "['a']\n",
      "b자동차가 주차했습니다.\n",
      "['a', 'b']\n",
      "c자동차가 주차했습니다.\n",
      "['a', 'b', 'c']\n",
      "d자동차가 주차했습니다.\n",
      "['a', 'b', 'c', 'd']\n",
      "e자동차가 주차했습니다.\n",
      "['a', 'b', 'c', 'd', 'e']\n",
      "주차공간이 가득 찼습니다.\n",
      "e자동차가 출차했습니다.\n",
      "['a', 'b', 'c', 'd']\n",
      "d자동차가 출차했습니다.\n",
      "['a', 'b', 'c']\n",
      "c자동차가 출차했습니다.\n",
      "['a', 'b']\n",
      "b자동차가 출차했습니다.\n",
      "['a']\n",
      "a자동차가 출차했습니다.\n",
      "[]\n",
      "주차장이 비어있습니다.\n"
     ]
    },
    {
     "ename": "IndexError",
     "evalue": "list index out of range",
     "output_type": "error",
     "traceback": [
      "\u001b[1;31m---------------------------------------------------------------------------\u001b[0m",
      "\u001b[1;31mIndexError\u001b[0m                                Traceback (most recent call last)",
      "\u001b[1;32mc:\\Users\\user\\Desktop\\my_ws\\edu\\data_analysis\\1013_EXcel\\stack.ipynb Cell 1\u001b[0m line \u001b[0;36m1\n\u001b[0;32m     <a href='vscode-notebook-cell:/c%3A/Users/user/Desktop/my_ws/edu/data_analysis/1013_EXcel/stack.ipynb#W0sZmlsZQ%3D%3D?line=16'>17</a>\u001b[0m \u001b[39mif\u001b[39;00m \u001b[39mlen\u001b[39m(parking) \u001b[39m==\u001b[39m \u001b[39m0\u001b[39m:\n\u001b[0;32m     <a href='vscode-notebook-cell:/c%3A/Users/user/Desktop/my_ws/edu/data_analysis/1013_EXcel/stack.ipynb#W0sZmlsZQ%3D%3D?line=17'>18</a>\u001b[0m     \u001b[39mprint\u001b[39m(\u001b[39m\"\u001b[39m\u001b[39m주차장이 비어있습니다.\u001b[39m\u001b[39m\"\u001b[39m)\n\u001b[1;32m---> <a href='vscode-notebook-cell:/c%3A/Users/user/Desktop/my_ws/edu/data_analysis/1013_EXcel/stack.ipynb#W0sZmlsZQ%3D%3D?line=18'>19</a>\u001b[0m \u001b[39mprint\u001b[39m(\u001b[39mf\u001b[39m\u001b[39m\"\u001b[39m\u001b[39m{\u001b[39;00mparking[\u001b[39m-\u001b[39m\u001b[39m1\u001b[39m]\u001b[39m}\u001b[39;00m\u001b[39m자동차가 출차했습니다.\u001b[39m\u001b[39m\"\u001b[39m)\n\u001b[0;32m     <a href='vscode-notebook-cell:/c%3A/Users/user/Desktop/my_ws/edu/data_analysis/1013_EXcel/stack.ipynb#W0sZmlsZQ%3D%3D?line=19'>20</a>\u001b[0m parking\u001b[39m.\u001b[39mremove(parking[\u001b[39m-\u001b[39m\u001b[39m1\u001b[39m])\n\u001b[0;32m     <a href='vscode-notebook-cell:/c%3A/Users/user/Desktop/my_ws/edu/data_analysis/1013_EXcel/stack.ipynb#W0sZmlsZQ%3D%3D?line=20'>21</a>\u001b[0m \u001b[39mprint\u001b[39m(parking)\n",
      "\u001b[1;31mIndexError\u001b[0m: list index out of range"
     ]
    }
   ],
   "source": [
    "parking = []\n",
    "\n",
    "while True:\n",
    "    num = int(input('1.자동차 넣기 2.자동차 빼기 3.종료 (주차는 최대 5대까지)'))\n",
    "    if num == 3:\n",
    "        break\n",
    "    \n",
    "    elif num == 1:\n",
    "        car = input('넣을 자동차 입력 : ')\n",
    "        if len(parking) < 5:\n",
    "            parking.append(car)\n",
    "            print(f'{car}자동차가 주차했습니다.')\n",
    "            print(parking)\n",
    "        else:\n",
    "            print('주차공간이 가득 찼습니다.')\n",
    "    elif num == 2:\n",
    "        if len(parking) == 0:\n",
    "            print(\"주차장이 비어있습니다.\")\n",
    "        else:\n",
    "            print(f\"{parking[-1]}자동차가 출차했습니다.\")\n",
    "            parking.remove(parking[-1])\n",
    "            print(parking)\n",
    "    else:\n",
    "        print(\"1,2,3 중에 숫자를 입력하세요.\")\n",
    "        \n"
   ]
  },
  {
   "cell_type": "code",
   "execution_count": null,
   "metadata": {},
   "outputs": [],
   "source": []
  }
 ],
 "metadata": {
  "kernelspec": {
   "display_name": "test_venv",
   "language": "python",
   "name": "python3"
  },
  "language_info": {
   "codemirror_mode": {
    "name": "ipython",
    "version": 3
   },
   "file_extension": ".py",
   "mimetype": "text/x-python",
   "name": "python",
   "nbconvert_exporter": "python",
   "pygments_lexer": "ipython3",
   "version": "3.8.18"
  },
  "orig_nbformat": 4
 },
 "nbformat": 4,
 "nbformat_minor": 2
}
