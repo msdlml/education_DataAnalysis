{
 "cells": [
  {
   "cell_type": "code",
   "execution_count": 8,
   "metadata": {},
   "outputs": [],
   "source": [
    "import import_ipynb\n",
    "from scorefn import *"
   ]
  },
  {
   "cell_type": "code",
   "execution_count": 10,
   "metadata": {},
   "outputs": [
    {
     "name": "stdout",
     "output_type": "stream",
     "text": [
      "1.입력\n",
      "2.보기\n",
      "3.삭제\n",
      "4.수정\n",
      "5.검색\n",
      "6.정렬\n",
      "7.저장\n",
      "8.종료\n",
      "        이름        국어        영어        수학\n",
      "====================\n",
      "  김민성   10   20  40 \n",
      "1.입력\n",
      "2.보기\n",
      "3.삭제\n",
      "4.수정\n",
      "5.검색\n",
      "6.정렬\n",
      "7.저장\n",
      "8.종료\n"
     ]
    }
   ],
   "source": [
    "def main():\n",
    "    main_ = {1:info_input, 2:show , 3:delete, 4:update, 5:search, 6:order, 7:commit}\n",
    "    while True:\n",
    "        menu()\n",
    "        num = int(input(\"번호\"))\n",
    "        if num == 8:\n",
    "            break\n",
    "        else:\n",
    "            if 0< num < 8:\n",
    "                main_[num]()\n",
    "            else:\n",
    "                print(\"1,2,3,4,5,6,7,8중에 입력하세요\")\n",
    "if __name__ == '__main__':\n",
    "     main()"
   ]
  },
  {
   "cell_type": "code",
   "execution_count": null,
   "metadata": {},
   "outputs": [],
   "source": []
  }
 ],
 "metadata": {
  "kernelspec": {
   "display_name": "test_venv",
   "language": "python",
   "name": "python3"
  },
  "language_info": {
   "codemirror_mode": {
    "name": "ipython",
    "version": 3
   },
   "file_extension": ".py",
   "mimetype": "text/x-python",
   "name": "python",
   "nbconvert_exporter": "python",
   "pygments_lexer": "ipython3",
   "version": "3.8.18"
  },
  "orig_nbformat": 4
 },
 "nbformat": 4,
 "nbformat_minor": 2
}
