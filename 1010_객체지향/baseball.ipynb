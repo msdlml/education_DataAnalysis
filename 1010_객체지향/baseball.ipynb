{
 "cells": [
  {
   "cell_type": "code",
   "execution_count": 1,
   "metadata": {},
   "outputs": [
    {
     "name": "stdout",
     "output_type": "stream",
     "text": [
      "서로 다른 숫자 3개를 뽑았습니다.\n",
      "숫자 3개를 차례대로 입력 : \n",
      "문자는 입력하면 안돼요!\n",
      "문자는 입력하면 안돼요!\n",
      "0S 0B\n",
      "숫자 3개를 차례대로 입력 : \n",
      "문자는 입력하면 안돼요!\n",
      "문자는 입력하면 안돼요!\n",
      "문자는 입력하면 안돼요!\n",
      "1부터 9사이의 수를 입력하세요.\n",
      "1부터 9사이의 수를 입력하세요.\n",
      "1부터 9사이의 수를 입력하세요.\n",
      "0S 0B\n",
      "숫자 3개를 차례대로 입력 : \n",
      "1부터 9사이의 수를 입력하세요.\n"
     ]
    }
   ],
   "source": [
    "from random import randint\n",
    "\n",
    "class baseball:\n",
    "\n",
    "    def random_num():\n",
    "        num = [] \n",
    "        while len(num) < 3:\n",
    "            ran_num = randint(1,9)\n",
    "            if ran_num not in num:\n",
    "                num.append(ran_num)\n",
    "        print(\"서로 다른 숫자 3개를 뽑았습니다.\")\n",
    "        return num\n",
    "    \n",
    "    def game():\n",
    "        print(\"숫자 3개를 차례대로 입력 : \")\n",
    "        user_num = []\n",
    "        while len(user_num) < 3:\n",
    "                try:\n",
    "                  put_num = int(input(f\"{len(user_num) + 1}번째 수를 입력 (종료하고싶으면 0번 입력):\"))\n",
    "                except ValueError as e:  \n",
    "                     print(\"문자는 입력하면 안돼요!\")\n",
    "                else:\n",
    "                  if put_num > 0 and put_num <= 9:\n",
    "                     user_num.append(put_num)\n",
    "                  elif put_num in user_num:\n",
    "                     print(\"중복입니다. 다시 입력 : \")\n",
    "                  else:\n",
    "                     print(\"1부터 9사이의 수를 입력하세요.\")\n",
    "     \n",
    "        return user_num\n",
    "    \n",
    "    def score(guess, solutuon):\n",
    "         s=0\n",
    "         b=0\n",
    "         for i in range(3):\n",
    "              if guess[i] == solutuon[i]:\n",
    "                   s = s + 1\n",
    "              elif guess[i] in solutuon:\n",
    "                   b = b + 1\n",
    "         return s,b\n",
    "\n",
    "answer = baseball.random_num()\n",
    "temp = 0\n",
    "\n",
    "while True:\n",
    "     game_guess = baseball.game()\n",
    "     strike, ball = baseball.score(game_guess,answer)\n",
    "     print(\"%dS %dB\" %(strike,ball))\n",
    "\n",
    "     if strike == 3:\n",
    "          temp += 1\n",
    "          break\n",
    "     else:\n",
    "          temp += 1\n",
    "\n",
    "print(\"%d번 만에 승리했습니다.\" %(temp))\n",
    "\n",
    "              \n",
    "                     \n",
    "            \n",
    "                \n",
    "\n",
    "\n"
   ]
  },
  {
   "cell_type": "code",
   "execution_count": null,
   "metadata": {},
   "outputs": [],
   "source": []
  }
 ],
 "metadata": {
  "kernelspec": {
   "display_name": "test_venv",
   "language": "python",
   "name": "python3"
  },
  "language_info": {
   "codemirror_mode": {
    "name": "ipython",
    "version": 3
   },
   "file_extension": ".py",
   "mimetype": "text/x-python",
   "name": "python",
   "nbconvert_exporter": "python",
   "pygments_lexer": "ipython3",
   "version": "3.8.18"
  },
  "orig_nbformat": 4
 },
 "nbformat": 4,
 "nbformat_minor": 2
}
