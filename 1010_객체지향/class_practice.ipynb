{
 "cells": [
  {
   "cell_type": "code",
   "execution_count": 8,
   "metadata": {},
   "outputs": [
    {
     "name": "stdout",
     "output_type": "stream",
     "text": [
      "사자의 몸길이는 200cm 입니다.\n",
      "다람쥐의 몸길이는 15cm 입니다.\n"
     ]
    }
   ],
   "source": [
    "class Animal:\n",
    "    def __init__(self, name, size):\n",
    "        self.name = name\n",
    "        self.size = size\n",
    "\n",
    "    def show_info(self):\n",
    "        print(f\"{self.name}의 몸길이는 {self.size}cm 입니다.\")\n",
    "\n",
    "class small_size(Animal):\n",
    "    def get_age():\n",
    "        pass\n",
    "\n",
    "class big_size(Animal):   \n",
    "    def get_age():\n",
    "        pass\n",
    "\n",
    "big = big_size(\"사자\", 200)\n",
    "small = small_size(\"다람쥐\", 15)\n",
    "\n",
    "big.show_info()\n",
    "small.show_info()\n",
    "\n",
    "\n",
    "    \n",
    "    \n"
   ]
  },
  {
   "cell_type": "code",
   "execution_count": null,
   "metadata": {},
   "outputs": [],
   "source": []
  }
 ],
 "metadata": {
  "kernelspec": {
   "display_name": "test_venv",
   "language": "python",
   "name": "python3"
  },
  "language_info": {
   "codemirror_mode": {
    "name": "ipython",
    "version": 3
   },
   "file_extension": ".py",
   "mimetype": "text/x-python",
   "name": "python",
   "nbconvert_exporter": "python",
   "pygments_lexer": "ipython3",
   "version": "3.8.18"
  },
  "orig_nbformat": 4
 },
 "nbformat": 4,
 "nbformat_minor": 2
}
