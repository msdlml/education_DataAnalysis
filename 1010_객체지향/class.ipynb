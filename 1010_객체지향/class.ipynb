{
 "cells": [
  {
   "cell_type": "code",
   "execution_count": 2,
   "metadata": {},
   "outputs": [
    {
     "name": "stdout",
     "output_type": "stream",
     "text": [
      "자동차1의 색상은 빨강이며, 현재속도는 30 km 입니다.\n",
      "자동차2의 색상은 파란색이며, 현재속도는 60 km 입니다.\n",
      "자동차3의 색상은 노란색이며, 현재속도는 0 km 입니다.\n"
     ]
    }
   ],
   "source": [
    "class Car:\n",
    "    color = \"\"\n",
    "    speed = 0\n",
    "\n",
    "    def __init__(self):\n",
    "        self.color = \"빨강\"\n",
    "        self.speed = 0        \n",
    "\n",
    "    def  upSpeed(self, value) :\n",
    "        self.speed += value\n",
    "\n",
    "    def  downSpeed(self, value) :\n",
    "        self.speed -= value\n",
    "\n",
    "myCar1 = Car()\n",
    "\n",
    "myCar2 = Car()\n",
    "myCar2.color = \"파란색\"\n",
    "myCar2.speed = 0\n",
    "\n",
    "myCar3 = Car()\n",
    "myCar3.color = \"노란색\"\n",
    "myCar3.speed = 0\n",
    "\n",
    "myCar1.upSpeed(30)\n",
    "print(\"자동차1의 색상은 %s이며, 현재속도는 %d km 입니다.\" % (myCar1.color, myCar1.speed))\n",
    "\n",
    "myCar2.upSpeed(60)\n",
    "print(\"자동차2의 색상은 %s이며, 현재속도는 %d km 입니다.\" % (myCar2.color, myCar2.speed))\n",
    "\n",
    "myCar3.upSpeed(0)\n",
    "print(\"자동차3의 색상은 %s이며, 현재속도는 %d km 입니다.\" % (myCar3.color, myCar3.speed))"
   ]
  },
  {
   "cell_type": "code",
   "execution_count": null,
   "metadata": {},
   "outputs": [],
   "source": []
  }
 ],
 "metadata": {
  "kernelspec": {
   "display_name": "test_venv",
   "language": "python",
   "name": "python3"
  },
  "language_info": {
   "codemirror_mode": {
    "name": "ipython",
    "version": 3
   },
   "file_extension": ".py",
   "mimetype": "text/x-python",
   "name": "python",
   "nbconvert_exporter": "python",
   "pygments_lexer": "ipython3",
   "version": "3.8.18"
  },
  "orig_nbformat": 4
 },
 "nbformat": 4,
 "nbformat_minor": 2
}
