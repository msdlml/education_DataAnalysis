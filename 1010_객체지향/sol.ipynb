{
 "cells": [
  {
   "cell_type": "code",
   "execution_count": 9,
   "metadata": {},
   "outputs": [
    {
     "name": "stdout",
     "output_type": "stream",
     "text": [
      "안녕하세요. 주차장 서비스입니다. \n",
      "원하시는 서비스 번호를 입력해주세요.\n"
     ]
    },
    {
     "ename": "AttributeError",
     "evalue": "'list' object has no attribute 'top'",
     "output_type": "error",
     "traceback": [
      "\u001b[1;31m---------------------------------------------------------------------------\u001b[0m",
      "\u001b[1;31mAttributeError\u001b[0m                            Traceback (most recent call last)",
      "\u001b[1;32mc:\\Users\\user\\Desktop\\my_ws\\edu\\data_analysis\\1010_객체지향\\sol.ipynb Cell 1\u001b[0m line \u001b[0;36m4\n\u001b[0;32m     <a href='vscode-notebook-cell:/c%3A/Users/user/Desktop/my_ws/edu/data_analysis/1010_%EA%B0%9D%EC%B2%B4%EC%A7%80%ED%96%A5/sol.ipynb#W0sZmlsZQ%3D%3D?line=40'>41</a>\u001b[0m \u001b[39mif\u001b[39;00m \u001b[39m__name__\u001b[39m \u001b[39m==\u001b[39m \u001b[39m'\u001b[39m\u001b[39m__main__\u001b[39m\u001b[39m'\u001b[39m:\n\u001b[0;32m     <a href='vscode-notebook-cell:/c%3A/Users/user/Desktop/my_ws/edu/data_analysis/1010_%EA%B0%9D%EC%B2%B4%EC%A7%80%ED%96%A5/sol.ipynb#W0sZmlsZQ%3D%3D?line=41'>42</a>\u001b[0m      car_game \u001b[39m=\u001b[39m ParkingLot()\n\u001b[1;32m---> <a href='vscode-notebook-cell:/c%3A/Users/user/Desktop/my_ws/edu/data_analysis/1010_%EA%B0%9D%EC%B2%B4%EC%A7%80%ED%96%A5/sol.ipynb#W0sZmlsZQ%3D%3D?line=42'>43</a>\u001b[0m      car_game\u001b[39m.\u001b[39;49mstart_lot()\n",
      "\u001b[1;32mc:\\Users\\user\\Desktop\\my_ws\\edu\\data_analysis\\1010_객체지향\\sol.ipynb Cell 1\u001b[0m line \u001b[0;36m3\n\u001b[0;32m     <a href='vscode-notebook-cell:/c%3A/Users/user/Desktop/my_ws/edu/data_analysis/1010_%EA%B0%9D%EC%B2%B4%EC%A7%80%ED%96%A5/sol.ipynb#W0sZmlsZQ%3D%3D?line=30'>31</a>\u001b[0m service_input \u001b[39m=\u001b[39m \u001b[39mint\u001b[39m(\u001b[39minput\u001b[39m(\u001b[39m\"\u001b[39m\u001b[39m<1> 자동차 주차하기 / <2> 출차하기 / <3> 서비스 종료하기\u001b[39m\u001b[39m\"\u001b[39m))\n\u001b[0;32m     <a href='vscode-notebook-cell:/c%3A/Users/user/Desktop/my_ws/edu/data_analysis/1010_%EA%B0%9D%EC%B2%B4%EC%A7%80%ED%96%A5/sol.ipynb#W0sZmlsZQ%3D%3D?line=32'>33</a>\u001b[0m \u001b[39mif\u001b[39;00m \u001b[39m1\u001b[39m \u001b[39m<\u001b[39m\u001b[39m=\u001b[39m service_input \u001b[39m<\u001b[39m \u001b[39m3\u001b[39m:\n\u001b[1;32m---> <a href='vscode-notebook-cell:/c%3A/Users/user/Desktop/my_ws/edu/data_analysis/1010_%EA%B0%9D%EC%B2%B4%EC%A7%80%ED%96%A5/sol.ipynb#W0sZmlsZQ%3D%3D?line=33'>34</a>\u001b[0m     \u001b[39mself\u001b[39;49m\u001b[39m.\u001b[39;49mfunc[service_input]()\n\u001b[0;32m     <a href='vscode-notebook-cell:/c%3A/Users/user/Desktop/my_ws/edu/data_analysis/1010_%EA%B0%9D%EC%B2%B4%EC%A7%80%ED%96%A5/sol.ipynb#W0sZmlsZQ%3D%3D?line=34'>35</a>\u001b[0m \u001b[39melif\u001b[39;00m service_input \u001b[39m==\u001b[39m \u001b[39m3\u001b[39m:\n\u001b[0;32m     <a href='vscode-notebook-cell:/c%3A/Users/user/Desktop/my_ws/edu/data_analysis/1010_%EA%B0%9D%EC%B2%B4%EC%A7%80%ED%96%A5/sol.ipynb#W0sZmlsZQ%3D%3D?line=35'>36</a>\u001b[0m     \u001b[39mprint\u001b[39m(\u001b[39m\"\u001b[39m\u001b[39m프로그램을 종료시킵니다. 감사합니다.\u001b[39m\u001b[39m\"\u001b[39m)\n",
      "\u001b[1;32mc:\\Users\\user\\Desktop\\my_ws\\edu\\data_analysis\\1010_객체지향\\sol.ipynb Cell 1\u001b[0m line \u001b[0;36m1\n\u001b[0;32m     <a href='vscode-notebook-cell:/c%3A/Users/user/Desktop/my_ws/edu/data_analysis/1010_%EA%B0%9D%EC%B2%B4%EC%A7%80%ED%96%A5/sol.ipynb#W0sZmlsZQ%3D%3D?line=10'>11</a>\u001b[0m \u001b[39mdef\u001b[39;00m \u001b[39mput_car\u001b[39m(\u001b[39mself\u001b[39m):\n\u001b[0;32m     <a href='vscode-notebook-cell:/c%3A/Users/user/Desktop/my_ws/edu/data_analysis/1010_%EA%B0%9D%EC%B2%B4%EC%A7%80%ED%96%A5/sol.ipynb#W0sZmlsZQ%3D%3D?line=11'>12</a>\u001b[0m     \u001b[39mif\u001b[39;00m \u001b[39m0\u001b[39m \u001b[39m<\u001b[39m\u001b[39m=\u001b[39m \u001b[39mlen\u001b[39m(\u001b[39mself\u001b[39m\u001b[39m.\u001b[39mlot) \u001b[39m<\u001b[39m \u001b[39m5\u001b[39m:\n\u001b[1;32m---> <a href='vscode-notebook-cell:/c%3A/Users/user/Desktop/my_ws/edu/data_analysis/1010_%EA%B0%9D%EC%B2%B4%EC%A7%80%ED%96%A5/sol.ipynb#W0sZmlsZQ%3D%3D?line=12'>13</a>\u001b[0m         in_car \u001b[39m=\u001b[39m \u001b[39mself\u001b[39m\u001b[39m.\u001b[39mlot\u001b[39m.\u001b[39mappend(\u001b[39mself\u001b[39m\u001b[39m.\u001b[39mcar[\u001b[39mself\u001b[39;49m\u001b[39m.\u001b[39;49mlot\u001b[39m.\u001b[39;49mtop()])\n\u001b[0;32m     <a href='vscode-notebook-cell:/c%3A/Users/user/Desktop/my_ws/edu/data_analysis/1010_%EA%B0%9D%EC%B2%B4%EC%A7%80%ED%96%A5/sol.ipynb#W0sZmlsZQ%3D%3D?line=13'>14</a>\u001b[0m         \u001b[39mprint\u001b[39m(\u001b[39mf\u001b[39m\u001b[39m\"\u001b[39m\u001b[39m{\u001b[39;00min_car\u001b[39m}\u001b[39;00m\u001b[39m 차량이 입차하였습니다.\u001b[39m\u001b[39m\"\u001b[39m)\n\u001b[0;32m     <a href='vscode-notebook-cell:/c%3A/Users/user/Desktop/my_ws/edu/data_analysis/1010_%EA%B0%9D%EC%B2%B4%EC%A7%80%ED%96%A5/sol.ipynb#W0sZmlsZQ%3D%3D?line=14'>15</a>\u001b[0m         \u001b[39mprint\u001b[39m(\u001b[39m\"\u001b[39m\u001b[39m현재 주차된 차량은\u001b[39m\u001b[39m\"\u001b[39m, \u001b[39mself\u001b[39m\u001b[39m.\u001b[39mlot, \u001b[39m\"\u001b[39m\u001b[39m입니다.\u001b[39m\u001b[39m\"\u001b[39m)\n",
      "\u001b[1;31mAttributeError\u001b[0m: 'list' object has no attribute 'top'"
     ]
    }
   ],
   "source": [
    "class ParkingLot:\n",
    "\n",
    "    # 생성자로 초기 변수 설정\n",
    "    def __init__(self):\n",
    "        self.lot = []\n",
    "        self.car = {0:\"A\", 1:\"B\", 2:\"C\", 3:\"D\", 4:\"E\"}\n",
    "        self.func = {1:self.put_car, 2:self.pop_car}  # 여기서 오류가 발생함. 에러문구 \" NameError: name 'put_car' is not defined \". 그렇다고 콜론으로 감싸면 함수를 호출할 수 없게 된다. \n",
    "\n",
    "    # 함수선언\n",
    "\n",
    "    def put_car(self):\n",
    "        if 0 <= self.lot.top() < 6:\n",
    "            in_car = self.lot.append(self.car[self.car.top()])\n",
    "            print(f\"{in_car} 차량이 입차하였습니다.\")\n",
    "            print(\"현재 주차된 차량은\", self.lot, \"입니다.\")\n",
    "        else:\n",
    "            print(\"더이상 주차를 할 수 없습니다.\")\n",
    "\n",
    "    def pop_car(self):\n",
    "        if 1<= self.lot.top() <=6:\n",
    "            exit_car = self.lot.pop(self.car[self.lot.top()])\n",
    "            print(f\"{exit_car} 자동차가 출차했습니다. \")\n",
    "            print(\"현재 주차된 차량은 \", self.lot, \"입니다.\")\n",
    "        else:\n",
    "            print(\"빠져나갈 자동차가 없음\")\n",
    "\n",
    "    def start_lot(self):\n",
    "        while True:\n",
    "            print(\"안녕하세요. 주차장 서비스입니다. \")\n",
    "            print(\"원하시는 서비스 번호를 입력해주세요.\")\n",
    "            service_input = int(input(\"<1> 자동차 주차하기 / <2> 출차하기 / <3> 서비스 종료하기\"))\n",
    "\n",
    "            if 1 <= service_input < 3:\n",
    "                self.func[service_input]()\n",
    "            elif service_input == 3:\n",
    "                print(\"프로그램을 종료시킵니다. 감사합니다.\")\n",
    "                break\n",
    "            else:\n",
    "                print(\"3가지 서비스 번호 중 다시 선택해주세요!\")\n",
    "\n",
    "if __name__ == '__main__':\n",
    "     car_game = ParkingLot()\n",
    "     car_game.start_lot()"
   ]
  },
  {
   "cell_type": "code",
   "execution_count": null,
   "metadata": {},
   "outputs": [],
   "source": []
  }
 ],
 "metadata": {
  "kernelspec": {
   "display_name": "test_venv",
   "language": "python",
   "name": "python3"
  },
  "language_info": {
   "codemirror_mode": {
    "name": "ipython",
    "version": 3
   },
   "file_extension": ".py",
   "mimetype": "text/x-python",
   "name": "python",
   "nbconvert_exporter": "python",
   "pygments_lexer": "ipython3",
   "version": "3.8.18"
  },
  "orig_nbformat": 4
 },
 "nbformat": 4,
 "nbformat_minor": 2
}
