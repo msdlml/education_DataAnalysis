{
 "cells": [
  {
   "cell_type": "code",
   "execution_count": 11,
   "metadata": {},
   "outputs": [
    {
     "name": "stdout",
     "output_type": "stream",
     "text": [
      "사용자ID   사용자이름    이메일   출생년도\n",
      "=========================================\n",
      " asdf      adsf         adsf  123\n",
      "  qer      fads         zxcv  4444\n",
      " qwer      qrew          rqe  123\n"
     ]
    }
   ],
   "source": [
    "import pymysql\n",
    "conn = pymysql.connect(host = '127.0.0.1', user = 'root', password='1234', db='shopDB', charset='utf8')\n",
    "cur = conn.cursor()\n",
    "\n",
    "\n",
    "while True:\n",
    "    d1 = input(\"사용자 아이디를 입력하세요 : \")\n",
    "    if d1 == \"\":\n",
    "        break\n",
    "    d2 = input(\"사용자 이름을 입력하세요 : \")\n",
    "    d3 = input(\"사용자 이메일을 입력하세요 : \")\n",
    "    d4 = input(\"사용자 생년월일을 입력하세요 : \")\n",
    "    sql = \"INSERT INTO testtable VALUES('\" + d1 + \"','\" + d2 + \"','\" + d3 + \"','\" + d4 + \"')\"   \n",
    "    cur.execute(sql)\n",
    "    \n",
    "\n",
    "print(\"사용자ID   사용자이름    이메일   출생년도\")\n",
    "print(\"=========================================\")\n",
    "cur.execute(\"SELECT * FROM testtable\")\n",
    "while True:\n",
    "        row = cur.fetchone()\n",
    "        if row == None:\n",
    "            break\n",
    "        d1 = row[0]\n",
    "        d2 = row[1]\n",
    "        d3 = row[2]\n",
    "        d4 = row[3]\n",
    "        print(\"%5s   %7s   %10s  %d\" % (d1, d2, d3, d4))\n",
    "        \n",
    "conn.commit()\n",
    "conn.close()"
   ]
  },
  {
   "cell_type": "markdown",
   "metadata": {},
   "source": []
  },
  {
   "cell_type": "code",
   "execution_count": null,
   "metadata": {},
   "outputs": [],
   "source": []
  }
 ],
 "metadata": {
  "kernelspec": {
   "display_name": "test_venv",
   "language": "python",
   "name": "python3"
  },
  "language_info": {
   "codemirror_mode": {
    "name": "ipython",
    "version": 3
   },
   "file_extension": ".py",
   "mimetype": "text/x-python",
   "name": "python",
   "nbconvert_exporter": "python",
   "pygments_lexer": "ipython3",
   "version": "3.8.18"
  },
  "orig_nbformat": 4
 },
 "nbformat": 4,
 "nbformat_minor": 2
}
