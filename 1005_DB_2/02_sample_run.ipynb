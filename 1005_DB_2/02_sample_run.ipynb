{
 "cells": [
  {
   "cell_type": "code",
   "execution_count": 12,
   "metadata": {},
   "outputs": [
    {
     "name": "stdout",
     "output_type": "stream",
     "text": [
      "사용자이름 사용자나이 사용자주소\n",
      "=============================\n",
      "  김민성   25           구로 \n"
     ]
    }
   ],
   "source": [
    "import pymysql\n",
    "conn = pymysql.connect(host = '127.0.0.1', user = 'root', password='1234', db='shopDB', charset='utf8')\n",
    "cur = conn.cursor()\n",
    "\n",
    "while True:\n",
    "    choice = int(input(\"main 메뉴\\n 1.입력\\n 2.출력\\n 3.검색\\n 4.종료\\n\"))\n",
    "\n",
    "    if choice == 1:\n",
    "        while True:\n",
    "            d1 = input(\"사용자 이름을 입력하세요 : \")\n",
    "            d2 = input(\"사용자 나이를 입력하세요 : \")\n",
    "            d3 = input(\"사용자 주소를 입력하세요 : \")\n",
    "            sql = \"INSERT INTO sample VALUES('\" + d1 + \"','\" + d2 + \"','\" + d3 + \"')\"   \n",
    "            cur.execute(sql)\n",
    "            yes_no = input(\"계속 입력하시겠습니까? (y/n)\")\n",
    "            if(yes_no == 'n'):\n",
    "                break            \n",
    "    elif choice == 2:\n",
    "        print(\"사용자이름 사용자나이 사용자주소\")\n",
    "        print(\"=============================\")\n",
    "        cur.execute(\"SELECT * FROM sample\")\n",
    "        while True:\n",
    "            row = cur.fetchone()\n",
    "            if row == None:\n",
    "                break\n",
    "            d1 = row[0]\n",
    "            d2 = row[1]\n",
    "            d3 = row[2]\n",
    "            print(\"%5s   %d   %10s \" % (d1, d2, d3))\n",
    "    elif choice == 3:\n",
    "        name = input(\"이름을 입력하세요 : \")       \n",
    "        search = \"SELECT * FROM sample WHERE name = %s\"\n",
    "        cur.execute(search, name)\n",
    "        print(\"사용자이름 사용자나이 사용자주소\")\n",
    "        print(\"=============================\")\n",
    "        while True:\n",
    "            result = cur.fetchone()\n",
    "            if result == None:\n",
    "                break\n",
    "            d1 = result[0]\n",
    "            d2 = result[1]\n",
    "            d3 = result[2]\n",
    "            print(\"%5s   %d   %10s \" % (d1, d2, d3))               \n",
    "    else:\n",
    "        break\n",
    "conn.commit()\n",
    "conn.close()\n",
    "\n",
    "\n",
    "        \n",
    "    \n",
    "    "
   ]
  },
  {
   "cell_type": "code",
   "execution_count": null,
   "metadata": {},
   "outputs": [],
   "source": []
  }
 ],
 "metadata": {
  "kernelspec": {
   "display_name": "test_venv",
   "language": "python",
   "name": "python3"
  },
  "language_info": {
   "codemirror_mode": {
    "name": "ipython",
    "version": 3
   },
   "file_extension": ".py",
   "mimetype": "text/x-python",
   "name": "python",
   "nbconvert_exporter": "python",
   "pygments_lexer": "ipython3",
   "version": "3.8.18"
  },
  "orig_nbformat": 4
 },
 "nbformat": 4,
 "nbformat_minor": 2
}
