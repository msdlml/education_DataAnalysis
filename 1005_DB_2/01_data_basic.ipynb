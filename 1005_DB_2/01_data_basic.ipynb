{
 "cells": [
  {
   "cell_type": "code",
   "execution_count": 11,
   "metadata": {},
   "outputs": [],
   "source": [
    "import sqlite3\n",
    "\n",
    "con = sqlite3.connect(\"naverDB\")\n",
    "cur = con.cursor()\n",
    "\n",
    "\n",
    "while True:\n",
    "    data1 = input(\"사용자 ID == > \")\n",
    "    if data1 == \"\":\n",
    "        break\n",
    "    data2 = input(\"사용자 이름 ==> \")\n",
    "    data3 = input(\"사용자 이메일 ==> \")\n",
    "    data4 = input(\"사용자 출생연도 ==> \")\n",
    "    sql = \"INSERT INTO userTable VALUES('\" + data1 + \"','\" + data2 + \"','\" + data3 + \"','\" + data4 + \"')\"\n",
    "    cur.execute(sql)\n",
    "    cur.execute(\"SELECT * FROM userTable\")\n",
    "\n",
    "    print(\"사용자ID   사용자이름    이메일   출생년도\")\n",
    "    print(\"=========================================\")\n",
    "\n",
    "    while True:\n",
    "        row = cur.fetchone()\n",
    "        if row == None:\n",
    "            break\n",
    "        data1 = row[0]\n",
    "        data2 = row[1]\n",
    "        data3 = row[2]\n",
    "        data4 = row[3]\n",
    "        print(\"%5s   %15s   %15s  %d\" % (data1, data2, data3, data4))\n",
    "\n",
    "\n",
    "con.commit()\n",
    "con.close()\n"
   ]
  },
  {
   "cell_type": "code",
   "execution_count": 1,
   "metadata": {},
   "outputs": [
    {
     "name": "stdout",
     "output_type": "stream",
     "text": [
      "사용자ID   사용자이름    이메일   출생년도\n",
      "=========================================\n",
      "  kim       김태인         asdf  2013\n",
      " hong       홍지윤         help  1996\n",
      " star       별사랑    ti@ts.com  2001\n",
      " yang       양지은   eee@naver.com  2003\n",
      "  kim       김태인     tain.com  2013\n",
      " hong       홍홍홍   hong@email.ocm  1993\n",
      " star       별사랑     star.com  2001\n",
      " yang       양지윤      eee.com  2003\n"
     ]
    },
    {
     "ename": "TypeError",
     "evalue": "%d format: a number is required, not str",
     "output_type": "error",
     "traceback": [
      "\u001b[1;31m---------------------------------------------------------------------------\u001b[0m",
      "\u001b[1;31mTypeError\u001b[0m                                 Traceback (most recent call last)",
      "\u001b[1;32mc:\\Users\\user\\Desktop\\my_ws\\edu\\data_analysis\\01_data_basic.ipynb Cell 2\u001b[0m line \u001b[0;36m3\n\u001b[0;32m     <a href='vscode-notebook-cell:/c%3A/Users/user/Desktop/my_ws/edu/data_analysis/01_data_basic.ipynb#W1sZmlsZQ%3D%3D?line=27'>28</a>\u001b[0m         d3 \u001b[39m=\u001b[39m row[\u001b[39m2\u001b[39m]\n\u001b[0;32m     <a href='vscode-notebook-cell:/c%3A/Users/user/Desktop/my_ws/edu/data_analysis/01_data_basic.ipynb#W1sZmlsZQ%3D%3D?line=28'>29</a>\u001b[0m         d4 \u001b[39m=\u001b[39m row[\u001b[39m3\u001b[39m]\n\u001b[1;32m---> <a href='vscode-notebook-cell:/c%3A/Users/user/Desktop/my_ws/edu/data_analysis/01_data_basic.ipynb#W1sZmlsZQ%3D%3D?line=29'>30</a>\u001b[0m         \u001b[39mprint\u001b[39m(\u001b[39m\"\u001b[39;49m\u001b[39m%5s\u001b[39;49;00m\u001b[39m   \u001b[39;49m\u001b[39m%7s\u001b[39;49;00m\u001b[39m   \u001b[39;49m\u001b[39m%10s\u001b[39;49;00m\u001b[39m  \u001b[39;49m\u001b[39m%d\u001b[39;49;00m\u001b[39m\"\u001b[39;49m \u001b[39m%\u001b[39;49m (d1, d2, d3, d4))\n\u001b[0;32m     <a href='vscode-notebook-cell:/c%3A/Users/user/Desktop/my_ws/edu/data_analysis/01_data_basic.ipynb#W1sZmlsZQ%3D%3D?line=31'>32</a>\u001b[0m con\u001b[39m.\u001b[39mcommit()\n\u001b[0;32m     <a href='vscode-notebook-cell:/c%3A/Users/user/Desktop/my_ws/edu/data_analysis/01_data_basic.ipynb#W1sZmlsZQ%3D%3D?line=32'>33</a>\u001b[0m con\u001b[39m.\u001b[39mclose()\n",
      "\u001b[1;31mTypeError\u001b[0m: %d format: a number is required, not str"
     ]
    }
   ],
   "source": [
    "import sqlite3\n",
    "\n",
    "con = sqlite3.connect(\"naverDB\")\n",
    "cur = con.cursor()\n",
    "\n",
    "\n",
    "while True:\n",
    "    d1 = input(\"사용자 아이디를 입력하세요 : \")\n",
    "    if d1 == \"\":\n",
    "        break\n",
    "    d2 = input(\"사용자 이름을 입력하세요 : \")\n",
    "    d3 = input(\"사용자 이메일을 입력하세요 : \")\n",
    "    d4 = input(\"사용자 생년월일을 입력하세요 : \")\n",
    "    sql = \"INSERT INTO info VALUES('\" + d1 + \"','\" + d2 + \"','\" + d3 + \"','\" + d4 + \"')\"\n",
    "\n",
    "    cur.execute(sql)\n",
    "    \n",
    "    \n",
    "print(\"사용자ID   사용자이름    이메일   출생년도\")\n",
    "print(\"=========================================\")\n",
    "cur.execute(\"SELECT * FROM info\")\n",
    "while True:\n",
    "        row = cur.fetchone()\n",
    "        if row == None:\n",
    "            break\n",
    "        d1 = row[0]\n",
    "        d2 = row[1]\n",
    "        d3 = row[2]\n",
    "        d4 = row[3]\n",
    "        print(\"%5s   %7s   %10s  %d\" % (d1, d2, d3, d4))\n",
    "\n",
    "con.commit()\n",
    "con.close()"
   ]
  },
  {
   "cell_type": "code",
   "execution_count": null,
   "metadata": {},
   "outputs": [],
   "source": []
  },
  {
   "cell_type": "code",
   "execution_count": null,
   "metadata": {},
   "outputs": [],
   "source": []
  }
 ],
 "metadata": {
  "kernelspec": {
   "display_name": "test_venv",
   "language": "python",
   "name": "python3"
  },
  "language_info": {
   "codemirror_mode": {
    "name": "ipython",
    "version": 3
   },
   "file_extension": ".py",
   "mimetype": "text/x-python",
   "name": "python",
   "nbconvert_exporter": "python",
   "pygments_lexer": "ipython3",
   "version": "3.8.18"
  },
  "orig_nbformat": 4
 },
 "nbformat": 4,
 "nbformat_minor": 2
}
