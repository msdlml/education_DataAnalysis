{
 "cells": [
  {
   "cell_type": "code",
   "execution_count": 8,
   "metadata": {},
   "outputs": [
    {
     "name": "stdout",
     "output_type": "stream",
     "text": [
      "아이디,이름,인원,주소,국번,전화 번호,평균 키,데뷔 일자\n",
      "TWC,트와이스,9,서울,02,11111111,167,2015.10.19\n"
     ]
    }
   ],
   "source": [
    "inFp = open(\"singer1.csv\",\"r\",encoding=\"euc-kr\" )\n",
    "\n",
    "inStr = inFp.readline()\n",
    "print(inStr,end=\"\")\n",
    "\n",
    "inStr = inFp.readline()\n",
    "print(inStr,end=\"\")\n",
    "\n",
    "inFp.close()"
   ]
  },
  {
   "cell_type": "code",
   "execution_count": 7,
   "metadata": {},
   "outputs": [
    {
     "name": "stdout",
     "output_type": "stream",
     "text": [
      "아이디,이름,인원,주소,국번,전화 번호,평균 키,데뷔 일자\n",
      "TWC,트와이스,9,서울,02,11111111,167,2015.10.19\n"
     ]
    }
   ],
   "source": [
    "with open(\"singer1.csv\",\"r\",encoding=\"euc-kr\") as inFp:\n",
    "    inStr = inFp.readline()\n",
    "    print(inStr, end= \"\")\n",
    "    inStr = inFp.readline()\n",
    "    print(inStr, end= \"\")"
   ]
  },
  {
   "cell_type": "code",
   "execution_count": 9,
   "metadata": {},
   "outputs": [
    {
     "name": "stdout",
     "output_type": "stream",
     "text": [
      "아이디\t이름\t인원\t주소\t국번\t전화 번호\t평균 키\t데뷔 일자\t\n",
      "TWC\t트와이스\t9\t서울\t02\t11111111\t167\t2015.10.19\t\n",
      "BLK\t블랙핑크\t4\t경남\t055\t22222222\t163\t2016.08.08\t\n",
      "WMN\t여자친구\t6\t경기\t031\t33333333\t166\t2015.01.15\t\n",
      "OMY\t오마이걸\t7\t서울\t\t\t160\t2015.04.21\t\n",
      "GRL\t소녀시대\t8\t서울\t02\t44444444\t168\t2007.08.02\t\n",
      "ITZ\t있지\t5\t경남\t\t\t167\t2019.02.12\t\n",
      "RED\t레드벨벳\t4\t경북\t054\t55555555\t161\t2014.08.01\t\n",
      "APN\t에이핑크\t6\t경기\t031\t77777777\t164\t2011.02.10\t\n",
      "SPC\t우주소녀\t13\t서울\t02\t88888888\t162\t2016.02.25\t\n",
      "MMU\t마마무\t4\t전남\t061\t99999999\t165\t2014.06.19\t\n"
     ]
    }
   ],
   "source": [
    "def printList(pList):\n",
    "    for data in pList:\n",
    "        print(data, end='\\t')\n",
    "    print()\n",
    "\n",
    "with open(\"singer1.csv\",\"r\",encoding=\"euc-kr\") as inFp:\n",
    "    header = inFp.readline()\n",
    "    header = header.strip()\n",
    "    header_list = header.split(',')\n",
    "    printList(header_list)\n",
    "    for inStr in inFp:\n",
    "        inStr = inStr.strip()\n",
    "        row_list = inStr.split(',')\n",
    "        printList(row_list)"
   ]
  },
  {
   "cell_type": "code",
   "execution_count": 11,
   "metadata": {},
   "outputs": [
    {
     "name": "stdout",
     "output_type": "stream",
     "text": [
      "TWC,트와이스,9,서울,02,11111111,167,2015.10.19\n",
      "['TWC', '트와이스', '9', '서울', '02', '11111111', '167', '2015.10.19']\n",
      "row_list[-1] 2015/10/19\n",
      "row_list[-2] 167.00\n",
      "TWC,트와이스,9,서울,02,11111111,167.00,2015/10/19\n",
      "BLK,블랙핑크,4,경남,055,22222222,163,2016.08.08\n",
      "['BLK', '블랙핑크', '4', '경남', '055', '22222222', '163', '2016.08.08']\n",
      "row_list[-1] 2016/08/08\n",
      "row_list[-2] 163.00\n",
      "BLK,블랙핑크,4,경남,055,22222222,163.00,2016/08/08\n",
      "WMN,여자친구,6,경기,031,33333333,166,2015.01.15\n",
      "['WMN', '여자친구', '6', '경기', '031', '33333333', '166', '2015.01.15']\n",
      "row_list[-1] 2015/01/15\n",
      "row_list[-2] 166.00\n",
      "WMN,여자친구,6,경기,031,33333333,166.00,2015/01/15\n",
      "OMY,오마이걸,7,서울,,,160,2015.04.21\n",
      "['OMY', '오마이걸', '7', '서울', '', '', '160', '2015.04.21']\n",
      "row_list[-1] 2015/04/21\n",
      "row_list[-2] 160.00\n",
      "OMY,오마이걸,7,서울,,,160.00,2015/04/21\n",
      "GRL,소녀시대,8,서울,02,44444444,168,2007.08.02\n",
      "['GRL', '소녀시대', '8', '서울', '02', '44444444', '168', '2007.08.02']\n",
      "row_list[-1] 2007/08/02\n",
      "row_list[-2] 168.00\n",
      "GRL,소녀시대,8,서울,02,44444444,168.00,2007/08/02\n",
      "ITZ,있지,5,경남,,,167,2019.02.12\n",
      "['ITZ', '있지', '5', '경남', '', '', '167', '2019.02.12']\n",
      "row_list[-1] 2019/02/12\n",
      "row_list[-2] 167.00\n",
      "ITZ,있지,5,경남,,,167.00,2019/02/12\n",
      "RED,레드벨벳,4,경북,054,55555555,161,2014.08.01\n",
      "['RED', '레드벨벳', '4', '경북', '054', '55555555', '161', '2014.08.01']\n",
      "row_list[-1] 2014/08/01\n",
      "row_list[-2] 161.00\n",
      "RED,레드벨벳,4,경북,054,55555555,161.00,2014/08/01\n",
      "APN,에이핑크,6,경기,031,77777777,164,2011.02.10\n",
      "['APN', '에이핑크', '6', '경기', '031', '77777777', '164', '2011.02.10']\n",
      "row_list[-1] 2011/02/10\n",
      "row_list[-2] 164.00\n",
      "APN,에이핑크,6,경기,031,77777777,164.00,2011/02/10\n",
      "SPC,우주소녀,13,서울,02,88888888,162,2016.02.25\n",
      "['SPC', '우주소녀', '13', '서울', '02', '88888888', '162', '2016.02.25']\n",
      "row_list[-1] 2016/02/25\n",
      "row_list[-2] 162.00\n",
      "SPC,우주소녀,13,서울,02,88888888,162.00,2016/02/25\n",
      "MMU,마마무,4,전남,061,99999999,165,2014.06.19\n",
      "['MMU', '마마무', '4', '전남', '061', '99999999', '165', '2014.06.19']\n",
      "row_list[-1] 2014/06/19\n",
      "row_list[-2] 165.00\n",
      "MMU,마마무,4,전남,061,99999999,165.00,2014/06/19\n",
      "save\n"
     ]
    }
   ],
   "source": [
    "with open(\"singer1.csv\",\"r\",encoding=\"euc-kr\") as inFp: #singer1 을 읽기 모드로 읽어옴 \n",
    "    with open(\"new_singer2.csv\", \"w\") as outFp:  #new singer2를 쓰기 모드로 읽어옴 \n",
    "        header = inFp.readline()   #헤더는 singer1의 맨 위 한줄을 읽어옴 \n",
    "\n",
    "        outFp.write(header)    #오픈한 outFp의 헤더를 출력\n",
    "        for inStr in inFp:     \n",
    "            inStr = inStr.strip()   #inFp의 데이터의 공백을 제거\n",
    "            print(inStr)\n",
    "            row_list = inStr.split(',')  #inFp의 데이터를 , 단위를 나눈것을 row_list에 대입\n",
    "            print(row_list)\n",
    "            row_list[-1] = row_list[-1].replace('.','/') #row_list의 마지막 데이터의 .을 /로 교체\n",
    "            print(\"row_list[-1]\",row_list[-1])\n",
    "            height_str = \"{0:.2f}\".format(int(row_list[-2]))  #row_list의 뒤에서 두번째 데이터를 인트형으로 변환 후 소수점 2자리 까지 나타낸 데이터 대입\n",
    "            row_list[-2] = height_str   #row_list의 뒤에서 두번째 데이터에 위에서 변형한 데이터를 대입\n",
    "            print(\"row_list[-2]\",row_list[-2])\n",
    "            row_str = ','.join(map(str, row_list)) # ,(쉼표) 라는 구분자를 데이터 사이에 넣고, 리스트를 문자열로 변환 \n",
    "            print(row_str)\n",
    "            outFp.write(row_str + '\\n') #row_str을 한줄출력 후 줄바꿈\n",
    "print('save')"
   ]
  },
  {
   "cell_type": "code",
   "execution_count": 12,
   "metadata": {},
   "outputs": [
    {
     "name": "stdout",
     "output_type": "stream",
     "text": [
      "idx1 0\n",
      "idx2 1\n",
      "idx3 6\n",
      "save\n"
     ]
    }
   ],
   "source": [
    "with open(\"singer1.csv\",\"r\",encoding=\"euc-kr\") as inFp: #singer1 을 읽기 모드로 읽어옴 \n",
    "    with open(\"new_singer2.csv\", \"w\") as outFp:  #new singer2를 쓰기 모드로 읽어옴 \n",
    "        header = inFp.readline() \n",
    "        header = header.strip()\n",
    "        header_list = header.split(',')\n",
    "        idx1 = header_list.index('아이디')\n",
    "        print(\"idx1\",idx1)\n",
    "        idx2 = header_list.index('이름')\n",
    "        print(\"idx2\",idx2)\n",
    "        idx3 = header_list.index('평균 키')\n",
    "        print(\"idx3\",idx3)\n",
    "        header_list = [header_list[idx1],header_list[idx2],header_list[idx3]]\n",
    "        header_str =','.join(map(str, header_list))\n",
    "        outFp.write(header_str + '\\n')\n",
    "        for inStr in inFp:\n",
    "            inStr = inStr.strip()\n",
    "            row_list = inStr.split(',')\n",
    "            if int(row_list[idx3]) >= 165 :\n",
    "                row_list = [row_list[idx1],row_list[idx2],row_list[idx3]]\n",
    "                row_str = ','.join(map(str, row_list))\n",
    "                outFp.write(row_str + '\\n')\n",
    "print('save')"
   ]
  },
  {
   "cell_type": "code",
   "execution_count": 18,
   "metadata": {},
   "outputs": [
    {
     "name": "stdout",
     "output_type": "stream",
     "text": [
      "idx1 1\n",
      "idx2 4\n",
      "idx3 5\n",
      "save\n"
     ]
    }
   ],
   "source": [
    "#실습\n",
    "with open(\"singer1.csv\",\"r\",encoding=\"euc-kr\") as inFp: #singer1 을 읽기 모드로 읽어옴 \n",
    "    with open(\"new_singer2.csv\", \"w\") as outFp:  #new singer2를 쓰기 모드로 읽어옴 \n",
    "        header = inFp.readline() \n",
    "        header = header.strip()\n",
    "        header_list = header.split(',')\n",
    "        idx1 = header_list.index('이름')\n",
    "        print(\"idx1\",idx1)\n",
    "        idx2 = header_list.index('국번')\n",
    "        print(\"idx2\",idx2)\n",
    "        idx3 = header_list.index('전화 번호')\n",
    "        print(\"idx3\",idx3)\n",
    "        header_list = [header_list[idx1],header_list[idx2],header_list[idx3]]\n",
    "        header_str =','.join(map(str, header_list))\n",
    "        outFp.write(header_str + '\\n')\n",
    "        for inStr in inFp:\n",
    "            inStr = inStr.strip()\n",
    "            row_list = inStr.split(',')\n",
    "            if row_list[idx3] != \"\" :\n",
    "                row_list = [row_list[idx1],row_list[idx2],row_list[idx3]]\n",
    "                row_str = ','.join(map(str, row_list))\n",
    "                outFp.write(row_str + '\\n')\n",
    "print('save')"
   ]
  },
  {
   "cell_type": "code",
   "execution_count": 4,
   "metadata": {},
   "outputs": [
    {
     "name": "stdout",
     "output_type": "stream",
     "text": [
      "아이디,이름,인원,주소,평균 키,데뷔 일자,유튜브 조회수\n",
      "이름 유튜브 조회수\n",
      "['TWC', '트와이스', '9', '서울', '167', '2015.10.19', '\"3', '334', '500\"']\n"
     ]
    },
    {
     "ename": "ValueError",
     "evalue": "invalid literal for int() with base 10: '\"3'",
     "output_type": "error",
     "traceback": [
      "\u001b[1;31m---------------------------------------------------------------------------\u001b[0m",
      "\u001b[1;31mValueError\u001b[0m                                Traceback (most recent call last)",
      "\u001b[1;32mc:\\Users\\user\\Desktop\\my_ws\\edu\\data_analysis\\1012_CSV\\code06-01.ipynb Cell 7\u001b[0m line \u001b[0;36m1\n\u001b[0;32m      <a href='vscode-notebook-cell:/c%3A/Users/user/Desktop/my_ws/edu/data_analysis/1012_CSV/code06-01.ipynb#X10sZmlsZQ%3D%3D?line=8'>9</a>\u001b[0m row_list \u001b[39m=\u001b[39m inStr\u001b[39m.\u001b[39msplit(\u001b[39m'\u001b[39m\u001b[39m,\u001b[39m\u001b[39m'\u001b[39m)\n\u001b[0;32m     <a href='vscode-notebook-cell:/c%3A/Users/user/Desktop/my_ws/edu/data_analysis/1012_CSV/code06-01.ipynb#X10sZmlsZQ%3D%3D?line=9'>10</a>\u001b[0m \u001b[39mprint\u001b[39m(row_list)\n\u001b[1;32m---> <a href='vscode-notebook-cell:/c%3A/Users/user/Desktop/my_ws/edu/data_analysis/1012_CSV/code06-01.ipynb#X10sZmlsZQ%3D%3D?line=10'>11</a>\u001b[0m youtube \u001b[39m=\u001b[39m \u001b[39mint\u001b[39;49m(row_list[\u001b[39m6\u001b[39;49m]\u001b[39m.\u001b[39;49mreplace(\u001b[39m'\u001b[39;49m\u001b[39m,\u001b[39;49m\u001b[39m'\u001b[39;49m,\u001b[39m'\u001b[39;49m\u001b[39m'\u001b[39;49m))\n\u001b[0;32m     <a href='vscode-notebook-cell:/c%3A/Users/user/Desktop/my_ws/edu/data_analysis/1012_CSV/code06-01.ipynb#X10sZmlsZQ%3D%3D?line=11'>12</a>\u001b[0m youtube \u001b[39m=\u001b[39m \u001b[39mint\u001b[39m(youtube\u001b[39m/\u001b[39m\u001b[39m10000\u001b[39m)\n\u001b[0;32m     <a href='vscode-notebook-cell:/c%3A/Users/user/Desktop/my_ws/edu/data_analysis/1012_CSV/code06-01.ipynb#X10sZmlsZQ%3D%3D?line=12'>13</a>\u001b[0m \u001b[39mprint\u001b[39m(row_list[\u001b[39m0\u001b[39m], \u001b[39mstr\u001b[39m(youtube) \u001b[39m+\u001b[39m \u001b[39m\"\u001b[39m\u001b[39m만\u001b[39m\u001b[39m\"\u001b[39m)\n",
      "\u001b[1;31mValueError\u001b[0m: invalid literal for int() with base 10: '\"3'"
     ]
    }
   ],
   "source": [
    "with open(\"singer2.csv\",\"r\",encoding=\"euc-kr\") as inFp:\n",
    "    header = inFp.readline()\n",
    "    header = header.strip()\n",
    "    print(header)\n",
    "    header_list = header.split(',')\n",
    "    print(header_list[1], header_list[6])\n",
    "    for inStr in inFp:\n",
    "        inStr = inStr.strip()\n",
    "        row_list = inStr.split(',')\n",
    "        print(row_list)\n",
    "        youtube = int(row_list[6])\n",
    "        youtube = int(youtube/10000)\n",
    "        print(row_list[0], str(youtube) + \"만\")"
   ]
  },
  {
   "cell_type": "code",
   "execution_count": 5,
   "metadata": {},
   "outputs": [
    {
     "name": "stdout",
     "output_type": "stream",
     "text": [
      "['아이디', '이름', '인원', '주소', '평균 키', '데뷔 일자', '유튜브 조회수']\n",
      "이름 유튜브 조회수\n",
      "트와이스 333만\n",
      "블랙핑크 44만\n",
      "여자친구 0만\n",
      "오마이걸 0만\n",
      "소녀시대 111만\n",
      "있지 2만\n",
      "레드벨벳 4만\n",
      "에이핑크 0만\n",
      "우주소녀 0만\n",
      "마마무 0만\n"
     ]
    }
   ],
   "source": [
    "import csv\n",
    "\n",
    "with open(\"singer2.csv\",\"r\",encoding=\"euc-kr\") as inFp:\n",
    "    csvR = csv.reader(inFp)  #csv 전용 리더기\n",
    "    header_list = next(csvR) #next == 리스트로 반환함\n",
    "    print(header_list)\n",
    "    print(header_list[1],header_list[6])\n",
    "    for row_list in csvR:\n",
    "        youtube = int(row_list[6].replace(',',''))\n",
    "        youtube = int(youtube/10000)\n",
    "        print(row_list[1],str(youtube)+\"만\")"
   ]
  },
  {
   "cell_type": "code",
   "execution_count": 9,
   "metadata": {},
   "outputs": [
    {
     "name": "stdout",
     "output_type": "stream",
     "text": [
      "['아이디', '이름', '인원', '주소', '국번', '전화 번호', '평균 키', '데뷔 일자']\n",
      "['ITZ', '있지', '5', '경남', '', '', '167', '2019.02.12']\n",
      "['MMU', '마마무', '4', '전남', '061', '99999999', '165', '2014.06.19']\n",
      "['TWC', '트와이스', '9', '서울', '02', '11111111', '167', '2015.10.19']\n",
      "['WMN', '여자친구', '6', '경기', '031', '33333333', '166', '2015.01.15']\n",
      "['GRL', '소녀시대', '8', '서울', '02', '44444444', '168', '2007.08.02']\n",
      "save\n"
     ]
    }
   ],
   "source": [
    "import csv\n",
    "\n",
    "with open(\"singerA.csv\",\"r\",encoding=\"euc-kr\") as inFpA:\n",
    "    with open(\"singerB.csv\",\"r\",encoding=\"euc-kr\") as inFpB:\n",
    "        with open(\"singer165.csv\",\"w\",encoding=\"euc-kr\",newline='') as outFp:\n",
    "            csvRA = csv.reader(inFpA)\n",
    "            csvRB = csv.reader(inFpB)\n",
    "            csvwriter = csv.writer(outFp)\n",
    "            header_list = next(csvRA)\n",
    "            header_list = next(csvRB)\n",
    "            print(header_list)\n",
    "            csvwriter.writerow(header_list)\n",
    "\n",
    "            for row_list in csvRA:\n",
    "                if int(row_list[6]) >= 165:\n",
    "                    print(row_list)\n",
    "                    csvwriter.writerow(row_list)\n",
    "            for row_list in csvRB:\n",
    "                if int(row_list[6]) >= 165:    \n",
    "                    print(row_list)\n",
    "                    csvwriter.writerow(row_list)\n",
    "print('save')"
   ]
  },
  {
   "cell_type": "code",
   "execution_count": 10,
   "metadata": {},
   "outputs": [],
   "source": [
    "from tkinter import *\n",
    "\n",
    "def makesheet(r,w):\n",
    "    retlist =[]\n",
    "    for i in range(0,r):\n",
    "        tmplist = []\n",
    "        for k in range(0,w):\n",
    "            ent = Entry(window, text='',width = 10)\n",
    "            ent.grid(row=i,column=k)\n",
    "            tmplist.append(ent)\n",
    "        retlist.append(tmplist)\n",
    "    return retlist\n",
    "#전역변수\n",
    "csvlist = [['제목1','제목2','제목3'],\n",
    "           [111,222,333],\n",
    "           [444,555,666],\n",
    "           [777,888,999]]\n",
    "rownum, colnum = 4, 3\n",
    "worksheet = []\n",
    "#메인코드\n",
    "window = Tk()\n",
    "worksheet = makesheet(rownum,colnum)\n",
    "\n",
    "#워크시트에 리스트값 채우기\n",
    "for i in range(0,rownum):\n",
    "    for k in range(0,colnum):\n",
    "        worksheet[i][k].insert(0,csvlist[i][k])\n",
    "\n",
    "window.mainloop()"
   ]
  },
  {
   "cell_type": "code",
   "execution_count": 16,
   "metadata": {},
   "outputs": [
    {
     "name": "stdout",
     "output_type": "stream",
     "text": [
      "최고기온이 가장 높았던 날 1994-07-24로, 38.4도 였습니다.\n"
     ]
    }
   ],
   "source": [
    "import csv\n",
    "max_temp = -999\n",
    "max_date = ''\n",
    "f = open('seoul.csv',encoding=\"euc-kr\")\n",
    "data = csv.reader(f)\n",
    "header = next(data)\n",
    "for row in data:\n",
    "    if row[-1] == '':\n",
    "        row[-1] = -999\n",
    "    row[-1] = float(row[-1])\n",
    "    if max_temp < row[-1]:\n",
    "        max_date = row[0]\n",
    "        max_temp = row[-1]\n",
    "f.close()\n",
    "print(f'최고기온이 가장 높았던 날 {max_date}로, {max_temp}도 였습니다.' )"
   ]
  }
 ],
 "metadata": {
  "kernelspec": {
   "display_name": "test_venv",
   "language": "python",
   "name": "python3"
  },
  "language_info": {
   "codemirror_mode": {
    "name": "ipython",
    "version": 3
   },
   "file_extension": ".py",
   "mimetype": "text/x-python",
   "name": "python",
   "nbconvert_exporter": "python",
   "pygments_lexer": "ipython3",
   "version": "3.8.18"
  },
  "orig_nbformat": 4
 },
 "nbformat": 4,
 "nbformat_minor": 2
}
