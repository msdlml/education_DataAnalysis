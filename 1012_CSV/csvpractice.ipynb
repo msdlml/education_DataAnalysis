{
 "cells": [
  {
   "cell_type": "code",
   "execution_count": 50,
   "metadata": {},
   "outputs": [],
   "source": [
    "import csv\n",
    "from tkinter import *\n",
    "\n",
    "csvlist =[]\n",
    "\n",
    "f = open(\"apart.csv\",\"r\",encoding=\"euc-kr\")\n",
    "csvR = csv.reader(f)  #csv 전용 리더기\n",
    "header_list = next(csvR) #next == 리스트로 반환함\n",
    "csvlist.append([header_list[0],header_list[4],header_list[6],header_list[8]])\n",
    "for row_list in csvR:\n",
    "    if '구로구' in row_list[0] and int(row_list[8].replace(',','')) >= 10000 and int(row_list[6]) > 202301:\n",
    "        csvlist.append([row_list[0],row_list[4],row_list[6],row_list[8]])\n",
    "\n",
    "def makesheet(r,w):\n",
    "    retlist =[]\n",
    "    for i in range(0,r):\n",
    "        tmplist = []\n",
    "        for k in range(0,w):           \n",
    "            if i != 0 and int(csvlist[i][3].replace(',','')) >= 50000:\n",
    "                ent = Entry(window, text='',width = 30, bg = \"red\")\n",
    "            else:             \n",
    "                ent = Entry(window, text='',width = 30)\n",
    "            ent.grid(row=i,column=k)\n",
    "            tmplist.append(ent)\n",
    "        retlist.append(tmplist)\n",
    "    return retlist\n",
    "\n",
    "rownum = len(csvlist)\n",
    "colnum = 4\n",
    "worksheet = []\n",
    "window = Tk()\n",
    "\n",
    "worksheet = makesheet(rownum,colnum)\n",
    "\n",
    "for i in range(0,rownum):\n",
    "    for k in range(0,colnum):\n",
    "        worksheet[i][k].insert(0,csvlist[i][k])\n",
    "\n",
    "window.mainloop()\n",
    "f.close()"
   ]
  },
  {
   "cell_type": "code",
   "execution_count": null,
   "metadata": {},
   "outputs": [],
   "source": []
  }
 ],
 "metadata": {
  "kernelspec": {
   "display_name": "test_venv",
   "language": "python",
   "name": "python3"
  },
  "language_info": {
   "codemirror_mode": {
    "name": "ipython",
    "version": 3
   },
   "file_extension": ".py",
   "mimetype": "text/x-python",
   "name": "python",
   "nbconvert_exporter": "python",
   "pygments_lexer": "ipython3",
   "version": "3.8.18"
  },
  "orig_nbformat": 4
 },
 "nbformat": 4,
 "nbformat_minor": 2
}
