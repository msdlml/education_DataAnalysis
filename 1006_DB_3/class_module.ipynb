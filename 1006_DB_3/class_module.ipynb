{
 "cells": [
  {
   "cell_type": "code",
   "execution_count": 3,
   "metadata": {},
   "outputs": [],
   "source": [
    "class Addr:\n",
    "    def __init__(self):\n",
    "        \n",
    "        self.addr_list = []\n",
    "\n",
    "    def input_list(self):\n",
    "        while True:\n",
    "            name = input(\"이름:\")\n",
    "            age = input(\"나이:\")\n",
    "            addr = input(\"주소:\")\n",
    "            self.addr_list.append({\"name\":name, \"age\":age, \"addr\":addr})\n",
    "            keep_going = input(\"계속 하시겠습니까(y/n)?\")\n",
    "            if keep_going == \"n\":\n",
    "                break\n",
    "    def print_list(self):\n",
    "        print(\"-\"*40)\n",
    "        print(\"\\t이름\\t나이\\t주소\")\n",
    "        print(\"-\"*40)\n",
    "        for n in self.addr_list:\n",
    "            print(\"\\t%(name)s\\t%(age)s\\t%(addr)s\"%n)\n",
    "\n",
    "    def search_name(self):\n",
    "        name = input(\"이름을 입력하세요 :\")\n",
    "        for n in self.addr_list:\n",
    "            if n[\"name\"] == name:\n",
    "                print(\"-\"*40)\n",
    "                print(\"\\t이름\\t나이\\t주소\")\n",
    "                print(\"-\"*40)\n",
    "                print(\"\\t%(name)s\\t%(age)s\\t%(addr)s\"%n)\n",
    "                break\n",
    "\n",
    "class main_class(Addr):\n",
    "    def get_menu_num():\n",
    "        print(\"메인메뉴)\",\"1.입력\",\"2.출력\",\"3.검색\",\"4.종료\", sep=\"\\n\\t\")\n",
    "        num = int(input(\"번호 입력하세요 : \"))\n",
    "        return num\n",
    "    \n",
    "    "
   ]
  },
  {
   "cell_type": "code",
   "execution_count": 13,
   "metadata": {},
   "outputs": [
    {
     "name": "stdout",
     "output_type": "stream",
     "text": [
      "메인메뉴)\n",
      "\t1.입력\n",
      "\t2.출력\n",
      "\t3.검색\n",
      "\t4.종료\n",
      "----------------------------------------\n",
      "\t이름\t나이\t주소\n",
      "----------------------------------------\n",
      "\t김멋사\t22\t30\n",
      "\t김민성\t25\t서울시 구로구\n",
      "\t호날두\t40\t포르투갈\n",
      "\t메시\t40\t아르헨티나\n",
      "메인메뉴)\n",
      "\t1.입력\n",
      "\t2.출력\n",
      "\t3.검색\n",
      "\t4.종료\n",
      "----------------------------------------\n",
      "\t이름\t나이\t주소\n",
      "----------------------------------------\n",
      "\t호날두\t40\t포르투갈\n",
      "메인메뉴)\n",
      "\t1.입력\n",
      "\t2.출력\n",
      "\t3.검색\n",
      "\t4.종료\n",
      "종료\n"
     ]
    },
    {
     "ename": "TypeError",
     "evalue": "main() takes 0 positional arguments but 1 was given",
     "output_type": "error",
     "traceback": [
      "\u001b[1;31m---------------------------------------------------------------------------\u001b[0m",
      "\u001b[1;31mTypeError\u001b[0m                                 Traceback (most recent call last)",
      "\u001b[1;32mc:\\Users\\user\\Desktop\\my_ws\\edu\\data_analysis\\1006_DB_3\\class_module.ipynb Cell 2\u001b[0m line \u001b[0;36m2\n\u001b[0;32m     <a href='vscode-notebook-cell:/c%3A/Users/user/Desktop/my_ws/edu/data_analysis/1006_DB_3/class_module.ipynb#W1sZmlsZQ%3D%3D?line=23'>24</a>\u001b[0m         main()        \n\u001b[0;32m     <a href='vscode-notebook-cell:/c%3A/Users/user/Desktop/my_ws/edu/data_analysis/1006_DB_3/class_module.ipynb#W1sZmlsZQ%3D%3D?line=25'>26</a>\u001b[0m info \u001b[39m=\u001b[39m sub()\n\u001b[1;32m---> <a href='vscode-notebook-cell:/c%3A/Users/user/Desktop/my_ws/edu/data_analysis/1006_DB_3/class_module.ipynb#W1sZmlsZQ%3D%3D?line=26'>27</a>\u001b[0m info\u001b[39m.\u001b[39;49mmain()\n",
      "\u001b[1;31mTypeError\u001b[0m: main() takes 0 positional arguments but 1 was given"
     ]
    }
   ],
   "source": [
    "\n",
    "class sub(Addr):\n",
    "    def main():\n",
    "        process_menu = {1:input_list, 2:print_list, 3:search_name}\n",
    "        while True:\n",
    "            menu_num = get_menu_num()\n",
    "            if menu_num == 4:\n",
    "                print(\"종료\")\n",
    "                break\n",
    "            process_menu[menu_num]()\n",
    "            \n",
    "    def search_name(self):\n",
    "        name = input(\"이름을 입력하세요 :\")\n",
    "        for n in self.addr_list:\n",
    "            if n[\"name\"] == name:\n",
    "                print(\"-\"*40)\n",
    "                print(\"\\t이름\\t나이\\t주소\")\n",
    "                print(\"-\"*40)\n",
    "                print(\"\\t%(name)s\\t%(age)s\\t%(addr)s\"%n)\n",
    "                break\n",
    "            else:\n",
    "                print(\"입력한 정보가 없습니다.\")\n",
    "\n",
    "    if __name__ == '__main__':\n",
    "        main()        \n",
    "    \n",
    "info = sub()\n",
    "info.main()\n"
   ]
  },
  {
   "cell_type": "code",
   "execution_count": null,
   "metadata": {},
   "outputs": [],
   "source": []
  }
 ],
 "metadata": {
  "kernelspec": {
   "display_name": "test_venv",
   "language": "python",
   "name": "python3"
  },
  "language_info": {
   "codemirror_mode": {
    "name": "ipython",
    "version": 3
   },
   "file_extension": ".py",
   "mimetype": "text/x-python",
   "name": "python",
   "nbconvert_exporter": "python",
   "pygments_lexer": "ipython3",
   "version": "3.8.18"
  },
  "orig_nbformat": 4
 },
 "nbformat": 4,
 "nbformat_minor": 2
}
