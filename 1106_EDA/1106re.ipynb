{
 "cells": [
  {
   "cell_type": "code",
   "execution_count": 2,
   "metadata": {},
   "outputs": [
    {
     "name": "stdout",
     "output_type": "stream",
     "text": [
      "<class 'pandas.core.frame.DataFrame'>\n",
      "RangeIndex: 191 entries, 0 to 190\n",
      "Data columns (total 21 columns):\n",
      " #   Column    Non-Null Count  Dtype  \n",
      "---  ------    --------------  -----  \n",
      " 0   선수명       191 non-null    object \n",
      " 1   팀명        191 non-null    object \n",
      " 2   경기        191 non-null    int64  \n",
      " 3   타석        191 non-null    int64  \n",
      " 4   타수        191 non-null    int64  \n",
      " 5   안타        191 non-null    int64  \n",
      " 6   홈런        191 non-null    int64  \n",
      " 7   득점        191 non-null    int64  \n",
      " 8   타점        191 non-null    int64  \n",
      " 9   볼넷        191 non-null    int64  \n",
      " 10  삼진        191 non-null    int64  \n",
      " 11  도루        191 non-null    int64  \n",
      " 12  BABIP     191 non-null    object \n",
      " 13  타율        191 non-null    float64\n",
      " 14  출루율       191 non-null    float64\n",
      " 15  장타율       191 non-null    float64\n",
      " 16  OPS       191 non-null    float64\n",
      " 17  wOBA      191 non-null    float64\n",
      " 18  WAR       191 non-null    float64\n",
      " 19  연봉(2018)  191 non-null    int64  \n",
      " 20  연봉(2017)  191 non-null    int64  \n",
      "dtypes: float64(6), int64(12), object(3)\n",
      "memory usage: 31.5+ KB\n"
     ]
    },
    {
     "data": {
      "text/html": [
       "<div>\n",
       "<style scoped>\n",
       "    .dataframe tbody tr th:only-of-type {\n",
       "        vertical-align: middle;\n",
       "    }\n",
       "\n",
       "    .dataframe tbody tr th {\n",
       "        vertical-align: top;\n",
       "    }\n",
       "\n",
       "    .dataframe thead th {\n",
       "        text-align: right;\n",
       "    }\n",
       "</style>\n",
       "<table border=\"1\" class=\"dataframe\">\n",
       "  <thead>\n",
       "    <tr style=\"text-align: right;\">\n",
       "      <th></th>\n",
       "      <th>선수명</th>\n",
       "      <th>팀명</th>\n",
       "      <th>경기</th>\n",
       "      <th>타석</th>\n",
       "      <th>타수</th>\n",
       "      <th>안타</th>\n",
       "      <th>홈런</th>\n",
       "      <th>득점</th>\n",
       "      <th>타점</th>\n",
       "      <th>볼넷</th>\n",
       "      <th>...</th>\n",
       "      <th>도루</th>\n",
       "      <th>BABIP</th>\n",
       "      <th>타율</th>\n",
       "      <th>출루율</th>\n",
       "      <th>장타율</th>\n",
       "      <th>OPS</th>\n",
       "      <th>wOBA</th>\n",
       "      <th>WAR</th>\n",
       "      <th>연봉(2018)</th>\n",
       "      <th>연봉(2017)</th>\n",
       "    </tr>\n",
       "  </thead>\n",
       "  <tbody>\n",
       "    <tr>\n",
       "      <th>0</th>\n",
       "      <td>최정</td>\n",
       "      <td>SK</td>\n",
       "      <td>130</td>\n",
       "      <td>527</td>\n",
       "      <td>430</td>\n",
       "      <td>136</td>\n",
       "      <td>46</td>\n",
       "      <td>89</td>\n",
       "      <td>113</td>\n",
       "      <td>70</td>\n",
       "      <td>...</td>\n",
       "      <td>1</td>\n",
       "      <td>0.316</td>\n",
       "      <td>0.316</td>\n",
       "      <td>0.427</td>\n",
       "      <td>0.684</td>\n",
       "      <td>1.111</td>\n",
       "      <td>0.442</td>\n",
       "      <td>7.30</td>\n",
       "      <td>120000</td>\n",
       "      <td>120000</td>\n",
       "    </tr>\n",
       "    <tr>\n",
       "      <th>1</th>\n",
       "      <td>최형우</td>\n",
       "      <td>KIA</td>\n",
       "      <td>142</td>\n",
       "      <td>629</td>\n",
       "      <td>514</td>\n",
       "      <td>176</td>\n",
       "      <td>26</td>\n",
       "      <td>98</td>\n",
       "      <td>120</td>\n",
       "      <td>96</td>\n",
       "      <td>...</td>\n",
       "      <td>0</td>\n",
       "      <td>0.362</td>\n",
       "      <td>0.342</td>\n",
       "      <td>0.450</td>\n",
       "      <td>0.576</td>\n",
       "      <td>1.026</td>\n",
       "      <td>0.430</td>\n",
       "      <td>7.20</td>\n",
       "      <td>150000</td>\n",
       "      <td>150000</td>\n",
       "    </tr>\n",
       "    <tr>\n",
       "      <th>2</th>\n",
       "      <td>박건우</td>\n",
       "      <td>두산</td>\n",
       "      <td>131</td>\n",
       "      <td>543</td>\n",
       "      <td>483</td>\n",
       "      <td>177</td>\n",
       "      <td>20</td>\n",
       "      <td>91</td>\n",
       "      <td>78</td>\n",
       "      <td>41</td>\n",
       "      <td>...</td>\n",
       "      <td>20</td>\n",
       "      <td>0.39</td>\n",
       "      <td>0.366</td>\n",
       "      <td>0.424</td>\n",
       "      <td>0.582</td>\n",
       "      <td>1.006</td>\n",
       "      <td>0.424</td>\n",
       "      <td>7.04</td>\n",
       "      <td>37000</td>\n",
       "      <td>19500</td>\n",
       "    </tr>\n",
       "    <tr>\n",
       "      <th>3</th>\n",
       "      <td>나성범</td>\n",
       "      <td>NC</td>\n",
       "      <td>125</td>\n",
       "      <td>561</td>\n",
       "      <td>498</td>\n",
       "      <td>173</td>\n",
       "      <td>24</td>\n",
       "      <td>103</td>\n",
       "      <td>99</td>\n",
       "      <td>48</td>\n",
       "      <td>...</td>\n",
       "      <td>17</td>\n",
       "      <td>0.413</td>\n",
       "      <td>0.347</td>\n",
       "      <td>0.415</td>\n",
       "      <td>0.584</td>\n",
       "      <td>0.999</td>\n",
       "      <td>0.416</td>\n",
       "      <td>5.64</td>\n",
       "      <td>43000</td>\n",
       "      <td>35000</td>\n",
       "    </tr>\n",
       "    <tr>\n",
       "      <th>4</th>\n",
       "      <td>손아섭</td>\n",
       "      <td>롯데</td>\n",
       "      <td>144</td>\n",
       "      <td>667</td>\n",
       "      <td>576</td>\n",
       "      <td>193</td>\n",
       "      <td>20</td>\n",
       "      <td>113</td>\n",
       "      <td>80</td>\n",
       "      <td>83</td>\n",
       "      <td>...</td>\n",
       "      <td>25</td>\n",
       "      <td>0.374</td>\n",
       "      <td>0.335</td>\n",
       "      <td>0.420</td>\n",
       "      <td>0.514</td>\n",
       "      <td>0.934</td>\n",
       "      <td>0.398</td>\n",
       "      <td>5.60</td>\n",
       "      <td>150000</td>\n",
       "      <td>65000</td>\n",
       "    </tr>\n",
       "  </tbody>\n",
       "</table>\n",
       "<p>5 rows × 21 columns</p>\n",
       "</div>"
      ],
      "text/plain": [
       "   선수명   팀명   경기   타석   타수   안타  홈런   득점   타점  볼넷  ...  도루  BABIP     타율  \\\n",
       "0   최정   SK  130  527  430  136  46   89  113  70  ...   1  0.316  0.316   \n",
       "1  최형우  KIA  142  629  514  176  26   98  120  96  ...   0  0.362  0.342   \n",
       "2  박건우   두산  131  543  483  177  20   91   78  41  ...  20   0.39  0.366   \n",
       "3  나성범   NC  125  561  498  173  24  103   99  48  ...  17  0.413  0.347   \n",
       "4  손아섭   롯데  144  667  576  193  20  113   80  83  ...  25  0.374  0.335   \n",
       "\n",
       "     출루율    장타율    OPS   wOBA   WAR  연봉(2018)  연봉(2017)  \n",
       "0  0.427  0.684  1.111  0.442  7.30    120000    120000  \n",
       "1  0.450  0.576  1.026  0.430  7.20    150000    150000  \n",
       "2  0.424  0.582  1.006  0.424  7.04     37000     19500  \n",
       "3  0.415  0.584  0.999  0.416  5.64     43000     35000  \n",
       "4  0.420  0.514  0.934  0.398  5.60    150000     65000  \n",
       "\n",
       "[5 rows x 21 columns]"
      ]
     },
     "execution_count": 2,
     "metadata": {},
     "output_type": "execute_result"
    }
   ],
   "source": [
    "import pandas as pd\n",
    "import seaborn as sns\n",
    "import matplotlib.pyplot as plt\n",
    "import numpy as np\n",
    "\n",
    "\n",
    "bat = pd.read_csv('batter_stats_2017.csv')\n",
    "pit = pd.read_csv('picher_stats_2017.csv')\n",
    "bat.head()\n",
    "bat.info()\n",
    "bat.head()"
   ]
  },
  {
   "cell_type": "code",
   "execution_count": 3,
   "metadata": {},
   "outputs": [
    {
     "name": "stderr",
     "output_type": "stream",
     "text": [
      "c:\\Users\\user\\anaconda3\\envs\\test_venv\\lib\\site-packages\\seaborn\\utils.py:84: UserWarning: Glyph 53440 (\\N{HANGUL SYLLABLE TA}) missing from current font.\n",
      "  fig.canvas.draw()\n",
      "c:\\Users\\user\\anaconda3\\envs\\test_venv\\lib\\site-packages\\seaborn\\utils.py:84: UserWarning: Glyph 50984 (\\N{HANGUL SYLLABLE YUL}) missing from current font.\n",
      "  fig.canvas.draw()\n",
      "c:\\Users\\user\\anaconda3\\envs\\test_venv\\lib\\site-packages\\seaborn\\utils.py:84: UserWarning: Glyph 50672 (\\N{HANGUL SYLLABLE YEON}) missing from current font.\n",
      "  fig.canvas.draw()\n",
      "c:\\Users\\user\\anaconda3\\envs\\test_venv\\lib\\site-packages\\seaborn\\utils.py:84: UserWarning: Glyph 48393 (\\N{HANGUL SYLLABLE BONG}) missing from current font.\n",
      "  fig.canvas.draw()\n"
     ]
    },
    {
     "data": {
      "text/plain": [
       "<Axes: >"
      ]
     },
     "execution_count": 3,
     "metadata": {},
     "output_type": "execute_result"
    },
    {
     "name": "stderr",
     "output_type": "stream",
     "text": [
      "c:\\Users\\user\\anaconda3\\envs\\test_venv\\lib\\site-packages\\IPython\\core\\events.py:89: UserWarning: Glyph 53440 (\\N{HANGUL SYLLABLE TA}) missing from current font.\n",
      "  func(*args, **kwargs)\n",
      "c:\\Users\\user\\anaconda3\\envs\\test_venv\\lib\\site-packages\\IPython\\core\\events.py:89: UserWarning: Glyph 50984 (\\N{HANGUL SYLLABLE YUL}) missing from current font.\n",
      "  func(*args, **kwargs)\n",
      "c:\\Users\\user\\anaconda3\\envs\\test_venv\\lib\\site-packages\\IPython\\core\\events.py:89: UserWarning: Glyph 50672 (\\N{HANGUL SYLLABLE YEON}) missing from current font.\n",
      "  func(*args, **kwargs)\n",
      "c:\\Users\\user\\anaconda3\\envs\\test_venv\\lib\\site-packages\\IPython\\core\\events.py:89: UserWarning: Glyph 48393 (\\N{HANGUL SYLLABLE BONG}) missing from current font.\n",
      "  func(*args, **kwargs)\n",
      "c:\\Users\\user\\anaconda3\\envs\\test_venv\\lib\\site-packages\\IPython\\core\\pylabtools.py:152: UserWarning: Glyph 53440 (\\N{HANGUL SYLLABLE TA}) missing from current font.\n",
      "  fig.canvas.print_figure(bytes_io, **kw)\n",
      "c:\\Users\\user\\anaconda3\\envs\\test_venv\\lib\\site-packages\\IPython\\core\\pylabtools.py:152: UserWarning: Glyph 50984 (\\N{HANGUL SYLLABLE YUL}) missing from current font.\n",
      "  fig.canvas.print_figure(bytes_io, **kw)\n",
      "c:\\Users\\user\\anaconda3\\envs\\test_venv\\lib\\site-packages\\IPython\\core\\pylabtools.py:152: UserWarning: Glyph 50672 (\\N{HANGUL SYLLABLE YEON}) missing from current font.\n",
      "  fig.canvas.print_figure(bytes_io, **kw)\n",
      "c:\\Users\\user\\anaconda3\\envs\\test_venv\\lib\\site-packages\\IPython\\core\\pylabtools.py:152: UserWarning: Glyph 48393 (\\N{HANGUL SYLLABLE BONG}) missing from current font.\n",
      "  fig.canvas.print_figure(bytes_io, **kw)\n"
     ]
    },
    {
     "data": {
      "image/png": "[encoded data removed]",
      "text/plain": [
       "<Figure size 640x480 with 2 Axes>"
      ]
     },
     "metadata": {},
     "output_type": "display_data"
    }
   ],
   "source": [
    "bat[['타율','연봉(2018)']].corr()\n",
    "sns.heatmap(bat[['타율','연봉(2018)']].corr(),annot=True)\n"
   ]
  },
  {
   "cell_type": "code",
   "execution_count": 4,
   "metadata": {},
   "outputs": [
    {
     "name": "stderr",
     "output_type": "stream",
     "text": [
      "c:\\Users\\user\\anaconda3\\envs\\test_venv\\lib\\site-packages\\seaborn\\utils.py:84: UserWarning: Glyph 8722 (\\N{MINUS SIGN}) missing from current font.\n",
      "  fig.canvas.draw()\n"
     ]
    },
    {
     "data": {
      "text/plain": [
       "<Axes: >"
      ]
     },
     "execution_count": 4,
     "metadata": {},
     "output_type": "execute_result"
    },
    {
     "name": "stderr",
     "output_type": "stream",
     "text": [
      "c:\\Users\\user\\anaconda3\\envs\\test_venv\\lib\\site-packages\\IPython\\core\\events.py:89: UserWarning: Glyph 8722 (\\N{MINUS SIGN}) missing from current font.\n",
      "  func(*args, **kwargs)\n",
      "c:\\Users\\user\\anaconda3\\envs\\test_venv\\lib\\site-packages\\IPython\\core\\pylabtools.py:152: UserWarning: Glyph 8722 (\\N{MINUS SIGN}) missing from current font.\n",
      "  fig.canvas.print_figure(bytes_io, **kw)\n"
     ]
    },
    {
     "data": {
      "image/png": "[encoded data removed]",
      "text/plain": [
       "<Figure size 640x480 with 2 Axes>"
      ]
     },
     "metadata": {},
     "output_type": "display_data"
    }
   ],
   "source": [
    "pit[['연봉(2018)','ERA']].corr()\n",
    "plt.rc('font', family='Malgun Gothic')\n",
    "sns.heatmap(pit[['연봉(2018)','ERA']].corr(),annot=True)"
   ]
  },
  {
   "cell_type": "code",
   "execution_count": 5,
   "metadata": {},
   "outputs": [
    {
     "data": {
      "text/html": [
       "<div>\n",
       "<style scoped>\n",
       "    .dataframe tbody tr th:only-of-type {\n",
       "        vertical-align: middle;\n",
       "    }\n",
       "\n",
       "    .dataframe tbody tr th {\n",
       "        vertical-align: top;\n",
       "    }\n",
       "\n",
       "    .dataframe thead th {\n",
       "        text-align: right;\n",
       "    }\n",
       "</style>\n",
       "<table border=\"1\" class=\"dataframe\">\n",
       "  <thead>\n",
       "    <tr style=\"text-align: right;\">\n",
       "      <th></th>\n",
       "      <th>선수명</th>\n",
       "      <th>타율</th>\n",
       "    </tr>\n",
       "  </thead>\n",
       "  <tbody>\n",
       "    <tr>\n",
       "      <th>95</th>\n",
       "      <td>김주성</td>\n",
       "      <td>1.000</td>\n",
       "    </tr>\n",
       "    <tr>\n",
       "      <th>91</th>\n",
       "      <td>노관현</td>\n",
       "      <td>0.500</td>\n",
       "    </tr>\n",
       "    <tr>\n",
       "      <th>5</th>\n",
       "      <td>김선빈</td>\n",
       "      <td>0.370</td>\n",
       "    </tr>\n",
       "    <tr>\n",
       "      <th>2</th>\n",
       "      <td>박건우</td>\n",
       "      <td>0.366</td>\n",
       "    </tr>\n",
       "    <tr>\n",
       "      <th>7</th>\n",
       "      <td>박민우</td>\n",
       "      <td>0.363</td>\n",
       "    </tr>\n",
       "    <tr>\n",
       "      <th>...</th>\n",
       "      <td>...</td>\n",
       "      <td>...</td>\n",
       "    </tr>\n",
       "    <tr>\n",
       "      <th>125</th>\n",
       "      <td>이인행</td>\n",
       "      <td>0.000</td>\n",
       "    </tr>\n",
       "    <tr>\n",
       "      <th>120</th>\n",
       "      <td>이우성</td>\n",
       "      <td>0.000</td>\n",
       "    </tr>\n",
       "    <tr>\n",
       "      <th>115</th>\n",
       "      <td>최병연</td>\n",
       "      <td>0.000</td>\n",
       "    </tr>\n",
       "    <tr>\n",
       "      <th>113</th>\n",
       "      <td>정주후</td>\n",
       "      <td>0.000</td>\n",
       "    </tr>\n",
       "    <tr>\n",
       "      <th>109</th>\n",
       "      <td>강구성</td>\n",
       "      <td>0.000</td>\n",
       "    </tr>\n",
       "  </tbody>\n",
       "</table>\n",
       "<p>191 rows × 2 columns</p>\n",
       "</div>"
      ],
      "text/plain": [
       "     선수명     타율\n",
       "95   김주성  1.000\n",
       "91   노관현  0.500\n",
       "5    김선빈  0.370\n",
       "2    박건우  0.366\n",
       "7    박민우  0.363\n",
       "..   ...    ...\n",
       "125  이인행  0.000\n",
       "120  이우성  0.000\n",
       "115  최병연  0.000\n",
       "113  정주후  0.000\n",
       "109  강구성  0.000\n",
       "\n",
       "[191 rows x 2 columns]"
      ]
     },
     "execution_count": 5,
     "metadata": {},
     "output_type": "execute_result"
    }
   ],
   "source": [
    "hit_rank = bat[['선수명','타율']].sort_values(by='타율',ascending=0)\n",
    "hit_rank"
   ]
  },
  {
   "cell_type": "code",
   "execution_count": 6,
   "metadata": {},
   "outputs": [
    {
     "data": {
      "image/png": "[encoded data removed]",
      "text/plain": [
       "<Figure size 640x480 with 1 Axes>"
      ]
     },
     "metadata": {},
     "output_type": "display_data"
    }
   ],
   "source": [
    "rank = hit_rank[\"타율\"]\n",
    "x_pos = np.arange(len(hit_rank))\n",
    "\n",
    "plt.bar(x_pos,rank)\n",
    "plt.xlabel('person')\n",
    "plt.ylabel('hit rate')\n",
    "plt.show()"
   ]
  },
  {
   "cell_type": "code",
   "execution_count": 24,
   "metadata": {},
   "outputs": [
    {
     "data": {
      "image/png": "[encoded data removed]",
      "text/plain": [
       "<Figure size 640x480 with 1 Axes>"
      ]
     },
     "metadata": {},
     "output_type": "display_data"
    }
   ],
   "source": [
    "barlist = plt.bar(x_pos,rank)\n",
    "name = hit_rank['선수명'].tolist()\n",
    "person = name.index('나지완')\n",
    "barlist[person].set_color('r')\n",
    "\n",
    "plt.annotate(f'Jiwan {person+1} th', xy=(person, rank.values[person]), xytext=(person+40, rank.values[person]+0.1), arrowprops={\"facecolor\": \"red\"})\n",
    "plt.xlabel('person')\n",
    "plt.ylabel('hit rate')\n",
    "plt.title('Hit Rate Rank')\n",
    "plt.show()"
   ]
  },
  {
   "cell_type": "code",
   "execution_count": 8,
   "metadata": {},
   "outputs": [
    {
     "name": "stderr",
     "output_type": "stream",
     "text": [
      "C:\\Users\\user\\AppData\\Local\\Temp\\ipykernel_460\\2522603232.py:2: SettingWithCopyWarning: \n",
      "A value is trying to be set on a copy of a slice from a DataFrame.\n",
      "Try using .loc[row_indexer,col_indexer] = value instead\n",
      "\n",
      "See the caveats in the documentation: https://pandas.pydata.org/pandas-docs/stable/user_guide/indexing.html#returning-a-view-versus-a-copy\n",
      "  batter['연봉증가율'] = bat['연봉(2018)'] / bat['연봉(2017)']\n",
      "C:\\Users\\user\\AppData\\Local\\Temp\\ipykernel_460\\2522603232.py:4: SettingWithCopyWarning: \n",
      "A value is trying to be set on a copy of a slice from a DataFrame.\n",
      "Try using .loc[row_indexer,col_indexer] = value instead\n",
      "\n",
      "See the caveats in the documentation: https://pandas.pydata.org/pandas-docs/stable/user_guide/indexing.html#returning-a-view-versus-a-copy\n",
      "  pitcher['연봉증가율'] = pit['연봉(2018)'] / pit['연봉(2017)']\n"
     ]
    }
   ],
   "source": [
    "batter = bat[['팀명','선수명','연봉(2018)','연봉(2017)']]\n",
    "batter['연봉증가율'] = bat['연봉(2018)'] / bat['연봉(2017)']\n",
    "pitcher = pit[['팀명','선수명','연봉(2018)','연봉(2017)']]\n",
    "pitcher['연봉증가율'] = pit['연봉(2018)'] / pit['연봉(2017)']"
   ]
  },
  {
   "cell_type": "code",
   "execution_count": 9,
   "metadata": {},
   "outputs": [
    {
     "name": "stdout",
     "output_type": "stream",
     "text": [
      "<class 'pandas.core.frame.DataFrame'>\n",
      "RangeIndex: 191 entries, 0 to 190\n",
      "Data columns (total 5 columns):\n",
      " #   Column    Non-Null Count  Dtype  \n",
      "---  ------    --------------  -----  \n",
      " 0   팀명        191 non-null    object \n",
      " 1   선수명       191 non-null    object \n",
      " 2   연봉(2018)  191 non-null    int64  \n",
      " 3   연봉(2017)  191 non-null    int64  \n",
      " 4   연봉증가율     191 non-null    float64\n",
      "dtypes: float64(1), int64(2), object(2)\n",
      "memory usage: 7.6+ KB\n"
     ]
    }
   ],
   "source": [
    "batter.info()\n",
    "\n"
   ]
  },
  {
   "cell_type": "code",
   "execution_count": 10,
   "metadata": {},
   "outputs": [
    {
     "name": "stdout",
     "output_type": "stream",
     "text": [
      "<class 'pandas.core.frame.DataFrame'>\n",
      "RangeIndex: 152 entries, 0 to 151\n",
      "Data columns (total 5 columns):\n",
      " #   Column    Non-Null Count  Dtype  \n",
      "---  ------    --------------  -----  \n",
      " 0   팀명        152 non-null    object \n",
      " 1   선수명       152 non-null    object \n",
      " 2   연봉(2018)  152 non-null    int64  \n",
      " 3   연봉(2017)  152 non-null    int64  \n",
      " 4   연봉증가율     152 non-null    float64\n",
      "dtypes: float64(1), int64(2), object(2)\n",
      "memory usage: 6.1+ KB\n"
     ]
    }
   ],
   "source": [
    "pitcher.info()"
   ]
  },
  {
   "cell_type": "code",
   "execution_count": 11,
   "metadata": {},
   "outputs": [
    {
     "name": "stdout",
     "output_type": "stream",
     "text": [
      "<class 'pandas.core.frame.DataFrame'>\n",
      "Index: 343 entries, 0 to 151\n",
      "Data columns (total 5 columns):\n",
      " #   Column    Non-Null Count  Dtype  \n",
      "---  ------    --------------  -----  \n",
      " 0   팀명        343 non-null    object \n",
      " 1   선수명       343 non-null    object \n",
      " 2   연봉(2018)  343 non-null    int64  \n",
      " 3   연봉(2017)  343 non-null    int64  \n",
      " 4   연봉증가율     343 non-null    float64\n",
      "dtypes: float64(1), int64(2), object(2)\n",
      "memory usage: 16.1+ KB\n"
     ]
    },
    {
     "name": "stderr",
     "output_type": "stream",
     "text": [
      "C:\\Users\\user\\AppData\\Local\\Temp\\ipykernel_460\\3397221583.py:4: SettingWithCopyWarning: \n",
      "A value is trying to be set on a copy of a slice from a DataFrame\n",
      "\n",
      "See the caveats in the documentation: https://pandas.pydata.org/pandas-docs/stable/user_guide/indexing.html#returning-a-view-versus-a-copy\n",
      "  player['연봉(2017)'][player['선수명'] == '김민혁'] = 3000\n",
      "C:\\Users\\user\\AppData\\Local\\Temp\\ipykernel_460\\3397221583.py:5: SettingWithCopyWarning: \n",
      "A value is trying to be set on a copy of a slice from a DataFrame\n",
      "\n",
      "See the caveats in the documentation: https://pandas.pydata.org/pandas-docs/stable/user_guide/indexing.html#returning-a-view-versus-a-copy\n",
      "  player['연봉(2017)'][player['선수명'] == '최항'] = 4200\n"
     ]
    }
   ],
   "source": [
    "player = pd.concat([batter,pitcher])\n",
    "player.info()\n",
    "player.head()\n",
    "player['연봉(2017)'][player['선수명'] == '김민혁'] = 3000\n",
    "player['연봉(2017)'][player['선수명'] == '최항'] = 4200\n",
    "player['연봉증가율'] = player['연봉(2018)'] / player['연봉(2017)']"
   ]
  },
  {
   "cell_type": "code",
   "execution_count": 12,
   "metadata": {},
   "outputs": [],
   "source": [
    "player = player.sort_values('연봉증가율',ascending=False)"
   ]
  },
  {
   "cell_type": "code",
   "execution_count": 13,
   "metadata": {},
   "outputs": [
    {
     "data": {
      "text/html": [
       "<div>\n",
       "<style scoped>\n",
       "    .dataframe tbody tr th:only-of-type {\n",
       "        vertical-align: middle;\n",
       "    }\n",
       "\n",
       "    .dataframe tbody tr th {\n",
       "        vertical-align: top;\n",
       "    }\n",
       "\n",
       "    .dataframe thead th {\n",
       "        text-align: right;\n",
       "    }\n",
       "</style>\n",
       "<table border=\"1\" class=\"dataframe\">\n",
       "  <thead>\n",
       "    <tr style=\"text-align: right;\">\n",
       "      <th></th>\n",
       "      <th>팀명</th>\n",
       "      <th>선수명</th>\n",
       "      <th>연봉(2018)</th>\n",
       "      <th>연봉(2017)</th>\n",
       "      <th>연봉증가율</th>\n",
       "    </tr>\n",
       "  </thead>\n",
       "  <tbody>\n",
       "    <tr>\n",
       "      <th>12</th>\n",
       "      <td>KIA</td>\n",
       "      <td>임기영</td>\n",
       "      <td>13000</td>\n",
       "      <td>3100</td>\n",
       "      <td>4.193548</td>\n",
       "    </tr>\n",
       "    <tr>\n",
       "      <th>18</th>\n",
       "      <td>넥센</td>\n",
       "      <td>이정후</td>\n",
       "      <td>11000</td>\n",
       "      <td>2700</td>\n",
       "      <td>4.074074</td>\n",
       "    </tr>\n",
       "    <tr>\n",
       "      <th>5</th>\n",
       "      <td>KIA</td>\n",
       "      <td>김선빈</td>\n",
       "      <td>28000</td>\n",
       "      <td>8000</td>\n",
       "      <td>3.500000</td>\n",
       "    </tr>\n",
       "    <tr>\n",
       "      <th>133</th>\n",
       "      <td>KIA</td>\n",
       "      <td>김윤동</td>\n",
       "      <td>15000</td>\n",
       "      <td>4700</td>\n",
       "      <td>3.191489</td>\n",
       "    </tr>\n",
       "    <tr>\n",
       "      <th>31</th>\n",
       "      <td>KT</td>\n",
       "      <td>정현</td>\n",
       "      <td>7800</td>\n",
       "      <td>2800</td>\n",
       "      <td>2.785714</td>\n",
       "    </tr>\n",
       "    <tr>\n",
       "      <th>...</th>\n",
       "      <td>...</td>\n",
       "      <td>...</td>\n",
       "      <td>...</td>\n",
       "      <td>...</td>\n",
       "      <td>...</td>\n",
       "    </tr>\n",
       "    <tr>\n",
       "      <th>129</th>\n",
       "      <td>KIA</td>\n",
       "      <td>김진우</td>\n",
       "      <td>6000</td>\n",
       "      <td>12000</td>\n",
       "      <td>0.500000</td>\n",
       "    </tr>\n",
       "    <tr>\n",
       "      <th>135</th>\n",
       "      <td>한화</td>\n",
       "      <td>이용규</td>\n",
       "      <td>40000</td>\n",
       "      <td>90000</td>\n",
       "      <td>0.444444</td>\n",
       "    </tr>\n",
       "    <tr>\n",
       "      <th>45</th>\n",
       "      <td>NC</td>\n",
       "      <td>이종욱</td>\n",
       "      <td>20000</td>\n",
       "      <td>50000</td>\n",
       "      <td>0.400000</td>\n",
       "    </tr>\n",
       "    <tr>\n",
       "      <th>49</th>\n",
       "      <td>삼성</td>\n",
       "      <td>장원삼</td>\n",
       "      <td>20000</td>\n",
       "      <td>75000</td>\n",
       "      <td>0.266667</td>\n",
       "    </tr>\n",
       "    <tr>\n",
       "      <th>74</th>\n",
       "      <td>SK</td>\n",
       "      <td>이대수</td>\n",
       "      <td>7000</td>\n",
       "      <td>35000</td>\n",
       "      <td>0.200000</td>\n",
       "    </tr>\n",
       "  </tbody>\n",
       "</table>\n",
       "<p>343 rows × 5 columns</p>\n",
       "</div>"
      ],
      "text/plain": [
       "      팀명  선수명  연봉(2018)  연봉(2017)     연봉증가율\n",
       "12   KIA  임기영     13000      3100  4.193548\n",
       "18    넥센  이정후     11000      2700  4.074074\n",
       "5    KIA  김선빈     28000      8000  3.500000\n",
       "133  KIA  김윤동     15000      4700  3.191489\n",
       "31    KT   정현      7800      2800  2.785714\n",
       "..   ...  ...       ...       ...       ...\n",
       "129  KIA  김진우      6000     12000  0.500000\n",
       "135   한화  이용규     40000     90000  0.444444\n",
       "45    NC  이종욱     20000     50000  0.400000\n",
       "49    삼성  장원삼     20000     75000  0.266667\n",
       "74    SK  이대수      7000     35000  0.200000\n",
       "\n",
       "[343 rows x 5 columns]"
      ]
     },
     "execution_count": 13,
     "metadata": {},
     "output_type": "execute_result"
    }
   ],
   "source": [
    "player"
   ]
  },
  {
   "cell_type": "code",
   "execution_count": 14,
   "metadata": {},
   "outputs": [
    {
     "data": {
      "image/png": "[encoded data removed]",
      "text/plain": [
       "<Figure size 640x480 with 1 Axes>"
      ]
     },
     "metadata": {},
     "output_type": "display_data"
    }
   ],
   "source": [
    "x_pos = np.arange(len(player))\n",
    "\n",
    "rank = player['연봉증가율']\n",
    "plt.bar(x_pos,rank)\n",
    "plt.show()"
   ]
  },
  {
   "cell_type": "code",
   "execution_count": 15,
   "metadata": {},
   "outputs": [
    {
     "data": {
      "image/png": "[encoded data removed]",
      "text/plain": [
       "<Figure size 640x480 with 1 Axes>"
      ]
     },
     "metadata": {},
     "output_type": "display_data"
    }
   ],
   "source": [
    "barlist = plt.bar(x_pos,rank)\n",
    "name = player['선수명'].tolist()\n",
    "rank1 = player['연봉증가율'].to_list()\n",
    "favorite = name.index('손아섭')\n",
    "barlist[favorite].set_color('r')\n",
    "\n",
    "plt.annotate(f'손아섭 {rank1[favorite]:.2f} 배', xy=(favorite, rank.values[favorite]), xytext=(favorite+20, rank.values[favorite]+0.2), arrowprops={\"facecolor\": \"red\"}) \n",
    "plt.title('KBO 연봉증가율 그래프')\n",
    "plt.ylabel('연봉증가율')\n",
    "plt.xlabel('선수 숫자')\n",
    "plt.show()"
   ]
  },
  {
   "cell_type": "code",
   "execution_count": 16,
   "metadata": {},
   "outputs": [
    {
     "name": "stderr",
     "output_type": "stream",
     "text": [
      "c:\\Users\\user\\anaconda3\\envs\\test_venv\\lib\\site-packages\\IPython\\core\\pylabtools.py:152: UserWarning: Glyph 8722 (\\N{MINUS SIGN}) missing from current font.\n",
      "  fig.canvas.print_figure(bytes_io, **kw)\n"
     ]
    },
    {
     "data": {
      "image/png": "[encoded data removed]",
      "text/plain": [
       "<Figure size 640x480 with 1 Axes>"
      ]
     },
     "metadata": {},
     "output_type": "display_data"
    }
   ],
   "source": [
    "\n",
    "name = player['선수명'].tolist()\n",
    "player['연봉증가율'] = (player['연봉(2018)'] - player['연봉(2017)']) / player['연봉(2017)'] * 100\n",
    "rank1 = player['연봉증가율'].to_list()\n",
    "favorite = name.index('손아섭')\n",
    "barlist = plt.bar(x_pos,rank1)\n",
    "barlist[favorite].set_color('r')\n",
    "\n",
    "plt.annotate(f'손아섭 {rank1[favorite]:.1f} %', xy=(favorite, rank.values[favorite]), xytext=(favorite+20, rank.values[favorite]-20), arrowprops={\"facecolor\": \"red\"}) \n",
    "plt.title('KBO 연봉증가율 그래프')\n",
    "plt.ylabel('연봉증가율')\n",
    "plt.xlabel('선수 숫자')\n",
    "plt.show()"
   ]
  },
  {
   "cell_type": "code",
   "execution_count": null,
   "metadata": {},
   "outputs": [],
   "source": []
  }
 ],
 "metadata": {
  "kernelspec": {
   "display_name": "test_venv",
   "language": "python",
   "name": "python3"
  },
  "language_info": {
   "codemirror_mode": {
    "name": "ipython",
    "version": 3
   },
   "file_extension": ".py",
   "mimetype": "text/x-python",
   "name": "python",
   "nbconvert_exporter": "python",
   "pygments_lexer": "ipython3",
   "version": "3.8.18"
  },
  "orig_nbformat": 4
 },
 "nbformat": 4,
 "nbformat_minor": 2
}
