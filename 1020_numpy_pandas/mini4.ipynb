{
 "cells": [
  {
   "cell_type": "code",
   "execution_count": 25,
   "metadata": {},
   "outputs": [
    {
     "name": "stdout",
     "output_type": "stream",
     "text": [
      "<class 'list'>\n"
     ]
    }
   ],
   "source": [
    "f = open('friends101.txt','r')\n",
    "f1 = open('mini.txt','w')\n",
    "list1 = f.readlines()\n",
    "print(type(list1))\n",
    "list2 = [x for x in list1 if 'Monica:' in x]\n",
    "for x in list2:\n",
    "    f1.write(x)\n",
    "f.close()\n",
    "f1.close()"
   ]
  },
  {
   "cell_type": "code",
   "execution_count": 33,
   "metadata": {},
   "outputs": [],
   "source": [
    "import re\n",
    "f = open('friends101.txt','r')\n",
    "f1 = open('person.txt','w')\n",
    "scr = f.read()\n",
    "\n",
    "name = [x[:-1] for x in list(set(re.findall(r'[A-Z][a-z]+:',scr)))]\n",
    "\n",
    "name.remove('Note')\n",
    "name.remove('All')\n",
    "name.remove('Scene')\n",
    "\n",
    "for i in name:\n",
    "    f1.write(i+'\\n')\n",
    "\n",
    "f.close()\n",
    "f1.close()\n",
    "\n",
    "\n"
   ]
  },
  {
   "cell_type": "code",
   "execution_count": null,
   "metadata": {},
   "outputs": [],
   "source": []
  }
 ],
 "metadata": {
  "kernelspec": {
   "display_name": "test_venv",
   "language": "python",
   "name": "python3"
  },
  "language_info": {
   "codemirror_mode": {
    "name": "ipython",
    "version": 3
   },
   "file_extension": ".py",
   "mimetype": "text/x-python",
   "name": "python",
   "nbconvert_exporter": "python",
   "pygments_lexer": "ipython3",
   "version": "3.8.18"
  },
  "orig_nbformat": 4
 },
 "nbformat": 4,
 "nbformat_minor": 2
}
