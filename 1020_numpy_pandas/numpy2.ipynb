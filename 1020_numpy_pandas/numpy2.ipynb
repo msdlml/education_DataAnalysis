{
 "cells": [
  {
   "cell_type": "code",
   "execution_count": 2,
   "metadata": {},
   "outputs": [
    {
     "name": "stdout",
     "output_type": "stream",
     "text": [
      "[[126  57 146]\n",
      " [133  55 200]\n",
      " [199  82  26]]\n",
      "[[ 63  10  53]\n",
      " [ 13  35 160]\n",
      " [248  87  45]]\n",
      "[[ True False  True]\n",
      " [False False False]\n",
      " [False  True False]]\n"
     ]
    },
    {
     "data": {
      "text/plain": [
       "array([[126,  10, 146],\n",
       "       [ 13,  35, 160],\n",
       "       [248,  82,  45]])"
      ]
     },
     "execution_count": 2,
     "metadata": {},
     "output_type": "execute_result"
    }
   ],
   "source": [
    "import numpy as np\n",
    "\n",
    "arr1 = np.random.randint(0,255,size=(3,3))\n",
    "print(arr1)\n",
    "arr2 = np.random.randint(0,255,size=(3,3))\n",
    "print(arr2)\n",
    "carr = np.random.choice([True,False],size=(3,3))\n",
    "print(carr)\n",
    "np.where(carr,arr1,arr2)    ### carr가 True면 arr1을 출력, False라면 arr2를 출력"
   ]
  },
  {
   "cell_type": "code",
   "execution_count": 3,
   "metadata": {},
   "outputs": [
    {
     "name": "stdout",
     "output_type": "stream",
     "text": [
      "[[ -12  -33 -115]\n",
      " [  43  -17  121]\n",
      " [ -18  114  103]]\n",
      "[[  0   0   0]\n",
      " [ 43   0 121]\n",
      " [  0 114 103]]\n"
     ]
    }
   ],
   "source": [
    "arr = np.random.randint(-128, 127, size=(3,3))\n",
    "print (arr)\n",
    "print(np.where(arr < 0, 0, arr)) #where(조건,True값,False값)"
   ]
  },
  {
   "cell_type": "code",
   "execution_count": 4,
   "metadata": {},
   "outputs": [
    {
     "name": "stdout",
     "output_type": "stream",
     "text": [
      "[  4 214 212 124 249 196 105 121  62 179]\n",
      "1466\n",
      "146.6\n"
     ]
    }
   ],
   "source": [
    "arr = np.random.randint(0,255,size=10)\n",
    "\n",
    "print(arr)\n",
    "print(arr.sum()) #총 합\n",
    "print(arr.mean()) # 평균"
   ]
  },
  {
   "cell_type": "code",
   "execution_count": 6,
   "metadata": {},
   "outputs": [
    {
     "name": "stdout",
     "output_type": "stream",
     "text": [
      "[[ 47 180  12]\n",
      " [ 15 114 128]\n",
      " [192 216  47]]\n",
      "951\n",
      "[254 510 187]\n",
      "[239 257 455]\n"
     ]
    }
   ],
   "source": [
    "arr = np.random.randint(0,255,size=(3,3))\n",
    "\n",
    "print(arr)\n",
    "print(arr.sum())\n",
    "print(arr.sum(axis=0))  ### 열끼리 더함  세로의 합\n",
    "print(arr.sum(axis=1))  ### 행끼리 더함  가로의 합"
   ]
  },
  {
   "cell_type": "code",
   "execution_count": 10,
   "metadata": {},
   "outputs": [
    {
     "name": "stdout",
     "output_type": "stream",
     "text": [
      "[[ 63  89   9]\n",
      " [159  11 246]\n",
      " [ 96  98 235]]\n",
      "3\n",
      "9\n",
      "246\n",
      "[[  9  63  89]\n",
      " [ 11 159 246]\n",
      " [ 96  98 235]]\n",
      "[[ 96  98 235]\n",
      " [ 11 159 246]\n",
      " [  9  63  89]]\n"
     ]
    }
   ],
   "source": [
    "arr = np.random.randint(0,255,size=(3,3))\n",
    "print(arr)\n",
    "print((arr>128).sum()) # 조건이 True인 개수를 셈\n",
    "print(arr.min())\n",
    "print(arr.max())"
   ]
  },
  {
   "cell_type": "code",
   "execution_count": 12,
   "metadata": {},
   "outputs": [
    {
     "name": "stdout",
     "output_type": "stream",
     "text": [
      "[180 244 190  33  65  23 160 240 213 194]\n",
      "[ 23  33  65 160 180 190 194 213 240 244]\n",
      "[244 240 213 194 190 180 160  65  33  23]\n"
     ]
    }
   ],
   "source": [
    "arr = np.random.randint(0,255,size=10)\n",
    "print(arr)\n",
    "print(np.sort(arr))\n",
    "print(np.sort(arr)[::-1])"
   ]
  },
  {
   "cell_type": "code",
   "execution_count": 13,
   "metadata": {},
   "outputs": [
    {
     "name": "stdout",
     "output_type": "stream",
     "text": [
      "[0 8 3 5 5 6 6 7 6 0]\n",
      "[0 3 5 6 7 8]\n"
     ]
    }
   ],
   "source": [
    "arr = np.random.randint(0,9,size = 10)\n",
    "print (arr)\n",
    "print(np.unique(arr)) #<< 리스트에서 중복된 값을 제거해줌"
   ]
  },
  {
   "cell_type": "code",
   "execution_count": 15,
   "metadata": {},
   "outputs": [
    {
     "name": "stdout",
     "output_type": "stream",
     "text": [
      "[1 3 3 0 2 7 1 6 5 1]\n",
      "[8 8 5 1 7 1 7 0 0 0]\n",
      "[0 1 5 7]\n"
     ]
    }
   ],
   "source": [
    "arr1 = np.random.randint(0,9,size=10)\n",
    "arr2 = np.random.randint(0,9,size=10)\n",
    "print(arr1)\n",
    "print(arr2)\n",
    "print(np.intersect1d(arr1,arr2))  ### 두 배열의 교집합구하기"
   ]
  },
  {
   "cell_type": "code",
   "execution_count": 16,
   "metadata": {},
   "outputs": [
    {
     "name": "stdout",
     "output_type": "stream",
     "text": [
      "##리스트 처리시간:      16.27초\n",
      "##넘파이 처리시간 :       0.17 초\n"
     ]
    }
   ],
   "source": [
    "import random\n",
    "import time\n",
    "\n",
    "SIZE = 10000\n",
    "\n",
    "plist = [[random.randint(0,255)for _ in range(SIZE)]for _ in range(SIZE)]\n",
    "nparr = np.random.randint(0,255,size=(SIZE,SIZE))\n",
    "\n",
    "start = time.time()\n",
    "for i in range(SIZE):\n",
    "    for k in range(SIZE):\n",
    "        plist[i][k] = 255 - plist[i][k]\n",
    "end = time.time()\n",
    "print('##리스트 처리시간: %10.2f초' % (end - start))\n",
    "\n",
    "\n",
    "start = time.time()\n",
    "nparr = 255 - nparr\n",
    "end = time.time()\n",
    "print('##넘파이 처리시간 : %10.2f 초' % (end-start))"
   ]
  },
  {
   "cell_type": "code",
   "execution_count": null,
   "metadata": {},
   "outputs": [],
   "source": []
  }
 ],
 "metadata": {
  "kernelspec": {
   "display_name": "test_venv",
   "language": "python",
   "name": "python3"
  },
  "language_info": {
   "codemirror_mode": {
    "name": "ipython",
    "version": 3
   },
   "file_extension": ".py",
   "mimetype": "text/x-python",
   "name": "python",
   "nbconvert_exporter": "python",
   "pygments_lexer": "ipython3",
   "version": "3.8.18"
  },
  "orig_nbformat": 4
 },
 "nbformat": 4,
 "nbformat_minor": 2
}
