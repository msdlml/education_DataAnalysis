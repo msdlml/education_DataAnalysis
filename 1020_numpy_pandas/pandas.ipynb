{
 "cells": [
  {
   "cell_type": "code",
   "execution_count": 10,
   "metadata": {},
   "outputs": [
    {
     "name": "stdout",
     "output_type": "stream",
     "text": [
      "    이름  나이         생일\n",
      "하나  유정  30   1991.5.2\n",
      "둘   유나  28   1993.4.6\n",
      "셋   민영  31  1990.9.13\n",
      "넷   은지  29  1992.7.19\n",
      "이름          유나\n",
      "나이          28\n",
      "생일    1993.4.6\n",
      "Name: 둘, dtype: object\n"
     ]
    },
    {
     "data": {
      "text/plain": [
       "pandas.core.series.Series"
      ]
     },
     "execution_count": 10,
     "metadata": {},
     "output_type": "execute_result"
    }
   ],
   "source": [
    "import pandas as pd\n",
    "data = {'이름':['유정','유나','민영','은지'],\n",
    "        '나이':[30,28,31,29],\n",
    "        '생일':['1991.5.2','1993.4.6','1990.9.13','1992.7.19']}\n",
    "df1 = pd.DataFrame(data)\n",
    "df2 = pd.DataFrame(data,index = ['하나','둘','셋','넷'])\n",
    "\n",
    "print(df2)\n",
    "\n",
    "sr_name = df2['이름']\n",
    "sr_name.name = '브브걸'\n",
    "sr_two = df2.loc['둘']   ##loc는 문자열 ## iloc는 정수?\n",
    "\n",
    "print(sr_two)\n",
    "type(sr_two) #시리즈 "
   ]
  },
  {
   "cell_type": "code",
   "execution_count": 11,
   "metadata": {},
   "outputs": [
    {
     "data": {
      "text/plain": [
       "'1992.7.19'"
      ]
     },
     "execution_count": 11,
     "metadata": {},
     "output_type": "execute_result"
    }
   ],
   "source": [
    "df2.loc['넷']['생일']\n",
    "df2.loc['넷','생일']"
   ]
  },
  {
   "cell_type": "code",
   "execution_count": 16,
   "metadata": {},
   "outputs": [
    {
     "ename": "ValueError",
     "evalue": "cannot insert 꽃, already exists",
     "output_type": "error",
     "traceback": [
      "\u001b[1;31m---------------------------------------------------------------------------\u001b[0m",
      "\u001b[1;31mValueError\u001b[0m                                Traceback (most recent call last)",
      "\u001b[1;32m~\\AppData\\Local\\Temp\\ipykernel_12272\\86423748.py\u001b[0m in \u001b[0;36m?\u001b[1;34m()\u001b[0m\n\u001b[1;32m----> 5\u001b[1;33m \u001b[0mdf2\u001b[0m\u001b[1;33m[\u001b[0m\u001b[1;34m'키'\u001b[0m\u001b[1;33m]\u001b[0m \u001b[1;33m=\u001b[0m \u001b[1;33m[\u001b[0m\u001b[1;36m163\u001b[0m\u001b[1;33m,\u001b[0m\u001b[1;36m165\u001b[0m\u001b[1;33m,\u001b[0m\u001b[1;36m168\u001b[0m\u001b[1;33m,\u001b[0m\u001b[1;36m166\u001b[0m\u001b[1;33m]\u001b[0m\u001b[1;33m\u001b[0m\u001b[1;33m\u001b[0m\u001b[0m\n\u001b[0m\u001b[0;32m      6\u001b[0m \u001b[1;33m\u001b[0m\u001b[0m\n\u001b[0;32m      7\u001b[0m \u001b[0msr_vision\u001b[0m \u001b[1;33m=\u001b[0m \u001b[0mpd\u001b[0m\u001b[1;33m.\u001b[0m\u001b[0mSeries\u001b[0m\u001b[1;33m(\u001b[0m\u001b[1;33m[\u001b[0m\u001b[1;36m1.8\u001b[0m\u001b[1;33m,\u001b[0m\u001b[1;36m0.9\u001b[0m\u001b[1;33m,\u001b[0m\u001b[1;36m1.2\u001b[0m\u001b[1;33m]\u001b[0m\u001b[1;33m,\u001b[0m\u001b[0mindex\u001b[0m \u001b[1;33m=\u001b[0m \u001b[1;33m[\u001b[0m\u001b[1;34m'셋'\u001b[0m\u001b[1;33m,\u001b[0m\u001b[1;34m'하나'\u001b[0m\u001b[1;33m,\u001b[0m\u001b[1;34m'넷'\u001b[0m\u001b[1;33m]\u001b[0m\u001b[1;33m)\u001b[0m\u001b[1;33m\u001b[0m\u001b[1;33m\u001b[0m\u001b[0m\n\u001b[0;32m      8\u001b[0m \u001b[0mdf2\u001b[0m\u001b[1;33m[\u001b[0m\u001b[1;34m'시력'\u001b[0m\u001b[1;33m]\u001b[0m \u001b[1;33m=\u001b[0m \u001b[0msr_vision\u001b[0m\u001b[1;33m\u001b[0m\u001b[1;33m\u001b[0m\u001b[0m\n",
      "\u001b[1;32mc:\\Users\\user\\anaconda3\\envs\\test_venv\\lib\\site-packages\\pandas\\core\\frame.py\u001b[0m in \u001b[0;36m?\u001b[1;34m(self, loc, column, value, allow_duplicates)\u001b[0m\n\u001b[0;32m   4768\u001b[0m                 \u001b[1;34m\"'self.flags.allows_duplicate_labels' is False.\"\u001b[0m\u001b[1;33m\u001b[0m\u001b[1;33m\u001b[0m\u001b[0m\n\u001b[0;32m   4769\u001b[0m             )\n\u001b[0;32m   4770\u001b[0m         \u001b[1;32mif\u001b[0m \u001b[1;32mnot\u001b[0m \u001b[0mallow_duplicates\u001b[0m \u001b[1;32mand\u001b[0m \u001b[0mcolumn\u001b[0m \u001b[1;32min\u001b[0m \u001b[0mself\u001b[0m\u001b[1;33m.\u001b[0m\u001b[0mcolumns\u001b[0m\u001b[1;33m:\u001b[0m\u001b[1;33m\u001b[0m\u001b[1;33m\u001b[0m\u001b[0m\n\u001b[0;32m   4771\u001b[0m             \u001b[1;31m# Should this be a different kind of error??\u001b[0m\u001b[1;33m\u001b[0m\u001b[1;33m\u001b[0m\u001b[1;33m\u001b[0m\u001b[0m\n\u001b[1;32m-> 4772\u001b[1;33m             \u001b[1;32mraise\u001b[0m \u001b[0mValueError\u001b[0m\u001b[1;33m(\u001b[0m\u001b[1;34mf\"cannot insert {column}, already exists\"\u001b[0m\u001b[1;33m)\u001b[0m\u001b[1;33m\u001b[0m\u001b[1;33m\u001b[0m\u001b[0m\n\u001b[0m\u001b[0;32m   4773\u001b[0m         \u001b[1;32mif\u001b[0m \u001b[1;32mnot\u001b[0m \u001b[0misinstance\u001b[0m\u001b[1;33m(\u001b[0m\u001b[0mloc\u001b[0m\u001b[1;33m,\u001b[0m \u001b[0mint\u001b[0m\u001b[1;33m)\u001b[0m\u001b[1;33m:\u001b[0m\u001b[1;33m\u001b[0m\u001b[1;33m\u001b[0m\u001b[0m\n\u001b[0;32m   4774\u001b[0m             \u001b[1;32mraise\u001b[0m \u001b[0mTypeError\u001b[0m\u001b[1;33m(\u001b[0m\u001b[1;34m\"loc must be int\"\u001b[0m\u001b[1;33m)\u001b[0m\u001b[1;33m\u001b[0m\u001b[1;33m\u001b[0m\u001b[0m\n\u001b[0;32m   4775\u001b[0m \u001b[1;33m\u001b[0m\u001b[0m\n",
      "\u001b[1;31mValueError\u001b[0m: cannot insert 꽃, already exists"
     ]
    }
   ],
   "source": [
    "df2['키'] = [163,165,168,166]\n",
    "\n",
    "sr_vision = pd.Series([1.8,0.9,1.2],index = ['셋','하나','넷'])\n",
    "df2['시력'] = sr_vision\n",
    "df2.insert(1,'꽃',['장미','백합','튤립','데이지']) # 데이터 삽입\n",
    "df2.loc['다섯'] = ['재남','들꽃',33,'1998.8.8',177,1.1]\n",
    "print(df2)"
   ]
  },
  {
   "cell_type": "code",
   "execution_count": 17,
   "metadata": {},
   "outputs": [
    {
     "name": "stdout",
     "output_type": "stream",
     "text": [
      "    이름    꽃  나이         생일    키   시력\n",
      "하나  유정   장미  30   1991.5.2  163  0.9\n",
      "둘   유나   백합  28   1993.4.6  165  NaN\n",
      "셋   민영   튤립  31  1990.9.13  168  1.8\n",
      "넷   은지  데이지  29  1992.7.19  166  1.2\n",
      "다섯  재남   들꽃  33   1998.8.8  177  1.1\n"
     ]
    }
   ],
   "source": [
    "df2.loc['다섯'] = ['재남','들꽃',33,'1998.8.8',177,1.1] # 행추가!\n",
    "print(df2)"
   ]
  },
  {
   "cell_type": "code",
   "execution_count": 18,
   "metadata": {},
   "outputs": [
    {
     "name": "stdout",
     "output_type": "stream",
     "text": [
      "    이름    꽃  나이         생일    키   시력\n",
      "하나  유정   장미  30   1991.5.2  163  0.9\n",
      "둘   유나   백합  28   1993.4.6  165  NaN\n",
      "셋   민영   튤립  31  1990.9.13  168  1.8\n",
      "넷   은지  데이지  29  1992.7.19  166  1.2\n",
      "다섯  재남   들꽃  33   1998.8.8  177  1.1\n",
      "여섯  보라  민들레  34        NaN  163  NaN\n"
     ]
    }
   ],
   "source": [
    "df2.loc['여섯'] = {'이름':'보라','꽃':'민들레','키':163,'나이':34}\n",
    "print(df2)"
   ]
  },
  {
   "cell_type": "code",
   "execution_count": 19,
   "metadata": {},
   "outputs": [
    {
     "name": "stdout",
     "output_type": "stream",
     "text": [
      "    이름  나이\n",
      "블핑  리사  23\n",
      "블핑  제니  22\n",
      "    이름    꽃  나이         생일      키   시력\n",
      "하나  유정   장미  30   1991.5.2  163.0  0.9\n",
      "둘   유나   백합  28   1993.4.6  165.0  NaN\n",
      "셋   민영   튤립  31  1990.9.13  168.0  1.8\n",
      "넷   은지  데이지  29  1992.7.19  166.0  1.2\n",
      "다섯  재남   들꽃  33   1998.8.8  177.0  1.1\n",
      "여섯  보라  민들레  34        NaN  163.0  NaN\n",
      "블핑  리사  NaN  23        NaN    NaN  NaN\n",
      "블핑  제니  NaN  22        NaN    NaN  NaN\n"
     ]
    }
   ],
   "source": [
    "new_data = {'이름':['리사','제니'],'나이':[23,22]}\n",
    "new_df = pd.DataFrame(new_data, index=['블핑','블핑'])\n",
    "print(new_df)\n",
    "df2 = pd.concat([df2,new_df]) #한번에 여러행 추가 (데이터 프레입 합치는건가?) df2에 new_df를 추가\n",
    "print(df2)"
   ]
  },
  {
   "cell_type": "code",
   "execution_count": 23,
   "metadata": {},
   "outputs": [
    {
     "name": "stdout",
     "output_type": "stream",
     "text": [
      "    이름  나이         생일\n",
      "둘   유나  28   1993.4.6\n",
      "넷   은지  29  1992.7.19\n",
      "다섯  재남  33   1998.8.8\n",
      "여섯  보라  34        NaN\n"
     ]
    }
   ],
   "source": [
    "#df2 = df2.drop(['키'],axis=1) 열에 있는 '키' 삭제\n",
    "#df2 = df2.drop(['셋'],axis=0)\n",
    "df2 = df2.drop(['꽃','시력'],axis=1)\n",
    "df2 = df2.drop(['블핑','하나']) ## axis 생략하면 행으로 설정됨 키값이 같은건 모두 삭제함\n",
    "print(df2)"
   ]
  },
  {
   "cell_type": "code",
   "execution_count": 47,
   "metadata": {},
   "outputs": [
    {
     "name": "stdout",
     "output_type": "stream",
     "text": [
      "       이름  인원       데뷔 일자\n",
      "WMN  여자친구   6  2015.01.15\n",
      "GRL  소녀시대   8  2007.08.02\n",
      "RED  레드벨벳   4  2014.08.01\n",
      "APN  에이핑크   6  2011.02.10\n",
      "MMU   마마무   4  2014.06.19\n"
     ]
    },
    {
     "data": {
      "text/html": [
       "<div>\n",
       "<style scoped>\n",
       "    .dataframe tbody tr th:only-of-type {\n",
       "        vertical-align: middle;\n",
       "    }\n",
       "\n",
       "    .dataframe tbody tr th {\n",
       "        vertical-align: top;\n",
       "    }\n",
       "\n",
       "    .dataframe thead th {\n",
       "        text-align: right;\n",
       "    }\n",
       "</style>\n",
       "<table border=\"1\" class=\"dataframe\">\n",
       "  <thead>\n",
       "    <tr style=\"text-align: right;\">\n",
       "      <th></th>\n",
       "      <th>인원</th>\n",
       "      <th>데뷔 일자</th>\n",
       "    </tr>\n",
       "  </thead>\n",
       "  <tbody>\n",
       "    <tr>\n",
       "      <th>WMN</th>\n",
       "      <td>6</td>\n",
       "      <td>2015.01.15</td>\n",
       "    </tr>\n",
       "    <tr>\n",
       "      <th>MMU</th>\n",
       "      <td>4</td>\n",
       "      <td>2014.06.19</td>\n",
       "    </tr>\n",
       "    <tr>\n",
       "      <th>ABC</th>\n",
       "      <td>1</td>\n",
       "      <td>NaN</td>\n",
       "    </tr>\n",
       "  </tbody>\n",
       "</table>\n",
       "</div>"
      ],
      "text/plain": [
       "     인원       데뷔 일자\n",
       "WMN   6  2015.01.15\n",
       "MMU   4  2014.06.19\n",
       "ABC   1         NaN"
      ]
     },
     "execution_count": 47,
     "metadata": {},
     "output_type": "execute_result"
    }
   ],
   "source": [
    "import pandas as pd\n",
    "data = {'이름':['여자친구','소녀시대','레드벨벳','에이핑크','마마무'],\n",
    "        '인원':[6,8,4,6,4],\n",
    "        '데뷔 일자':['2015.01.15','2007.08.02','2014.08.01','2011.02.10','2014.06.19']}\n",
    "\n",
    "df1 = pd.DataFrame(data,index=['WMN','GRL','RED','APN','MMU'])\n",
    "\n",
    "print(df1)\n",
    "\n",
    "df1 = df1.drop(['이름'], axis=1,)\n",
    "df1 = df1.drop(['GRL','RED','APN'])\n",
    "df1.loc['ABC'] = {'인원':1,'데뷔일자':'2020.03.03'}\n",
    "\n",
    "df1\n",
    "\n",
    "\n",
    "\n"
   ]
  },
  {
   "cell_type": "code",
   "execution_count": 1,
   "metadata": {},
   "outputs": [
    {
     "name": "stdout",
     "output_type": "stream",
     "text": [
      "다현     60\n",
      "정연     80\n",
      "쯔위    100\n",
      "사나    120\n",
      "dtype: int64 \n",
      "\n",
      "다현    21.0\n",
      "모모     NaN\n",
      "사나    62.0\n",
      "재남     NaN\n",
      "정연     NaN\n",
      "쯔위     NaN\n",
      "dtype: float64\n"
     ]
    }
   ],
   "source": [
    "import pandas as pd\n",
    "\n",
    "sr1 = pd.Series( [ 10, 20, 30, 40], index = [ '다현', '정연', '쯔위', '사나' ] )\n",
    "sr2 = pd.Series( [ 50, 60, 70, 80], index = [ '다현', '정연', '쯔위', '사나' ] )\n",
    "sr3 = pd.Series( [ 11, 22, 33, 44], index = [ '다현', '사나', '모모', '재남' ])\n",
    "\n",
    "sr12 = sr1 + sr2\n",
    "print(sr12, '\\n')\n",
    "\n",
    "sr13 = sr1 + sr3  ##짝이 안맞으면 계산할 때 결측처리함 >> NaN\n",
    "print(sr13)\n"
   ]
  },
  {
   "cell_type": "code",
   "execution_count": 1,
   "metadata": {},
   "outputs": [
    {
     "data": {
      "image/png": "[encoded data removed]",
      "text/plain": [
       "<Figure size 640x480 with 1 Axes>"
      ]
     },
     "metadata": {},
     "output_type": "display_data"
    }
   ],
   "source": [
    "import numpy as np\n",
    "import matplotlib.pyplot as plt\n",
    "\n",
    "x = ['1st', '2nd', '3rd','4th','5th']\n",
    "x_value = np.array([1,2,3,4,5])\n",
    "y1 = np.array([90, 28, 75, 58, 78])\n",
    "y2 = np.array([80,80,50,40,90])\n",
    "y3 = np.array([40,50,90,90,60])\n",
    "\n",
    "plt.bar(x_value,y1,color='red',width=0.1,label = 'DaHyun')\n",
    "plt.bar(x_value + 0.2, y2, color='green',width=0.1,label = 'junyeon')\n",
    "plt.bar(x_value + 0.4, y3, color='blue',width=0.1,label = 'yeon')\n",
    "plt.xticks(x_value+0.2,x)\n",
    "plt.legend(loc='upper left')\n",
    "plt.show()\n"
   ]
  },
  {
   "cell_type": "code",
   "execution_count": 5,
   "metadata": {},
   "outputs": [
    {
     "data": {
      "image/png": "[encoded data removed]",
      "text/plain": [
       "<Figure size 640x480 with 2 Axes>"
      ]
     },
     "metadata": {},
     "output_type": "display_data"
    }
   ],
   "source": [
    "SIZE = 30\n",
    "x_value = np.random.rand(SIZE)\n",
    "y_value = np.random.rand(SIZE)\n",
    "sizearr = (50 * np.random.rand(SIZE))**2\n",
    "colorarr = np.random.rand(SIZE)\n",
    "\n",
    "plt.scatter(x_value,y_value,s=sizearr,c=colorarr,alpha = 0.5, cmap='spring')\n",
    "plt.colorbar()\n",
    "plt.show ()"
   ]
  },
  {
   "cell_type": "code",
   "execution_count": 6,
   "metadata": {},
   "outputs": [
    {
     "name": "stdout",
     "output_type": "stream",
     "text": [
      "    가  나  다\n",
      "서울  0  1  2\n",
      "부산  3  4  5\n",
      "광주  6  7  8 \n",
      "\n",
      "    가   다   라\n",
      "고양  0   1   2\n",
      "서울  3   4   5\n",
      "광주  6   7   8\n",
      "인천  9  10  11 \n",
      "\n",
      "       가   나     다   라\n",
      "고양   NaN NaN   NaN NaN\n",
      "광주  12.0 NaN  15.0 NaN\n",
      "부산   NaN NaN   NaN NaN\n",
      "서울   3.0 NaN   6.0 NaN\n",
      "인천   NaN NaN   NaN NaN\n"
     ]
    }
   ],
   "source": [
    "import pandas as pd\n",
    "\n",
    "d1 = np.arange(9).reshape(3,3)\n",
    "d2 = np.arange(12).reshape(4,3)\n",
    "df1 = pd.DataFrame(d1, columns=list('가나다'), index=['서울','부산','광주'])\n",
    "df2 = pd.DataFrame(d2, columns=list('가다라'), index=['고양','서울','광주','인천'])\n",
    "print(df1,'\\n')\n",
    "print(df2,'\\n')\n",
    "\n",
    "newdf = df1 +df2\n",
    "print(newdf)"
   ]
  },
  {
   "cell_type": "code",
   "execution_count": 18,
   "metadata": {},
   "outputs": [
    {
     "data": {
      "image/png": "[encoded data removed]",
      "text/plain": [
       "<Figure size 640x480 with 1 Axes>"
      ]
     },
     "metadata": {},
     "output_type": "display_data"
    }
   ],
   "source": [
    "import numpy as np\n",
    "import matplotlib.pyplot as plt\n",
    "\n",
    "x = ['1st', '2nd', '3rd','4th','5th']\n",
    "x_value = np.array([1,2,3,4,5])\n",
    "y1 = np.array([90, 28, 75, 58, 78])\n",
    "y2 = np.array([80,80,50,40,90])\n",
    "y3 = np.array([40,50,90,90,60])\n",
    "\n",
    "plt.barh(x_value,y1,color='red',height=0.1,label = 'DaHyun')\n",
    "plt.barh(x_value+0.2,y2, color='green',height=0.1,label = 'junyeon')\n",
    "plt.barh(x_value+0.4,y3, color='blue',height=0.1,label = 'yeon')\n",
    "plt.yticks(x_value+0.2,x)\n",
    "plt.legend(loc='upper right')\n",
    "plt.show()"
   ]
  },
  {
   "cell_type": "code",
   "execution_count": null,
   "metadata": {},
   "outputs": [],
   "source": []
  }
 ],
 "metadata": {
  "kernelspec": {
   "display_name": "test_venv",
   "language": "python",
   "name": "python3"
  },
  "language_info": {
   "codemirror_mode": {
    "name": "ipython",
    "version": 3
   },
   "file_extension": ".py",
   "mimetype": "text/x-python",
   "name": "python",
   "nbconvert_exporter": "python",
   "pygments_lexer": "ipython3",
   "version": "3.8.18"
  },
  "orig_nbformat": 4
 },
 "nbformat": 4,
 "nbformat_minor": 2
}
