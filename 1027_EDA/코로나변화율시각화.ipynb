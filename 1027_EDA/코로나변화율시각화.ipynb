{
 "cells": [
  {
   "cell_type": "code",
   "execution_count": 2,
   "metadata": {},
   "outputs": [
    {
     "data": {
      "text/html": [
       "<div>\n",
       "<style scoped>\n",
       "    .dataframe tbody tr th:only-of-type {\n",
       "        vertical-align: middle;\n",
       "    }\n",
       "\n",
       "    .dataframe tbody tr th {\n",
       "        vertical-align: top;\n",
       "    }\n",
       "\n",
       "    .dataframe thead th {\n",
       "        text-align: right;\n",
       "    }\n",
       "</style>\n",
       "<table border=\"1\" class=\"dataframe\">\n",
       "  <thead>\n",
       "    <tr style=\"text-align: right;\">\n",
       "      <th></th>\n",
       "      <th>나이</th>\n",
       "      <th>성별</th>\n",
       "      <th>학교</th>\n",
       "    </tr>\n",
       "  </thead>\n",
       "  <tbody>\n",
       "    <tr>\n",
       "      <th>준서</th>\n",
       "      <td>15</td>\n",
       "      <td>남</td>\n",
       "      <td>덕영중</td>\n",
       "    </tr>\n",
       "    <tr>\n",
       "      <th>예은</th>\n",
       "      <td>17</td>\n",
       "      <td>여</td>\n",
       "      <td>수리중</td>\n",
       "    </tr>\n",
       "  </tbody>\n",
       "</table>\n",
       "</div>"
      ],
      "text/plain": [
       "    나이 성별   학교\n",
       "준서  15  남  덕영중\n",
       "예은  17  여  수리중"
      ]
     },
     "execution_count": 2,
     "metadata": {},
     "output_type": "execute_result"
    }
   ],
   "source": [
    "import pandas as pd\n",
    "school = pd.DataFrame([[15, '남', '덕영중'], [17, '여', '수리중']],\n",
    "index=['준서', '예은'],\n",
    "columns=['나이', '성별', '학교'])\n",
    "school"
   ]
  },
  {
   "cell_type": "code",
   "execution_count": 3,
   "metadata": {},
   "outputs": [
    {
     "name": "stdout",
     "output_type": "stream",
     "text": [
      "<class 'pandas.core.frame.DataFrame'>\n",
      "RangeIndex: 192301 entries, 0 to 192300\n",
      "Data columns (total 67 columns):\n",
      " #   Column                                      Non-Null Count   Dtype  \n",
      "---  ------                                      --------------   -----  \n",
      " 0   iso_code                                    192301 non-null  object \n",
      " 1   continent                                   181123 non-null  object \n",
      " 2   location                                    192301 non-null  object \n",
      " 3   date                                        192301 non-null  object \n",
      " 4   total_cases                                 184750 non-null  float64\n",
      " 5   new_cases                                   184508 non-null  float64\n",
      " 6   new_cases_smoothed                          183334 non-null  float64\n",
      " 7   total_deaths                                166260 non-null  float64\n",
      " 8   new_deaths                                  166241 non-null  float64\n",
      " 9   new_deaths_smoothed                         165078 non-null  float64\n",
      " 10  total_cases_per_million                     183898 non-null  float64\n",
      " 11  new_cases_per_million                       183656 non-null  float64\n",
      " 12  new_cases_smoothed_per_million              182487 non-null  float64\n",
      " 13  total_deaths_per_million                    165421 non-null  float64\n",
      " 14  new_deaths_per_million                      165402 non-null  float64\n",
      " 15  new_deaths_smoothed_per_million             164244 non-null  float64\n",
      " 16  reproduction_rate                           143384 non-null  float64\n",
      " 17  icu_patients                                25581 non-null   float64\n",
      " 18  icu_patients_per_million                    25581 non-null   float64\n",
      " 19  hosp_patients                               26818 non-null   float64\n",
      " 20  hosp_patients_per_million                   26818 non-null   float64\n",
      " 21  weekly_icu_admissions                       6252 non-null    float64\n",
      " 22  weekly_icu_admissions_per_million           6252 non-null    float64\n",
      " 23  weekly_hosp_admissions                      12463 non-null   float64\n",
      " 24  weekly_hosp_admissions_per_million          12463 non-null   float64\n",
      " 25  total_tests                                 77796 non-null   float64\n",
      " 26  new_tests                                   74090 non-null   float64\n",
      " 27  total_tests_per_thousand                    77796 non-null   float64\n",
      " 28  new_tests_per_thousand                      74090 non-null   float64\n",
      " 29  new_tests_smoothed                          101500 non-null  float64\n",
      " 30  new_tests_smoothed_per_thousand             101500 non-null  float64\n",
      " 31  positive_rate                               93607 non-null   float64\n",
      " 32  tests_per_case                              91844 non-null   float64\n",
      " 33  tests_units                                 104285 non-null  object \n",
      " 34  total_vaccinations                          52725 non-null   float64\n",
      " 35  people_vaccinated                           50207 non-null   float64\n",
      " 36  people_fully_vaccinated                     47700 non-null   float64\n",
      " 37  total_boosters                              24777 non-null   float64\n",
      " 38  new_vaccinations                            43231 non-null   float64\n",
      " 39  new_vaccinations_smoothed                   104052 non-null  float64\n",
      " 40  total_vaccinations_per_hundred              52725 non-null   float64\n",
      " 41  people_vaccinated_per_hundred               50207 non-null   float64\n",
      " 42  people_fully_vaccinated_per_hundred         47700 non-null   float64\n",
      " 43  total_boosters_per_hundred                  24777 non-null   float64\n",
      " 44  new_vaccinations_smoothed_per_million       104052 non-null  float64\n",
      " 45  new_people_vaccinated_smoothed              102973 non-null  float64\n",
      " 46  new_people_vaccinated_smoothed_per_hundred  102973 non-null  float64\n",
      " 47  stringency_index                            149839 non-null  float64\n",
      " 48  population                                  191132 non-null  float64\n",
      " 49  population_density                          171353 non-null  float64\n",
      " 50  median_age                                  158825 non-null  float64\n",
      " 51  aged_65_older                               157142 non-null  float64\n",
      " 52  aged_70_older                               157992 non-null  float64\n",
      " 53  gdp_per_capita                              157971 non-null  float64\n",
      " 54  extreme_poverty                             103125 non-null  float64\n",
      " 55  cardiovasc_death_rate                       158461 non-null  float64\n",
      " 56  diabetes_prevalence                         166210 non-null  float64\n",
      " 57  female_smokers                              119852 non-null  float64\n",
      " 58  male_smokers                                118209 non-null  float64\n",
      " 59  handwashing_facilities                      77857 non-null   float64\n",
      " 60  hospital_beds_per_thousand                  140598 non-null  float64\n",
      " 61  life_expectancy                             179837 non-null  float64\n",
      " 62  human_development_index                     154377 non-null  float64\n",
      " 63  excess_mortality_cumulative_absolute        6553 non-null    float64\n",
      " 64  excess_mortality_cumulative                 6553 non-null    float64\n",
      " 65  excess_mortality                            6553 non-null    float64\n",
      " 66  excess_mortality_cumulative_per_million     6553 non-null    float64\n",
      "dtypes: float64(62), object(5)\n",
      "memory usage: 98.3+ MB\n"
     ]
    },
    {
     "data": {
      "text/plain": [
       "Index(['iso_code', 'continent', 'location', 'date', 'total_cases', 'new_cases',\n",
       "       'new_cases_smoothed', 'total_deaths', 'new_deaths',\n",
       "       'new_deaths_smoothed', 'total_cases_per_million',\n",
       "       'new_cases_per_million', 'new_cases_smoothed_per_million',\n",
       "       'total_deaths_per_million', 'new_deaths_per_million',\n",
       "       'new_deaths_smoothed_per_million', 'reproduction_rate', 'icu_patients',\n",
       "       'icu_patients_per_million', 'hosp_patients',\n",
       "       'hosp_patients_per_million', 'weekly_icu_admissions',\n",
       "       'weekly_icu_admissions_per_million', 'weekly_hosp_admissions',\n",
       "       'weekly_hosp_admissions_per_million', 'total_tests', 'new_tests',\n",
       "       'total_tests_per_thousand', 'new_tests_per_thousand',\n",
       "       'new_tests_smoothed', 'new_tests_smoothed_per_thousand',\n",
       "       'positive_rate', 'tests_per_case', 'tests_units', 'total_vaccinations',\n",
       "       'people_vaccinated', 'people_fully_vaccinated', 'total_boosters',\n",
       "       'new_vaccinations', 'new_vaccinations_smoothed',\n",
       "       'total_vaccinations_per_hundred', 'people_vaccinated_per_hundred',\n",
       "       'people_fully_vaccinated_per_hundred', 'total_boosters_per_hundred',\n",
       "       'new_vaccinations_smoothed_per_million',\n",
       "       'new_people_vaccinated_smoothed',\n",
       "       'new_people_vaccinated_smoothed_per_hundred', 'stringency_index',\n",
       "       'population', 'population_density', 'median_age', 'aged_65_older',\n",
       "       'aged_70_older', 'gdp_per_capita', 'extreme_poverty',\n",
       "       'cardiovasc_death_rate', 'diabetes_prevalence', 'female_smokers',\n",
       "       'male_smokers', 'handwashing_facilities', 'hospital_beds_per_thousand',\n",
       "       'life_expectancy', 'human_development_index',\n",
       "       'excess_mortality_cumulative_absolute', 'excess_mortality_cumulative',\n",
       "       'excess_mortality', 'excess_mortality_cumulative_per_million'],\n",
       "      dtype='object')"
      ]
     },
     "execution_count": 3,
     "metadata": {},
     "output_type": "execute_result"
    }
   ],
   "source": [
    "import pandas as pd\n",
    "corona = pd.read_csv('owid-covid-data.csv')\n",
    "\n",
    "corona.head()\n",
    "corona.info()\n",
    "corona['population']\n",
    "corona.columns"
   ]
  },
  {
   "cell_type": "code",
   "execution_count": 4,
   "metadata": {},
   "outputs": [
    {
     "name": "stdout",
     "output_type": "stream",
     "text": [
      "<class 'pandas.core.frame.DataFrame'>\n",
      "RangeIndex: 192301 entries, 0 to 192300\n",
      "Data columns (total 5 columns):\n",
      " #   Column       Non-Null Count   Dtype  \n",
      "---  ------       --------------   -----  \n",
      " 0   iso_code     192301 non-null  object \n",
      " 1   location     192301 non-null  object \n",
      " 2   date         192301 non-null  object \n",
      " 3   total_cases  184750 non-null  float64\n",
      " 4   population   191132 non-null  float64\n",
      "dtypes: float64(2), object(3)\n",
      "memory usage: 7.3+ MB\n"
     ]
    },
    {
     "data": {
      "text/html": [
       "<div>\n",
       "<style scoped>\n",
       "    .dataframe tbody tr th:only-of-type {\n",
       "        vertical-align: middle;\n",
       "    }\n",
       "\n",
       "    .dataframe tbody tr th {\n",
       "        vertical-align: top;\n",
       "    }\n",
       "\n",
       "    .dataframe thead th {\n",
       "        text-align: right;\n",
       "    }\n",
       "</style>\n",
       "<table border=\"1\" class=\"dataframe\">\n",
       "  <thead>\n",
       "    <tr style=\"text-align: right;\">\n",
       "      <th></th>\n",
       "      <th>iso_code</th>\n",
       "      <th>location</th>\n",
       "      <th>date</th>\n",
       "      <th>total_cases</th>\n",
       "      <th>population</th>\n",
       "    </tr>\n",
       "  </thead>\n",
       "  <tbody>\n",
       "    <tr>\n",
       "      <th>0</th>\n",
       "      <td>AFG</td>\n",
       "      <td>Afghanistan</td>\n",
       "      <td>2020-02-24</td>\n",
       "      <td>5.0</td>\n",
       "      <td>39835428.0</td>\n",
       "    </tr>\n",
       "    <tr>\n",
       "      <th>1</th>\n",
       "      <td>AFG</td>\n",
       "      <td>Afghanistan</td>\n",
       "      <td>2020-02-25</td>\n",
       "      <td>5.0</td>\n",
       "      <td>39835428.0</td>\n",
       "    </tr>\n",
       "    <tr>\n",
       "      <th>2</th>\n",
       "      <td>AFG</td>\n",
       "      <td>Afghanistan</td>\n",
       "      <td>2020-02-26</td>\n",
       "      <td>5.0</td>\n",
       "      <td>39835428.0</td>\n",
       "    </tr>\n",
       "    <tr>\n",
       "      <th>3</th>\n",
       "      <td>AFG</td>\n",
       "      <td>Afghanistan</td>\n",
       "      <td>2020-02-27</td>\n",
       "      <td>5.0</td>\n",
       "      <td>39835428.0</td>\n",
       "    </tr>\n",
       "    <tr>\n",
       "      <th>4</th>\n",
       "      <td>AFG</td>\n",
       "      <td>Afghanistan</td>\n",
       "      <td>2020-02-28</td>\n",
       "      <td>5.0</td>\n",
       "      <td>39835428.0</td>\n",
       "    </tr>\n",
       "  </tbody>\n",
       "</table>\n",
       "</div>"
      ],
      "text/plain": [
       "  iso_code     location        date  total_cases  population\n",
       "0      AFG  Afghanistan  2020-02-24          5.0  39835428.0\n",
       "1      AFG  Afghanistan  2020-02-25          5.0  39835428.0\n",
       "2      AFG  Afghanistan  2020-02-26          5.0  39835428.0\n",
       "3      AFG  Afghanistan  2020-02-27          5.0  39835428.0\n",
       "4      AFG  Afghanistan  2020-02-28          5.0  39835428.0"
      ]
     },
     "execution_count": 4,
     "metadata": {},
     "output_type": "execute_result"
    }
   ],
   "source": [
    "# iso_code : 국제표준국가코드\n",
    "# location : 국가이름\n",
    "# date : 일자\n",
    "# total_class : 전체 확진자수\n",
    "# population : 인구\n",
    "header = ['iso_code','location','date','total_cases','population'] # 원하는 열 리스트 만들기\n",
    "corona = corona[header] # 원하는 열만 있는 데이터프레임 생성\n",
    "corona.info() #데이터프레임 정보\n",
    "corona.head() #데이터프레임 첫행부터 5줄 \n"
   ]
  },
  {
   "cell_type": "code",
   "execution_count": 5,
   "metadata": {},
   "outputs": [
    {
     "name": "stdout",
     "output_type": "stream",
     "text": [
      "<class 'pandas.core.frame.DataFrame'>\n",
      "Index: 1736 entries, 160818 to 182040\n",
      "Data columns (total 5 columns):\n",
      " #   Column       Non-Null Count  Dtype  \n",
      "---  ------       --------------  -----  \n",
      " 0   iso_code     1736 non-null   object \n",
      " 1   location     1736 non-null   object \n",
      " 2   date         1736 non-null   object \n",
      " 3   total_cases  1736 non-null   float64\n",
      " 4   population   1736 non-null   float64\n",
      "dtypes: float64(2), object(3)\n",
      "memory usage: 81.4+ KB\n"
     ]
    },
    {
     "data": {
      "text/html": [
       "<div>\n",
       "<style scoped>\n",
       "    .dataframe tbody tr th:only-of-type {\n",
       "        vertical-align: middle;\n",
       "    }\n",
       "\n",
       "    .dataframe tbody tr th {\n",
       "        vertical-align: top;\n",
       "    }\n",
       "\n",
       "    .dataframe thead th {\n",
       "        text-align: right;\n",
       "    }\n",
       "</style>\n",
       "<table border=\"1\" class=\"dataframe\">\n",
       "  <thead>\n",
       "    <tr style=\"text-align: right;\">\n",
       "      <th></th>\n",
       "      <th>iso_code</th>\n",
       "      <th>location</th>\n",
       "      <th>total_cases</th>\n",
       "      <th>population</th>\n",
       "    </tr>\n",
       "    <tr>\n",
       "      <th>date</th>\n",
       "      <th></th>\n",
       "      <th></th>\n",
       "      <th></th>\n",
       "      <th></th>\n",
       "    </tr>\n",
       "  </thead>\n",
       "  <tbody>\n",
       "    <tr>\n",
       "      <th>2020-01-22</th>\n",
       "      <td>KOR</td>\n",
       "      <td>South Korea</td>\n",
       "      <td>1.0</td>\n",
       "      <td>51305184.0</td>\n",
       "    </tr>\n",
       "    <tr>\n",
       "      <th>2020-01-23</th>\n",
       "      <td>KOR</td>\n",
       "      <td>South Korea</td>\n",
       "      <td>1.0</td>\n",
       "      <td>51305184.0</td>\n",
       "    </tr>\n",
       "    <tr>\n",
       "      <th>2020-01-24</th>\n",
       "      <td>KOR</td>\n",
       "      <td>South Korea</td>\n",
       "      <td>2.0</td>\n",
       "      <td>51305184.0</td>\n",
       "    </tr>\n",
       "    <tr>\n",
       "      <th>2020-01-25</th>\n",
       "      <td>KOR</td>\n",
       "      <td>South Korea</td>\n",
       "      <td>2.0</td>\n",
       "      <td>51305184.0</td>\n",
       "    </tr>\n",
       "    <tr>\n",
       "      <th>2020-01-26</th>\n",
       "      <td>KOR</td>\n",
       "      <td>South Korea</td>\n",
       "      <td>3.0</td>\n",
       "      <td>51305184.0</td>\n",
       "    </tr>\n",
       "  </tbody>\n",
       "</table>\n",
       "</div>"
      ],
      "text/plain": [
       "           iso_code     location  total_cases  population\n",
       "date                                                     \n",
       "2020-01-22      KOR  South Korea          1.0  51305184.0\n",
       "2020-01-23      KOR  South Korea          1.0  51305184.0\n",
       "2020-01-24      KOR  South Korea          2.0  51305184.0\n",
       "2020-01-25      KOR  South Korea          2.0  51305184.0\n",
       "2020-01-26      KOR  South Korea          3.0  51305184.0"
      ]
     },
     "execution_count": 5,
     "metadata": {},
     "output_type": "execute_result"
    }
   ],
   "source": [
    "corona = corona[(corona['iso_code'] == 'USA') | (corona['iso_code'] == 'KOR')] ## 두가지 조건걸때 괄호로 감싸주기\n",
    "corona.info()\n",
    "corona.duplicated() ##중복값 처리\n",
    "corona = corona.set_index('date') ## date 값을 인덱스로 설정하고 원래 열에 있던 date가 옮겨감.\n",
    "\n",
    "corona.head()\n",
    "\n",
    "\n"
   ]
  },
  {
   "cell_type": "code",
   "execution_count": 6,
   "metadata": {},
   "outputs": [
    {
     "data": {
      "text/plain": [
       "<bound method IndexOpsMixin.value_counts of date\n",
       "2020-01-22           1.0\n",
       "2020-01-23           1.0\n",
       "2020-01-24           2.0\n",
       "2020-01-25           2.0\n",
       "2020-01-26           3.0\n",
       "                 ...    \n",
       "2022-06-03    18153851.0\n",
       "2022-06-04    18163686.0\n",
       "2022-06-05    18168708.0\n",
       "2022-06-06    18174880.0\n",
       "2022-06-07    18188200.0\n",
       "Name: total_cases, Length: 868, dtype: float64>"
      ]
     },
     "execution_count": 6,
     "metadata": {},
     "output_type": "execute_result"
    }
   ],
   "source": [
    "corona['total_cases'][corona['iso_code']=='KOR'].value_counts\n",
    "#corona['total_cases'][corona['iso_code']=='USA'][-1]"
   ]
  },
  {
   "cell_type": "code",
   "execution_count": 7,
   "metadata": {},
   "outputs": [
    {
     "data": {
      "text/plain": [
       "Index(['2020-01-22', '2020-01-23', '2020-01-24', '2020-01-25', '2020-01-26',\n",
       "       '2020-01-27', '2020-01-28', '2020-01-29', '2020-01-30', '2020-01-31',\n",
       "       ...\n",
       "       '2022-05-29', '2022-05-30', '2022-05-31', '2022-06-01', '2022-06-02',\n",
       "       '2022-06-03', '2022-06-04', '2022-06-05', '2022-06-06', '2022-06-07'],\n",
       "      dtype='object', name='date', length=1736)"
      ]
     },
     "execution_count": 7,
     "metadata": {},
     "output_type": "execute_result"
    }
   ],
   "source": [
    "corona.index ## 색인정보 확인"
   ]
  },
  {
   "cell_type": "code",
   "execution_count": 8,
   "metadata": {},
   "outputs": [],
   "source": [
    "\n",
    "rate = round((corona['population'][corona['iso_code']=='USA'][0] / corona['population'][0]),2)\n",
    "# 한국인구 수 대비 미국인구 수 배율\n"
   ]
  },
  {
   "cell_type": "code",
   "execution_count": 9,
   "metadata": {},
   "outputs": [
    {
     "data": {
      "text/plain": [
       "18188200.0"
      ]
     },
     "execution_count": 9,
     "metadata": {},
     "output_type": "execute_result"
    }
   ],
   "source": [
    "corona['total_cases'][corona['iso_code']=='KOR'][-1]\n"
   ]
  },
  {
   "cell_type": "code",
   "execution_count": 10,
   "metadata": {},
   "outputs": [
    {
     "data": {
      "text/plain": [
       "<Axes: xlabel='date'>"
      ]
     },
     "execution_count": 10,
     "metadata": {},
     "output_type": "execute_result"
    },
    {
     "data": {
      "image/png": "[encoded data removed]",
      "text/plain": [
       "<Figure size 640x480 with 1 Axes>"
      ]
     },
     "metadata": {},
     "output_type": "display_data"
    }
   ],
   "source": [
    "import matplotlib.pyplot as plt\n",
    "final = pd.DataFrame(\n",
    "    {'KOR' : corona['total_cases'][corona['iso_code']=='KOR'] * rate\n",
    "     ,'USA' : corona['total_cases'][corona['iso_code']=='USA'] }, index = corona.index[:868]    \n",
    ")\n",
    "final['2022-01-01':].plot.line(rot=45)\n"
   ]
  },
  {
   "cell_type": "code",
   "execution_count": null,
   "metadata": {},
   "outputs": [],
   "source": []
  }
 ],
 "metadata": {
  "kernelspec": {
   "display_name": "test_venv",
   "language": "python",
   "name": "python3"
  },
  "language_info": {
   "codemirror_mode": {
    "name": "ipython",
    "version": 3
   },
   "file_extension": ".py",
   "mimetype": "text/x-python",
   "name": "python",
   "nbconvert_exporter": "python",
   "pygments_lexer": "ipython3",
   "version": "3.8.18"
  },
  "orig_nbformat": 4
 },
 "nbformat": 4,
 "nbformat_minor": 2
}
