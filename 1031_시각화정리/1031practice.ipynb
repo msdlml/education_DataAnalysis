{
 "cells": [
  {
   "cell_type": "code",
   "execution_count": 46,
   "metadata": {},
   "outputs": [],
   "source": [
    "import pandas as pd\n",
    "import matplotlib.pyplot as plt\n",
    "import seaborn as sns\n",
    "\n",
    "city = pd.read_csv('city.csv')\n"
   ]
  },
  {
   "cell_type": "code",
   "execution_count": 47,
   "metadata": {},
   "outputs": [],
   "source": [
    "city['dt'] = pd.to_datetime(city['dt'])"
   ]
  },
  {
   "cell_type": "code",
   "execution_count": 48,
   "metadata": {},
   "outputs": [
    {
     "data": {
      "text/html": [
       "<div>\n",
       "<style scoped>\n",
       "    .dataframe tbody tr th:only-of-type {\n",
       "        vertical-align: middle;\n",
       "    }\n",
       "\n",
       "    .dataframe tbody tr th {\n",
       "        vertical-align: top;\n",
       "    }\n",
       "\n",
       "    .dataframe thead th {\n",
       "        text-align: right;\n",
       "    }\n",
       "</style>\n",
       "<table border=\"1\" class=\"dataframe\">\n",
       "  <thead>\n",
       "    <tr style=\"text-align: right;\">\n",
       "      <th></th>\n",
       "      <th>dt</th>\n",
       "      <th>AverageTemperature</th>\n",
       "    </tr>\n",
       "  </thead>\n",
       "  <tbody>\n",
       "    <tr>\n",
       "      <th>count</th>\n",
       "      <td>239177</td>\n",
       "      <td>228175.000000</td>\n",
       "    </tr>\n",
       "    <tr>\n",
       "      <th>mean</th>\n",
       "      <td>1910-11-08 03:29:45.557976064</td>\n",
       "      <td>18.125969</td>\n",
       "    </tr>\n",
       "    <tr>\n",
       "      <th>min</th>\n",
       "      <td>1743-11-01 00:00:00</td>\n",
       "      <td>-26.772000</td>\n",
       "    </tr>\n",
       "    <tr>\n",
       "      <th>25%</th>\n",
       "      <td>1864-02-01 00:00:00</td>\n",
       "      <td>12.710000</td>\n",
       "    </tr>\n",
       "    <tr>\n",
       "      <th>50%</th>\n",
       "      <td>1914-02-01 00:00:00</td>\n",
       "      <td>20.428000</td>\n",
       "    </tr>\n",
       "    <tr>\n",
       "      <th>75%</th>\n",
       "      <td>1963-12-01 00:00:00</td>\n",
       "      <td>25.918000</td>\n",
       "    </tr>\n",
       "    <tr>\n",
       "      <th>max</th>\n",
       "      <td>2013-09-01 00:00:00</td>\n",
       "      <td>38.283000</td>\n",
       "    </tr>\n",
       "    <tr>\n",
       "      <th>std</th>\n",
       "      <td>NaN</td>\n",
       "      <td>10.024800</td>\n",
       "    </tr>\n",
       "  </tbody>\n",
       "</table>\n",
       "</div>"
      ],
      "text/plain": [
       "                                  dt  AverageTemperature\n",
       "count                         239177       228175.000000\n",
       "mean   1910-11-08 03:29:45.557976064           18.125969\n",
       "min              1743-11-01 00:00:00          -26.772000\n",
       "25%              1864-02-01 00:00:00           12.710000\n",
       "50%              1914-02-01 00:00:00           20.428000\n",
       "75%              1963-12-01 00:00:00           25.918000\n",
       "max              2013-09-01 00:00:00           38.283000\n",
       "std                              NaN           10.024800"
      ]
     },
     "execution_count": 48,
     "metadata": {},
     "output_type": "execute_result"
    }
   ],
   "source": [
    "city.describe()"
   ]
  },
  {
   "cell_type": "code",
   "execution_count": 49,
   "metadata": {},
   "outputs": [],
   "source": [
    "city['AverageTemperature']=city['AverageTemperature'].fillna(city['AverageTemperature'].mean())"
   ]
  },
  {
   "cell_type": "code",
   "execution_count": 50,
   "metadata": {},
   "outputs": [
    {
     "data": {
      "text/plain": [
       "<Axes: xlabel='AverageTemperature'>"
      ]
     },
     "execution_count": 50,
     "metadata": {},
     "output_type": "execute_result"
    },
    {
     "data": {
      "image/png": "[encoded data removed]",
      "text/plain": [
       "<Figure size 640x480 with 1 Axes>"
      ]
     },
     "metadata": {},
     "output_type": "display_data"
    }
   ],
   "source": [
    "#city['AverageTemperature'] = city['AverageTemperature'][city['AverageTemperature']>-4]\n",
    "sns.boxplot(x=city.AverageTemperature)"
   ]
  },
  {
   "cell_type": "code",
   "execution_count": 51,
   "metadata": {},
   "outputs": [
    {
     "name": "stdout",
     "output_type": "stream",
     "text": [
      "<class 'pandas.core.frame.DataFrame'>\n",
      "RangeIndex: 239177 entries, 0 to 239176\n",
      "Data columns (total 8 columns):\n",
      " #   Column              Non-Null Count   Dtype         \n",
      "---  ------              --------------   -----         \n",
      " 0   dt                  239177 non-null  datetime64[ns]\n",
      " 1   AverageTemperature  239177 non-null  float64       \n",
      " 2   City                239177 non-null  object        \n",
      " 3   Latitude            239177 non-null  object        \n",
      " 4   Longitude           239177 non-null  object        \n",
      " 5   Year                239177 non-null  int32         \n",
      " 6   Month               239177 non-null  int32         \n",
      " 7   Day                 239177 non-null  int32         \n",
      "dtypes: datetime64[ns](1), float64(1), int32(3), object(3)\n",
      "memory usage: 11.9+ MB\n"
     ]
    },
    {
     "data": {
      "text/html": [
       "<div>\n",
       "<style scoped>\n",
       "    .dataframe tbody tr th:only-of-type {\n",
       "        vertical-align: middle;\n",
       "    }\n",
       "\n",
       "    .dataframe tbody tr th {\n",
       "        vertical-align: top;\n",
       "    }\n",
       "\n",
       "    .dataframe thead th {\n",
       "        text-align: right;\n",
       "    }\n",
       "</style>\n",
       "<table border=\"1\" class=\"dataframe\">\n",
       "  <thead>\n",
       "    <tr style=\"text-align: right;\">\n",
       "      <th></th>\n",
       "      <th>dt</th>\n",
       "      <th>AverageTemperature</th>\n",
       "      <th>City</th>\n",
       "      <th>Latitude</th>\n",
       "      <th>Longitude</th>\n",
       "      <th>Year</th>\n",
       "      <th>Month</th>\n",
       "      <th>Day</th>\n",
       "    </tr>\n",
       "  </thead>\n",
       "  <tbody>\n",
       "    <tr>\n",
       "      <th>0</th>\n",
       "      <td>1849-01-01</td>\n",
       "      <td>26.704</td>\n",
       "      <td>Abidjan</td>\n",
       "      <td>5.63N</td>\n",
       "      <td>3.23W</td>\n",
       "      <td>1849</td>\n",
       "      <td>1</td>\n",
       "      <td>1</td>\n",
       "    </tr>\n",
       "    <tr>\n",
       "      <th>1</th>\n",
       "      <td>1849-02-01</td>\n",
       "      <td>27.434</td>\n",
       "      <td>Abidjan</td>\n",
       "      <td>5.63N</td>\n",
       "      <td>3.23W</td>\n",
       "      <td>1849</td>\n",
       "      <td>2</td>\n",
       "      <td>1</td>\n",
       "    </tr>\n",
       "    <tr>\n",
       "      <th>2</th>\n",
       "      <td>1849-03-01</td>\n",
       "      <td>28.101</td>\n",
       "      <td>Abidjan</td>\n",
       "      <td>5.63N</td>\n",
       "      <td>3.23W</td>\n",
       "      <td>1849</td>\n",
       "      <td>3</td>\n",
       "      <td>1</td>\n",
       "    </tr>\n",
       "    <tr>\n",
       "      <th>3</th>\n",
       "      <td>1849-04-01</td>\n",
       "      <td>26.140</td>\n",
       "      <td>Abidjan</td>\n",
       "      <td>5.63N</td>\n",
       "      <td>3.23W</td>\n",
       "      <td>1849</td>\n",
       "      <td>4</td>\n",
       "      <td>1</td>\n",
       "    </tr>\n",
       "    <tr>\n",
       "      <th>4</th>\n",
       "      <td>1849-05-01</td>\n",
       "      <td>25.427</td>\n",
       "      <td>Abidjan</td>\n",
       "      <td>5.63N</td>\n",
       "      <td>3.23W</td>\n",
       "      <td>1849</td>\n",
       "      <td>5</td>\n",
       "      <td>1</td>\n",
       "    </tr>\n",
       "  </tbody>\n",
       "</table>\n",
       "</div>"
      ],
      "text/plain": [
       "          dt  AverageTemperature     City Latitude Longitude  Year  Month  Day\n",
       "0 1849-01-01              26.704  Abidjan    5.63N     3.23W  1849      1    1\n",
       "1 1849-02-01              27.434  Abidjan    5.63N     3.23W  1849      2    1\n",
       "2 1849-03-01              28.101  Abidjan    5.63N     3.23W  1849      3    1\n",
       "3 1849-04-01              26.140  Abidjan    5.63N     3.23W  1849      4    1\n",
       "4 1849-05-01              25.427  Abidjan    5.63N     3.23W  1849      5    1"
      ]
     },
     "execution_count": 51,
     "metadata": {},
     "output_type": "execute_result"
    }
   ],
   "source": [
    "city['Year'] = city['dt'].dt.year\n",
    "city['Month'] = city['dt'].dt.month\n",
    "city['Day'] = city['dt'].dt.day\n",
    "city.info()\n",
    "city.head()"
   ]
  },
  {
   "cell_type": "code",
   "execution_count": 68,
   "metadata": {},
   "outputs": [
    {
     "data": {
      "text/plain": [
       "12.050878216847819"
      ]
     },
     "execution_count": 68,
     "metadata": {},
     "output_type": "execute_result"
    }
   ],
   "source": [
    "data = city[['Month','AverageTemperature']]"
   ]
  },
  {
   "cell_type": "code",
   "execution_count": 76,
   "metadata": {},
   "outputs": [
    {
     "data": {
      "image/png": "[encoded data removed]",
      "text/plain": [
       "<Figure size 640x480 with 1 Axes>"
      ]
     },
     "metadata": {},
     "output_type": "display_data"
    }
   ],
   "source": [
    "data1 = data.groupby('Month').mean()\n",
    "plt.rc('font',family = 'Malgun Gothic')\n",
    "plt.plot(data1,color ='r',marker='x',markersize='4')\n",
    "plt.title('월 별 평균기온 그래프')\n",
    "plt.xlabel('month')\n",
    "plt.ylabel('Average Temp')\n",
    "plt.grid()\n",
    "plt.show()"
   ]
  },
  {
   "cell_type": "code",
   "execution_count": null,
   "metadata": {},
   "outputs": [],
   "source": []
  }
 ],
 "metadata": {
  "kernelspec": {
   "display_name": "test_venv",
   "language": "python",
   "name": "python3"
  },
  "language_info": {
   "codemirror_mode": {
    "name": "ipython",
    "version": 3
   },
   "file_extension": ".py",
   "mimetype": "text/x-python",
   "name": "python",
   "nbconvert_exporter": "python",
   "pygments_lexer": "ipython3",
   "version": "3.8.18"
  },
  "orig_nbformat": 4
 },
 "nbformat": 4,
 "nbformat_minor": 2
}
