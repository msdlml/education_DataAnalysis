{
 "cells": [
  {
   "cell_type": "code",
   "execution_count": 2,
   "metadata": {},
   "outputs": [
    {
     "data": {
      "text/html": [
       "<div>\n",
       "<style scoped>\n",
       "    .dataframe tbody tr th:only-of-type {\n",
       "        vertical-align: middle;\n",
       "    }\n",
       "\n",
       "    .dataframe tbody tr th {\n",
       "        vertical-align: top;\n",
       "    }\n",
       "\n",
       "    .dataframe thead th {\n",
       "        text-align: right;\n",
       "    }\n",
       "</style>\n",
       "<table border=\"1\" class=\"dataframe\">\n",
       "  <thead>\n",
       "    <tr style=\"text-align: right;\">\n",
       "      <th></th>\n",
       "      <th>BillNo</th>\n",
       "      <th>Itemname</th>\n",
       "      <th>Quantity</th>\n",
       "      <th>Date</th>\n",
       "      <th>Price</th>\n",
       "      <th>CustomerID</th>\n",
       "      <th>Country</th>\n",
       "    </tr>\n",
       "  </thead>\n",
       "  <tbody>\n",
       "    <tr>\n",
       "      <th>0</th>\n",
       "      <td>536365</td>\n",
       "      <td>WHITE HANGING HEART T-LIGHT HOLDER</td>\n",
       "      <td>6</td>\n",
       "      <td>2010-12-01 08:26:00</td>\n",
       "      <td>2.55</td>\n",
       "      <td>17850.0</td>\n",
       "      <td>United Kingdom</td>\n",
       "    </tr>\n",
       "    <tr>\n",
       "      <th>1</th>\n",
       "      <td>536365</td>\n",
       "      <td>WHITE METAL LANTERN</td>\n",
       "      <td>6</td>\n",
       "      <td>2010-12-01 08:26:00</td>\n",
       "      <td>3.39</td>\n",
       "      <td>17850.0</td>\n",
       "      <td>United Kingdom</td>\n",
       "    </tr>\n",
       "    <tr>\n",
       "      <th>2</th>\n",
       "      <td>536365</td>\n",
       "      <td>CREAM CUPID HEARTS COAT HANGER</td>\n",
       "      <td>8</td>\n",
       "      <td>2010-12-01 08:26:00</td>\n",
       "      <td>2.75</td>\n",
       "      <td>17850.0</td>\n",
       "      <td>United Kingdom</td>\n",
       "    </tr>\n",
       "    <tr>\n",
       "      <th>3</th>\n",
       "      <td>536365</td>\n",
       "      <td>KNITTED UNION FLAG HOT WATER BOTTLE</td>\n",
       "      <td>6</td>\n",
       "      <td>2010-12-01 08:26:00</td>\n",
       "      <td>3.39</td>\n",
       "      <td>17850.0</td>\n",
       "      <td>United Kingdom</td>\n",
       "    </tr>\n",
       "    <tr>\n",
       "      <th>4</th>\n",
       "      <td>536365</td>\n",
       "      <td>RED WOOLLY HOTTIE WHITE HEART.</td>\n",
       "      <td>6</td>\n",
       "      <td>2010-12-01 08:26:00</td>\n",
       "      <td>3.39</td>\n",
       "      <td>17850.0</td>\n",
       "      <td>United Kingdom</td>\n",
       "    </tr>\n",
       "    <tr>\n",
       "      <th>...</th>\n",
       "      <td>...</td>\n",
       "      <td>...</td>\n",
       "      <td>...</td>\n",
       "      <td>...</td>\n",
       "      <td>...</td>\n",
       "      <td>...</td>\n",
       "      <td>...</td>\n",
       "    </tr>\n",
       "    <tr>\n",
       "      <th>522059</th>\n",
       "      <td>581587</td>\n",
       "      <td>PACK OF 20 SPACEBOY NAPKINS</td>\n",
       "      <td>12</td>\n",
       "      <td>2011-12-09 12:50:00</td>\n",
       "      <td>0.85</td>\n",
       "      <td>12680.0</td>\n",
       "      <td>France</td>\n",
       "    </tr>\n",
       "    <tr>\n",
       "      <th>522060</th>\n",
       "      <td>581587</td>\n",
       "      <td>CHILDREN'S APRON DOLLY GIRL</td>\n",
       "      <td>6</td>\n",
       "      <td>2011-12-09 12:50:00</td>\n",
       "      <td>2.10</td>\n",
       "      <td>12680.0</td>\n",
       "      <td>France</td>\n",
       "    </tr>\n",
       "    <tr>\n",
       "      <th>522061</th>\n",
       "      <td>581587</td>\n",
       "      <td>CHILDRENS CUTLERY DOLLY GIRL</td>\n",
       "      <td>4</td>\n",
       "      <td>2011-12-09 12:50:00</td>\n",
       "      <td>4.15</td>\n",
       "      <td>12680.0</td>\n",
       "      <td>France</td>\n",
       "    </tr>\n",
       "    <tr>\n",
       "      <th>522062</th>\n",
       "      <td>581587</td>\n",
       "      <td>CHILDRENS CUTLERY CIRCUS PARADE</td>\n",
       "      <td>4</td>\n",
       "      <td>2011-12-09 12:50:00</td>\n",
       "      <td>4.15</td>\n",
       "      <td>12680.0</td>\n",
       "      <td>France</td>\n",
       "    </tr>\n",
       "    <tr>\n",
       "      <th>522063</th>\n",
       "      <td>581587</td>\n",
       "      <td>BAKING SET 9 PIECE RETROSPOT</td>\n",
       "      <td>3</td>\n",
       "      <td>2011-12-09 12:50:00</td>\n",
       "      <td>4.95</td>\n",
       "      <td>12680.0</td>\n",
       "      <td>France</td>\n",
       "    </tr>\n",
       "  </tbody>\n",
       "</table>\n",
       "<p>522064 rows × 7 columns</p>\n",
       "</div>"
      ],
      "text/plain": [
       "        BillNo                             Itemname  Quantity  \\\n",
       "0       536365   WHITE HANGING HEART T-LIGHT HOLDER         6   \n",
       "1       536365                  WHITE METAL LANTERN         6   \n",
       "2       536365       CREAM CUPID HEARTS COAT HANGER         8   \n",
       "3       536365  KNITTED UNION FLAG HOT WATER BOTTLE         6   \n",
       "4       536365       RED WOOLLY HOTTIE WHITE HEART.         6   \n",
       "...        ...                                  ...       ...   \n",
       "522059  581587          PACK OF 20 SPACEBOY NAPKINS        12   \n",
       "522060  581587          CHILDREN'S APRON DOLLY GIRL         6   \n",
       "522061  581587         CHILDRENS CUTLERY DOLLY GIRL         4   \n",
       "522062  581587      CHILDRENS CUTLERY CIRCUS PARADE         4   \n",
       "522063  581587         BAKING SET 9 PIECE RETROSPOT         3   \n",
       "\n",
       "                      Date  Price  CustomerID         Country  \n",
       "0      2010-12-01 08:26:00   2.55     17850.0  United Kingdom  \n",
       "1      2010-12-01 08:26:00   3.39     17850.0  United Kingdom  \n",
       "2      2010-12-01 08:26:00   2.75     17850.0  United Kingdom  \n",
       "3      2010-12-01 08:26:00   3.39     17850.0  United Kingdom  \n",
       "4      2010-12-01 08:26:00   3.39     17850.0  United Kingdom  \n",
       "...                    ...    ...         ...             ...  \n",
       "522059 2011-12-09 12:50:00   0.85     12680.0          France  \n",
       "522060 2011-12-09 12:50:00   2.10     12680.0          France  \n",
       "522061 2011-12-09 12:50:00   4.15     12680.0          France  \n",
       "522062 2011-12-09 12:50:00   4.15     12680.0          France  \n",
       "522063 2011-12-09 12:50:00   4.95     12680.0          France  \n",
       "\n",
       "[522064 rows x 7 columns]"
      ]
     },
     "execution_count": 2,
     "metadata": {},
     "output_type": "execute_result"
    }
   ],
   "source": [
    "import pandas as pd\n",
    "\n",
    "df = pd.read_excel('Assignment-1_Data.xlsx')\n",
    "df"
   ]
  },
  {
   "cell_type": "code",
   "execution_count": 5,
   "metadata": {},
   "outputs": [
    {
     "name": "stdout",
     "output_type": "stream",
     "text": [
      "<class 'pandas.core.frame.DataFrame'>\n",
      "RangeIndex: 522064 entries, 0 to 522063\n",
      "Data columns (total 7 columns):\n",
      " #   Column      Non-Null Count   Dtype         \n",
      "---  ------      --------------   -----         \n",
      " 0   BillNo      522064 non-null  object        \n",
      " 1   Itemname    520609 non-null  object        \n",
      " 2   Quantity    522064 non-null  int64         \n",
      " 3   Date        522064 non-null  datetime64[ns]\n",
      " 4   Price       522064 non-null  float64       \n",
      " 5   CustomerID  388023 non-null  float64       \n",
      " 6   Country     522064 non-null  object        \n",
      "dtypes: datetime64[ns](1), float64(2), int64(1), object(3)\n",
      "memory usage: 27.9+ MB\n"
     ]
    }
   ],
   "source": [
    "df.info()\n",
    "df.isnull().sum()\n",
    "df.dropna(inplace=True)"
   ]
  },
  {
   "cell_type": "code",
   "execution_count": 7,
   "metadata": {},
   "outputs": [
    {
     "data": {
      "text/html": [
       "<div>\n",
       "<style scoped>\n",
       "    .dataframe tbody tr th:only-of-type {\n",
       "        vertical-align: middle;\n",
       "    }\n",
       "\n",
       "    .dataframe tbody tr th {\n",
       "        vertical-align: top;\n",
       "    }\n",
       "\n",
       "    .dataframe thead th {\n",
       "        text-align: right;\n",
       "    }\n",
       "</style>\n",
       "<table border=\"1\" class=\"dataframe\">\n",
       "  <thead>\n",
       "    <tr style=\"text-align: right;\">\n",
       "      <th></th>\n",
       "      <th>BillNo</th>\n",
       "      <th>Itemname</th>\n",
       "      <th>Quantity</th>\n",
       "      <th>Date</th>\n",
       "      <th>Price</th>\n",
       "      <th>CustomerID</th>\n",
       "      <th>Country</th>\n",
       "    </tr>\n",
       "  </thead>\n",
       "  <tbody>\n",
       "    <tr>\n",
       "      <th>0</th>\n",
       "      <td>536365</td>\n",
       "      <td>WHITE HANGING HEART T-LIGHT HOLDER</td>\n",
       "      <td>6</td>\n",
       "      <td>2010-12-01 08:26:00</td>\n",
       "      <td>2.55</td>\n",
       "      <td>17850.0</td>\n",
       "      <td>United Kingdom</td>\n",
       "    </tr>\n",
       "    <tr>\n",
       "      <th>1</th>\n",
       "      <td>536365</td>\n",
       "      <td>WHITE METAL LANTERN</td>\n",
       "      <td>6</td>\n",
       "      <td>2010-12-01 08:26:00</td>\n",
       "      <td>3.39</td>\n",
       "      <td>17850.0</td>\n",
       "      <td>United Kingdom</td>\n",
       "    </tr>\n",
       "    <tr>\n",
       "      <th>2</th>\n",
       "      <td>536365</td>\n",
       "      <td>CREAM CUPID HEARTS COAT HANGER</td>\n",
       "      <td>8</td>\n",
       "      <td>2010-12-01 08:26:00</td>\n",
       "      <td>2.75</td>\n",
       "      <td>17850.0</td>\n",
       "      <td>United Kingdom</td>\n",
       "    </tr>\n",
       "    <tr>\n",
       "      <th>3</th>\n",
       "      <td>536365</td>\n",
       "      <td>KNITTED UNION FLAG HOT WATER BOTTLE</td>\n",
       "      <td>6</td>\n",
       "      <td>2010-12-01 08:26:00</td>\n",
       "      <td>3.39</td>\n",
       "      <td>17850.0</td>\n",
       "      <td>United Kingdom</td>\n",
       "    </tr>\n",
       "    <tr>\n",
       "      <th>4</th>\n",
       "      <td>536365</td>\n",
       "      <td>RED WOOLLY HOTTIE WHITE HEART.</td>\n",
       "      <td>6</td>\n",
       "      <td>2010-12-01 08:26:00</td>\n",
       "      <td>3.39</td>\n",
       "      <td>17850.0</td>\n",
       "      <td>United Kingdom</td>\n",
       "    </tr>\n",
       "    <tr>\n",
       "      <th>...</th>\n",
       "      <td>...</td>\n",
       "      <td>...</td>\n",
       "      <td>...</td>\n",
       "      <td>...</td>\n",
       "      <td>...</td>\n",
       "      <td>...</td>\n",
       "      <td>...</td>\n",
       "    </tr>\n",
       "    <tr>\n",
       "      <th>522044</th>\n",
       "      <td>581585</td>\n",
       "      <td>FAIRY TALE COTTAGE NIGHT LIGHT</td>\n",
       "      <td>12</td>\n",
       "      <td>2011-12-09 12:31:00</td>\n",
       "      <td>1.95</td>\n",
       "      <td>15804.0</td>\n",
       "      <td>United Kingdom</td>\n",
       "    </tr>\n",
       "    <tr>\n",
       "      <th>522045</th>\n",
       "      <td>581586</td>\n",
       "      <td>LARGE CAKE STAND  HANGING STRAWBERY</td>\n",
       "      <td>8</td>\n",
       "      <td>2011-12-09 12:49:00</td>\n",
       "      <td>2.95</td>\n",
       "      <td>13113.0</td>\n",
       "      <td>United Kingdom</td>\n",
       "    </tr>\n",
       "    <tr>\n",
       "      <th>522046</th>\n",
       "      <td>581586</td>\n",
       "      <td>SET OF 3 HANGING OWLS OLLIE BEAK</td>\n",
       "      <td>24</td>\n",
       "      <td>2011-12-09 12:49:00</td>\n",
       "      <td>1.25</td>\n",
       "      <td>13113.0</td>\n",
       "      <td>United Kingdom</td>\n",
       "    </tr>\n",
       "    <tr>\n",
       "      <th>522047</th>\n",
       "      <td>581586</td>\n",
       "      <td>RED RETROSPOT ROUND CAKE TINS</td>\n",
       "      <td>24</td>\n",
       "      <td>2011-12-09 12:49:00</td>\n",
       "      <td>8.95</td>\n",
       "      <td>13113.0</td>\n",
       "      <td>United Kingdom</td>\n",
       "    </tr>\n",
       "    <tr>\n",
       "      <th>522048</th>\n",
       "      <td>581586</td>\n",
       "      <td>DOORMAT RED RETROSPOT</td>\n",
       "      <td>10</td>\n",
       "      <td>2011-12-09 12:49:00</td>\n",
       "      <td>7.08</td>\n",
       "      <td>13113.0</td>\n",
       "      <td>United Kingdom</td>\n",
       "    </tr>\n",
       "  </tbody>\n",
       "</table>\n",
       "<p>354345 rows × 7 columns</p>\n",
       "</div>"
      ],
      "text/plain": [
       "        BillNo                             Itemname  Quantity  \\\n",
       "0       536365   WHITE HANGING HEART T-LIGHT HOLDER         6   \n",
       "1       536365                  WHITE METAL LANTERN         6   \n",
       "2       536365       CREAM CUPID HEARTS COAT HANGER         8   \n",
       "3       536365  KNITTED UNION FLAG HOT WATER BOTTLE         6   \n",
       "4       536365       RED WOOLLY HOTTIE WHITE HEART.         6   \n",
       "...        ...                                  ...       ...   \n",
       "522044  581585       FAIRY TALE COTTAGE NIGHT LIGHT        12   \n",
       "522045  581586  LARGE CAKE STAND  HANGING STRAWBERY         8   \n",
       "522046  581586     SET OF 3 HANGING OWLS OLLIE BEAK        24   \n",
       "522047  581586        RED RETROSPOT ROUND CAKE TINS        24   \n",
       "522048  581586                DOORMAT RED RETROSPOT        10   \n",
       "\n",
       "                      Date  Price  CustomerID         Country  \n",
       "0      2010-12-01 08:26:00   2.55     17850.0  United Kingdom  \n",
       "1      2010-12-01 08:26:00   3.39     17850.0  United Kingdom  \n",
       "2      2010-12-01 08:26:00   2.75     17850.0  United Kingdom  \n",
       "3      2010-12-01 08:26:00   3.39     17850.0  United Kingdom  \n",
       "4      2010-12-01 08:26:00   3.39     17850.0  United Kingdom  \n",
       "...                    ...    ...         ...             ...  \n",
       "522044 2011-12-09 12:31:00   1.95     15804.0  United Kingdom  \n",
       "522045 2011-12-09 12:49:00   2.95     13113.0  United Kingdom  \n",
       "522046 2011-12-09 12:49:00   1.25     13113.0  United Kingdom  \n",
       "522047 2011-12-09 12:49:00   8.95     13113.0  United Kingdom  \n",
       "522048 2011-12-09 12:49:00   7.08     13113.0  United Kingdom  \n",
       "\n",
       "[354345 rows x 7 columns]"
      ]
     },
     "execution_count": 7,
     "metadata": {},
     "output_type": "execute_result"
    }
   ],
   "source": [
    "df = df[df['Country'] == 'United Kingdom']\n",
    "df"
   ]
  },
  {
   "cell_type": "code",
   "execution_count": 8,
   "metadata": {},
   "outputs": [
    {
     "data": {
      "text/plain": [
       "Itemname\n",
       "WHITE HANGING HEART T-LIGHT HOLDER    1940\n",
       "JUMBO BAG RED RETROSPOT               1464\n",
       "REGENCY CAKESTAND 3 TIER              1426\n",
       "ASSORTED COLOUR BIRD ORNAMENT         1333\n",
       "PARTY BUNTING                         1308\n",
       "                                      ... \n",
       "PINK/AMETHYST/GOLD NECKLACE              1\n",
       "ASSORTED COLOUR SILK GLASSES CASE        1\n",
       "BLUE NEW BAROQUE FLOCK CANDLESTICK       1\n",
       "PACK 4 FLOWER/BUTTERFLY PATCHES          1\n",
       "PAPER CRAFT , LITTLE BIRDIE              1\n",
       "Name: count, Length: 3833, dtype: int64"
      ]
     },
     "execution_count": 8,
     "metadata": {},
     "output_type": "execute_result"
    }
   ],
   "source": [
    "df['Itemname'].value_counts()"
   ]
  },
  {
   "cell_type": "code",
   "execution_count": 49,
   "metadata": {},
   "outputs": [],
   "source": [
    "item = df.groupby(['BillNo','Date'])['Itemname'].apply(lambda x: ', '.join(x))"
   ]
  },
  {
   "cell_type": "code",
   "execution_count": 50,
   "metadata": {},
   "outputs": [],
   "source": [
    "item = item.reset_index()"
   ]
  },
  {
   "cell_type": "code",
   "execution_count": 51,
   "metadata": {},
   "outputs": [
    {
     "data": {
      "text/html": [
       "<div>\n",
       "<style scoped>\n",
       "    .dataframe tbody tr th:only-of-type {\n",
       "        vertical-align: middle;\n",
       "    }\n",
       "\n",
       "    .dataframe tbody tr th {\n",
       "        vertical-align: top;\n",
       "    }\n",
       "\n",
       "    .dataframe thead th {\n",
       "        text-align: right;\n",
       "    }\n",
       "</style>\n",
       "<table border=\"1\" class=\"dataframe\">\n",
       "  <thead>\n",
       "    <tr style=\"text-align: right;\">\n",
       "      <th></th>\n",
       "      <th>Itemname</th>\n",
       "    </tr>\n",
       "  </thead>\n",
       "  <tbody>\n",
       "    <tr>\n",
       "      <th>0</th>\n",
       "      <td>WHITE HANGING HEART T-LIGHT HOLDER, WHITE META...</td>\n",
       "    </tr>\n",
       "    <tr>\n",
       "      <th>1</th>\n",
       "      <td>HAND WARMER UNION JACK, HAND WARMER RED POLKA DOT</td>\n",
       "    </tr>\n",
       "    <tr>\n",
       "      <th>2</th>\n",
       "      <td>ASSORTED COLOUR BIRD ORNAMENT, POPPY'S PLAYHOU...</td>\n",
       "    </tr>\n",
       "    <tr>\n",
       "      <th>3</th>\n",
       "      <td>JAM MAKING SET WITH JARS, RED COAT RACK PARIS ...</td>\n",
       "    </tr>\n",
       "    <tr>\n",
       "      <th>4</th>\n",
       "      <td>BATH BUILDING BLOCK WORD</td>\n",
       "    </tr>\n",
       "    <tr>\n",
       "      <th>...</th>\n",
       "      <td>...</td>\n",
       "    </tr>\n",
       "    <tr>\n",
       "      <th>16671</th>\n",
       "      <td>BICYCLE PUNCTURE REPAIR KIT, CLASSIC BICYCLE C...</td>\n",
       "    </tr>\n",
       "    <tr>\n",
       "      <th>16672</th>\n",
       "      <td>LUNCH BAG RED RETROSPOT, 6 CHOCOLATE LOVE HEAR...</td>\n",
       "    </tr>\n",
       "    <tr>\n",
       "      <th>16673</th>\n",
       "      <td>RED FLOCK LOVE HEART PHOTO FRAME, 6 CHOCOLATE ...</td>\n",
       "    </tr>\n",
       "    <tr>\n",
       "      <th>16674</th>\n",
       "      <td>BLACK TEA TOWEL CLASSIC DESIGN, ASSORTED BOTTL...</td>\n",
       "    </tr>\n",
       "    <tr>\n",
       "      <th>16675</th>\n",
       "      <td>LARGE CAKE STAND  HANGING STRAWBERY, SET OF 3 ...</td>\n",
       "    </tr>\n",
       "  </tbody>\n",
       "</table>\n",
       "<p>16676 rows × 1 columns</p>\n",
       "</div>"
      ],
      "text/plain": [
       "                                                Itemname\n",
       "0      WHITE HANGING HEART T-LIGHT HOLDER, WHITE META...\n",
       "1      HAND WARMER UNION JACK, HAND WARMER RED POLKA DOT\n",
       "2      ASSORTED COLOUR BIRD ORNAMENT, POPPY'S PLAYHOU...\n",
       "3      JAM MAKING SET WITH JARS, RED COAT RACK PARIS ...\n",
       "4                               BATH BUILDING BLOCK WORD\n",
       "...                                                  ...\n",
       "16671  BICYCLE PUNCTURE REPAIR KIT, CLASSIC BICYCLE C...\n",
       "16672  LUNCH BAG RED RETROSPOT, 6 CHOCOLATE LOVE HEAR...\n",
       "16673  RED FLOCK LOVE HEART PHOTO FRAME, 6 CHOCOLATE ...\n",
       "16674  BLACK TEA TOWEL CLASSIC DESIGN, ASSORTED BOTTL...\n",
       "16675  LARGE CAKE STAND  HANGING STRAWBERY, SET OF 3 ...\n",
       "\n",
       "[16676 rows x 1 columns]"
      ]
     },
     "execution_count": 51,
     "metadata": {},
     "output_type": "execute_result"
    }
   ],
   "source": [
    "item.drop(columns=['BillNo','Date'],inplace=True)\n",
    "item"
   ]
  },
  {
   "cell_type": "code",
   "execution_count": 52,
   "metadata": {},
   "outputs": [],
   "source": [
    "item_list = item['Itemname'].str.split(', ')"
   ]
  },
  {
   "cell_type": "code",
   "execution_count": 53,
   "metadata": {},
   "outputs": [],
   "source": [
    "item_list = item_list.explode()"
   ]
  },
  {
   "cell_type": "code",
   "execution_count": 54,
   "metadata": {},
   "outputs": [
    {
     "data": {
      "text/plain": [
       "Itemname\n",
       "WHITE HANGING HEART T-LIGHT HOLDER     1940\n",
       "JUMBO BAG RED RETROSPOT                1464\n",
       "REGENCY CAKESTAND 3 TIER               1426\n",
       "ASSORTED COLOUR BIRD ORNAMENT          1333\n",
       "PARTY BUNTING                          1308\n",
       "                                       ... \n",
       "TURQ ICE CREAM BUM BAG                    1\n",
       "FIRE POLISHED GLASS BRACELET RED          1\n",
       "FIRE POLISHED GLASS BRACELET MONTAN       1\n",
       "IVORY PANTRY HANGING LAMP                 1\n",
       "LITTLE BIRDIE                             1\n",
       "Name: count, Length: 3861, dtype: int64"
      ]
     },
     "execution_count": 54,
     "metadata": {},
     "output_type": "execute_result"
    }
   ],
   "source": [
    "item_list.value_counts()"
   ]
  },
  {
   "cell_type": "code",
   "execution_count": 55,
   "metadata": {},
   "outputs": [
    {
     "data": {
      "text/plain": [
       "Itemname\n",
       "1 HANGER ,MAGIC GARDEN               47\n",
       "10 COLOUR SPACEBOY PEN              201\n",
       "12 COLOURED PARTY BALLOONS          131\n",
       "12 DAISY PEGS IN WOOD BOX            65\n",
       "12 EGG HOUSE PAINTED WOOD            53\n",
       "                                   ... \n",
       "ZINC T-LIGHT HOLDER STARS SMALL     221\n",
       "ZINC TOP  2 DOOR WOODEN SHELF         9\n",
       "ZINC WILLIE WINKIE  CANDLE STICK    173\n",
       "ZINC WIRE KITCHEN ORGANISER          11\n",
       "ZINC WIRE SWEETHEART LETTER TRAY     19\n",
       "Name: Itemname, Length: 3861, dtype: int64"
      ]
     },
     "execution_count": 55,
     "metadata": {},
     "output_type": "execute_result"
    }
   ],
   "source": [
    "size_by_item = item_list.groupby(item_list).size()\n",
    "size_by_item"
   ]
  },
  {
   "cell_type": "code",
   "execution_count": 56,
   "metadata": {},
   "outputs": [],
   "source": [
    "size_by_item.sort_values(ascending=False,inplace=True)"
   ]
  },
  {
   "cell_type": "code",
   "execution_count": 57,
   "metadata": {},
   "outputs": [],
   "source": [
    "frame = {'Itemname':size_by_item.index, 'count':size_by_item.values}\n"
   ]
  },
  {
   "cell_type": "code",
   "execution_count": 58,
   "metadata": {},
   "outputs": [
    {
     "data": {
      "text/html": [
       "<div>\n",
       "<style scoped>\n",
       "    .dataframe tbody tr th:only-of-type {\n",
       "        vertical-align: middle;\n",
       "    }\n",
       "\n",
       "    .dataframe tbody tr th {\n",
       "        vertical-align: top;\n",
       "    }\n",
       "\n",
       "    .dataframe thead th {\n",
       "        text-align: right;\n",
       "    }\n",
       "</style>\n",
       "<table border=\"1\" class=\"dataframe\">\n",
       "  <thead>\n",
       "    <tr style=\"text-align: right;\">\n",
       "      <th></th>\n",
       "      <th>Itemname</th>\n",
       "      <th>count</th>\n",
       "    </tr>\n",
       "  </thead>\n",
       "  <tbody>\n",
       "    <tr>\n",
       "      <th>0</th>\n",
       "      <td>WHITE HANGING HEART T-LIGHT HOLDER</td>\n",
       "      <td>1940</td>\n",
       "    </tr>\n",
       "    <tr>\n",
       "      <th>1</th>\n",
       "      <td>JUMBO BAG RED RETROSPOT</td>\n",
       "      <td>1464</td>\n",
       "    </tr>\n",
       "    <tr>\n",
       "      <th>2</th>\n",
       "      <td>REGENCY CAKESTAND 3 TIER</td>\n",
       "      <td>1426</td>\n",
       "    </tr>\n",
       "    <tr>\n",
       "      <th>3</th>\n",
       "      <td>ASSORTED COLOUR BIRD ORNAMENT</td>\n",
       "      <td>1333</td>\n",
       "    </tr>\n",
       "    <tr>\n",
       "      <th>4</th>\n",
       "      <td>PARTY BUNTING</td>\n",
       "      <td>1308</td>\n",
       "    </tr>\n",
       "  </tbody>\n",
       "</table>\n",
       "</div>"
      ],
      "text/plain": [
       "                             Itemname  count\n",
       "0  WHITE HANGING HEART T-LIGHT HOLDER   1940\n",
       "1             JUMBO BAG RED RETROSPOT   1464\n",
       "2            REGENCY CAKESTAND 3 TIER   1426\n",
       "3       ASSORTED COLOUR BIRD ORNAMENT   1333\n",
       "4                       PARTY BUNTING   1308"
      ]
     },
     "execution_count": 58,
     "metadata": {},
     "output_type": "execute_result"
    }
   ],
   "source": [
    "size_by_item_df = pd.DataFrame(frame)\n",
    "size_by_item_df.head()"
   ]
  },
  {
   "cell_type": "code",
   "execution_count": 61,
   "metadata": {},
   "outputs": [],
   "source": [
    "import matplotlib.pyplot as plt\n",
    "from wordcloud import WordCloud\n",
    "import plotly.express as px\n"
   ]
  },
  {
   "cell_type": "code",
   "execution_count": 66,
   "metadata": {},
   "outputs": [
    {
     "data": {
      "application/vnd.plotly.v1+json": {
       "config": {
        "plotlyServerURL": "https://plot.ly"
       },
       "data": [
        {
         "branchvalues": "total",
         "domain": {
          "x": [
           0,
           1
          ],
          "y": [
           0,
           1
          ]
         },
         "hovertemplate": "labels=%{label}<br>count=%{value}<br>parent=%{parent}<br>id=%{id}<extra></extra>",
         "ids": [
          "6 RIBBONS RUSTIC CHARM",
          "60 TEATIME FAIRY CAKE CASES",
          "ALARM CLOCK BAKELIKE GREEN",
          "ALARM CLOCK BAKELIKE PINK",
          "ALARM CLOCK BAKELIKE RED",
          "ANTIQUE SILVER T-LIGHT GLASS",
          "ASSORTED COLOUR BIRD ORNAMENT",
          "BAKING SET 9 PIECE RETROSPOT",
          "CHARLOTTE BAG SUKI DESIGN",
          "CHILLI LIGHTS",
          "CHOCOLATE HOT WATER BOTTLE",
          "CLOTHES PEGS RETROSPOT PACK 24",
          "COLOUR GLASS T-LIGHT HOLDER HANGING",
          "COOK WITH WINE METAL SIGN",
          "DOORMAT KEEP CALM AND COME IN",
          "DOORMAT NEW ENGLAND",
          "DOORMAT RED RETROSPOT",
          "GARDENERS KNEELING PAD CUP OF TEA",
          "GARDENERS KNEELING PAD KEEP CALM",
          "GIN + TONIC DIET METAL SIGN",
          "GINGERBREAD MAN COOKIE CUTTER",
          "GREEN REGENCY TEACUP AND SAUCER",
          "GREY HEART HOT WATER BOTTLE",
          "HAND OVER THE CHOCOLATE   SIGN",
          "HAND WARMER OWL DESIGN",
          "HAND WARMER SCOTTY DOG DESIGN",
          "HANGING HEART JAR T-LIGHT HOLDER",
          "HEART OF WICKER LARGE",
          "HEART OF WICKER SMALL",
          "HOME BUILDING BLOCK WORD",
          "HOT WATER BOTTLE I AM SO POORLY",
          "HOT WATER BOTTLE KEEP CALM",
          "HOT WATER BOTTLE TEA AND SYMPATHY",
          "IVORY KITCHEN SCALES",
          "JAM MAKING SET PRINTED",
          "JAM MAKING SET WITH JARS",
          "JUMBO  BAG BAROQUE BLACK WHITE",
          "JUMBO BAG 50'S CHRISTMAS",
          "JUMBO BAG ALPHABET",
          "JUMBO BAG APPLES",
          "JUMBO BAG PINK POLKADOT",
          "JUMBO BAG PINK VINTAGE PAISLEY",
          "JUMBO BAG RED RETROSPOT",
          "JUMBO BAG STRAWBERRY",
          "JUMBO BAG VINTAGE DOILY",
          "JUMBO BAG VINTAGE LEAF",
          "JUMBO SHOPPER VINTAGE RED PAISLEY",
          "JUMBO STORAGE BAG SUKI",
          "KEY FOB ",
          "LARGE WHITE HEART OF WICKER",
          "LOVE BUILDING BLOCK WORD",
          "LUNCH BAG  BLACK SKULL.",
          "LUNCH BAG ALPHABET DESIGN",
          "LUNCH BAG APPLE DESIGN",
          "LUNCH BAG CARS BLUE",
          "LUNCH BAG DOLLY GIRL DESIGN",
          "LUNCH BAG PINK POLKADOT",
          "LUNCH BAG RED RETROSPOT",
          "LUNCH BAG SPACEBOY DESIGN",
          "LUNCH BAG SUKI DESIGN",
          "LUNCH BAG VINTAGE DOILY",
          "LUNCH BAG VINTAGE LEAF DESIGN",
          "LUNCH BAG WOODLAND",
          "NATURAL SLATE HEART CHALKBOARD",
          "PACK OF 60 DINOSAUR CAKE CASES",
          "PACK OF 60 PINK PAISLEY CAKE CASES",
          "PACK OF 72 RETROSPOT CAKE CASES",
          "PAPER CHAIN KIT 50'S CHRISTMAS",
          "PAPER CHAIN KIT VINTAGE CHRISTMAS",
          "PARTY BUNTING",
          "PINK CREAM FELT CRAFT TRINKET BOX",
          "PINK REGENCY TEACUP AND SAUCER",
          "PLEASE ONE PERSON METAL SIGN",
          "POPCORN HOLDER",
          "RABBIT NIGHT LIGHT",
          "RECIPE BOX PANTRY YELLOW DESIGN",
          "RED HANGING HEART T-LIGHT HOLDER",
          "RED RETROSPOT CHARLOTTE BAG",
          "REGENCY CAKESTAND 3 TIER",
          "RETROSPOT HEART HOT WATER BOTTLE",
          "RETROSPOT TEA SET CERAMIC 11 PC",
          "REX CASH+CARRY JUMBO SHOPPER",
          "ROSES REGENCY TEACUP AND SAUCER",
          "SCOTTIE DOG HOT WATER BOTTLE",
          "SET OF 3 CAKE TINS PANTRY DESIGN",
          "SET OF 3 REGENCY CAKE TINS",
          "SET OF 4 PANTRY JELLY MOULDS",
          "SET OF 6 SPICE TINS PANTRY DESIGN",
          "SET/20 RED RETROSPOT PAPER NAPKINS",
          "SET/5 RED RETROSPOT LID GLASS BOWLS",
          "SMALL WHITE HEART OF WICKER",
          "SPACEBOY LUNCH BOX",
          "SPOTTY BUNTING",
          "VICTORIAN GLASS HANGING T-LIGHT",
          "VINTAGE SNAP CARDS",
          "WHITE HANGING HEART T-LIGHT HOLDER",
          "WOOD 2 DRAWER CABINET WHITE FINISH",
          "WOOD BLACK BOARD ANT WHITE FINISH",
          "WOODEN FRAME ANTIQUE WHITE",
          "WOODEN PICTURE FRAME WHITE FINISH"
         ],
         "labels": [
          "6 RIBBONS RUSTIC CHARM",
          "60 TEATIME FAIRY CAKE CASES",
          "ALARM CLOCK BAKELIKE GREEN",
          "ALARM CLOCK BAKELIKE PINK",
          "ALARM CLOCK BAKELIKE RED",
          "ANTIQUE SILVER T-LIGHT GLASS",
          "ASSORTED COLOUR BIRD ORNAMENT",
          "BAKING SET 9 PIECE RETROSPOT",
          "CHARLOTTE BAG SUKI DESIGN",
          "CHILLI LIGHTS",
          "CHOCOLATE HOT WATER BOTTLE",
          "CLOTHES PEGS RETROSPOT PACK 24",
          "COLOUR GLASS T-LIGHT HOLDER HANGING",
          "COOK WITH WINE METAL SIGN",
          "DOORMAT KEEP CALM AND COME IN",
          "DOORMAT NEW ENGLAND",
          "DOORMAT RED RETROSPOT",
          "GARDENERS KNEELING PAD CUP OF TEA",
          "GARDENERS KNEELING PAD KEEP CALM",
          "GIN + TONIC DIET METAL SIGN",
          "GINGERBREAD MAN COOKIE CUTTER",
          "GREEN REGENCY TEACUP AND SAUCER",
          "GREY HEART HOT WATER BOTTLE",
          "HAND OVER THE CHOCOLATE   SIGN",
          "HAND WARMER OWL DESIGN",
          "HAND WARMER SCOTTY DOG DESIGN",
          "HANGING HEART JAR T-LIGHT HOLDER",
          "HEART OF WICKER LARGE",
          "HEART OF WICKER SMALL",
          "HOME BUILDING BLOCK WORD",
          "HOT WATER BOTTLE I AM SO POORLY",
          "HOT WATER BOTTLE KEEP CALM",
          "HOT WATER BOTTLE TEA AND SYMPATHY",
          "IVORY KITCHEN SCALES",
          "JAM MAKING SET PRINTED",
          "JAM MAKING SET WITH JARS",
          "JUMBO  BAG BAROQUE BLACK WHITE",
          "JUMBO BAG 50'S CHRISTMAS",
          "JUMBO BAG ALPHABET",
          "JUMBO BAG APPLES",
          "JUMBO BAG PINK POLKADOT",
          "JUMBO BAG PINK VINTAGE PAISLEY",
          "JUMBO BAG RED RETROSPOT",
          "JUMBO BAG STRAWBERRY",
          "JUMBO BAG VINTAGE DOILY",
          "JUMBO BAG VINTAGE LEAF",
          "JUMBO SHOPPER VINTAGE RED PAISLEY",
          "JUMBO STORAGE BAG SUKI",
          "KEY FOB ",
          "LARGE WHITE HEART OF WICKER",
          "LOVE BUILDING BLOCK WORD",
          "LUNCH BAG  BLACK SKULL.",
          "LUNCH BAG ALPHABET DESIGN",
          "LUNCH BAG APPLE DESIGN",
          "LUNCH BAG CARS BLUE",
          "LUNCH BAG DOLLY GIRL DESIGN",
          "LUNCH BAG PINK POLKADOT",
          "LUNCH BAG RED RETROSPOT",
          "LUNCH BAG SPACEBOY DESIGN",
          "LUNCH BAG SUKI DESIGN",
          "LUNCH BAG VINTAGE DOILY",
          "LUNCH BAG VINTAGE LEAF DESIGN",
          "LUNCH BAG WOODLAND",
          "NATURAL SLATE HEART CHALKBOARD",
          "PACK OF 60 DINOSAUR CAKE CASES",
          "PACK OF 60 PINK PAISLEY CAKE CASES",
          "PACK OF 72 RETROSPOT CAKE CASES",
          "PAPER CHAIN KIT 50'S CHRISTMAS",
          "PAPER CHAIN KIT VINTAGE CHRISTMAS",
          "PARTY BUNTING",
          "PINK CREAM FELT CRAFT TRINKET BOX",
          "PINK REGENCY TEACUP AND SAUCER",
          "PLEASE ONE PERSON METAL SIGN",
          "POPCORN HOLDER",
          "RABBIT NIGHT LIGHT",
          "RECIPE BOX PANTRY YELLOW DESIGN",
          "RED HANGING HEART T-LIGHT HOLDER",
          "RED RETROSPOT CHARLOTTE BAG",
          "REGENCY CAKESTAND 3 TIER",
          "RETROSPOT HEART HOT WATER BOTTLE",
          "RETROSPOT TEA SET CERAMIC 11 PC",
          "REX CASH+CARRY JUMBO SHOPPER",
          "ROSES REGENCY TEACUP AND SAUCER",
          "SCOTTIE DOG HOT WATER BOTTLE",
          "SET OF 3 CAKE TINS PANTRY DESIGN",
          "SET OF 3 REGENCY CAKE TINS",
          "SET OF 4 PANTRY JELLY MOULDS",
          "SET OF 6 SPICE TINS PANTRY DESIGN",
          "SET/20 RED RETROSPOT PAPER NAPKINS",
          "SET/5 RED RETROSPOT LID GLASS BOWLS",
          "SMALL WHITE HEART OF WICKER",
          "SPACEBOY LUNCH BOX",
          "SPOTTY BUNTING",
          "VICTORIAN GLASS HANGING T-LIGHT",
          "VINTAGE SNAP CARDS",
          "WHITE HANGING HEART T-LIGHT HOLDER",
          "WOOD 2 DRAWER CABINET WHITE FINISH",
          "WOOD BLACK BOARD ANT WHITE FINISH",
          "WOODEN FRAME ANTIQUE WHITE",
          "WOODEN PICTURE FRAME WHITE FINISH"
         ],
         "name": "",
         "parents": [
          "",
          "",
          "",
          "",
          "",
          "",
          "",
          "",
          "",
          "",
          "",
          "",
          "",
          "",
          "",
          "",
          "",
          "",
          "",
          "",
          "",
          "",
          "",
          "",
          "",
          "",
          "",
          "",
          "",
          "",
          "",
          "",
          "",
          "",
          "",
          "",
          "",
          "",
          "",
          "",
          "",
          "",
          "",
          "",
          "",
          "",
          "",
          "",
          "",
          "",
          "",
          "",
          "",
          "",
          "",
          "",
          "",
          "",
          "",
          "",
          "",
          "",
          "",
          "",
          "",
          "",
          "",
          "",
          "",
          "",
          "",
          "",
          "",
          "",
          "",
          "",
          "",
          "",
          "",
          "",
          "",
          "",
          "",
          "",
          "",
          "",
          "",
          "",
          "",
          "",
          "",
          "",
          "",
          "",
          "",
          "",
          "",
          "",
          "",
          ""
         ],
         "type": "treemap",
         "values": [
          653,
          619,
          708,
          499,
          780,
          529,
          1333,
          735,
          522,
          513,
          677,
          567,
          517,
          578,
          623,
          504,
          506,
          641,
          754,
          641,
          499,
          640,
          510,
          587,
          570,
          491,
          546,
          809,
          952,
          682,
          496,
          714,
          495,
          528,
          728,
          760,
          636,
          559,
          705,
          634,
          831,
          557,
          1464,
          632,
          577,
          718,
          762,
          729,
          778,
          518,
          558,
          1049,
          618,
          774,
          905,
          533,
          873,
          1147,
          893,
          867,
          498,
          569,
          696,
          951,
          512,
          606,
          883,
          982,
          693,
          1308,
          527,
          521,
          685,
          602,
          685,
          764,
          659,
          623,
          1426,
          496,
          694,
          943,
          696,
          634,
          1020,
          581,
          821,
          616,
          609,
          722,
          591,
          521,
          922,
          794,
          693,
          1940,
          513,
          575,
          793,
          865
         ]
        }
       ],
       "layout": {
        "legend": {
         "tracegroupgap": 0
        },
        "margin": {
         "t": 60
        },
        "template": {
         "data": {
          "bar": [
           {
            "error_x": {
             "color": "#2a3f5f"
            },
            "error_y": {
             "color": "#2a3f5f"
            },
            "marker": {
             "line": {
              "color": "#E5ECF6",
              "width": 0.5
             },
             "pattern": {
              "fillmode": "overlay",
              "size": 10,
              "solidity": 0.2
             }
            },
            "type": "bar"
           }
          ],
          "barpolar": [
           {
            "marker": {
             "line": {
              "color": "#E5ECF6",
              "width": 0.5
             },
             "pattern": {
              "fillmode": "overlay",
              "size": 10,
              "solidity": 0.2
             }
            },
            "type": "barpolar"
           }
          ],
          "carpet": [
           {
            "aaxis": {
             "endlinecolor": "#2a3f5f",
             "gridcolor": "white",
             "linecolor": "white",
             "minorgridcolor": "white",
             "startlinecolor": "#2a3f5f"
            },
            "baxis": {
             "endlinecolor": "#2a3f5f",
             "gridcolor": "white",
             "linecolor": "white",
             "minorgridcolor": "white",
             "startlinecolor": "#2a3f5f"
            },
            "type": "carpet"
           }
          ],
          "choropleth": [
           {
            "colorbar": {
             "outlinewidth": 0,
             "ticks": ""
            },
            "type": "choropleth"
           }
          ],
          "contour": [
           {
            "colorbar": {
             "outlinewidth": 0,
             "ticks": ""
            },
            "colorscale": [
             [
              0,
              "#0d0887"
             ],
             [
              0.1111111111111111,
              "#46039f"
             ],
             [
              0.2222222222222222,
              "#7201a8"
             ],
             [
              0.3333333333333333,
              "#9c179e"
             ],
             [
              0.4444444444444444,
              "#bd3786"
             ],
             [
              0.5555555555555556,
              "#d8576b"
             ],
             [
              0.6666666666666666,
              "#ed7953"
             ],
             [
              0.7777777777777778,
              "#fb9f3a"
             ],
             [
              0.8888888888888888,
              "#fdca26"
             ],
             [
              1,
              "#f0f921"
             ]
            ],
            "type": "contour"
           }
          ],
          "contourcarpet": [
           {
            "colorbar": {
             "outlinewidth": 0,
             "ticks": ""
            },
            "type": "contourcarpet"
           }
          ],
          "heatmap": [
           {
            "colorbar": {
             "outlinewidth": 0,
             "ticks": ""
            },
            "colorscale": [
             [
              0,
              "#0d0887"
             ],
             [
              0.1111111111111111,
              "#46039f"
             ],
             [
              0.2222222222222222,
              "#7201a8"
             ],
             [
              0.3333333333333333,
              "#9c179e"
             ],
             [
              0.4444444444444444,
              "#bd3786"
             ],
             [
              0.5555555555555556,
              "#d8576b"
             ],
             [
              0.6666666666666666,
              "#ed7953"
             ],
             [
              0.7777777777777778,
              "#fb9f3a"
             ],
             [
              0.8888888888888888,
              "#fdca26"
             ],
             [
              1,
              "#f0f921"
             ]
            ],
            "type": "heatmap"
           }
          ],
          "heatmapgl": [
           {
            "colorbar": {
             "outlinewidth": 0,
             "ticks": ""
            },
            "colorscale": [
             [
              0,
              "#0d0887"
             ],
             [
              0.1111111111111111,
              "#46039f"
             ],
             [
              0.2222222222222222,
              "#7201a8"
             ],
             [
              0.3333333333333333,
              "#9c179e"
             ],
             [
              0.4444444444444444,
              "#bd3786"
             ],
             [
              0.5555555555555556,
              "#d8576b"
             ],
             [
              0.6666666666666666,
              "#ed7953"
             ],
             [
              0.7777777777777778,
              "#fb9f3a"
             ],
             [
              0.8888888888888888,
              "#fdca26"
             ],
             [
              1,
              "#f0f921"
             ]
            ],
            "type": "heatmapgl"
           }
          ],
          "histogram": [
           {
            "marker": {
             "pattern": {
              "fillmode": "overlay",
              "size": 10,
              "solidity": 0.2
             }
            },
            "type": "histogram"
           }
          ],
          "histogram2d": [
           {
            "colorbar": {
             "outlinewidth": 0,
             "ticks": ""
            },
            "colorscale": [
             [
              0,
              "#0d0887"
             ],
             [
              0.1111111111111111,
              "#46039f"
             ],
             [
              0.2222222222222222,
              "#7201a8"
             ],
             [
              0.3333333333333333,
              "#9c179e"
             ],
             [
              0.4444444444444444,
              "#bd3786"
             ],
             [
              0.5555555555555556,
              "#d8576b"
             ],
             [
              0.6666666666666666,
              "#ed7953"
             ],
             [
              0.7777777777777778,
              "#fb9f3a"
             ],
             [
              0.8888888888888888,
              "#fdca26"
             ],
             [
              1,
              "#f0f921"
             ]
            ],
            "type": "histogram2d"
           }
          ],
          "histogram2dcontour": [
           {
            "colorbar": {
             "outlinewidth": 0,
             "ticks": ""
            },
            "colorscale": [
             [
              0,
              "#0d0887"
             ],
             [
              0.1111111111111111,
              "#46039f"
             ],
             [
              0.2222222222222222,
              "#7201a8"
             ],
             [
              0.3333333333333333,
              "#9c179e"
             ],
             [
              0.4444444444444444,
              "#bd3786"
             ],
             [
              0.5555555555555556,
              "#d8576b"
             ],
             [
              0.6666666666666666,
              "#ed7953"
             ],
             [
              0.7777777777777778,
              "#fb9f3a"
             ],
             [
              0.8888888888888888,
              "#fdca26"
             ],
             [
              1,
              "#f0f921"
             ]
            ],
            "type": "histogram2dcontour"
           }
          ],
          "mesh3d": [
           {
            "colorbar": {
             "outlinewidth": 0,
             "ticks": ""
            },
            "type": "mesh3d"
           }
          ],
          "parcoords": [
           {
            "line": {
             "colorbar": {
              "outlinewidth": 0,
              "ticks": ""
             }
            },
            "type": "parcoords"
           }
          ],
          "pie": [
           {
            "automargin": true,
            "type": "pie"
           }
          ],
          "scatter": [
           {
            "fillpattern": {
             "fillmode": "overlay",
             "size": 10,
             "solidity": 0.2
            },
            "type": "scatter"
           }
          ],
          "scatter3d": [
           {
            "line": {
             "colorbar": {
              "outlinewidth": 0,
              "ticks": ""
             }
            },
            "marker": {
             "colorbar": {
              "outlinewidth": 0,
              "ticks": ""
             }
            },
            "type": "scatter3d"
           }
          ],
          "scattercarpet": [
           {
            "marker": {
             "colorbar": {
              "outlinewidth": 0,
              "ticks": ""
             }
            },
            "type": "scattercarpet"
           }
          ],
          "scattergeo": [
           {
            "marker": {
             "colorbar": {
              "outlinewidth": 0,
              "ticks": ""
             }
            },
            "type": "scattergeo"
           }
          ],
          "scattergl": [
           {
            "marker": {
             "colorbar": {
              "outlinewidth": 0,
              "ticks": ""
             }
            },
            "type": "scattergl"
           }
          ],
          "scattermapbox": [
           {
            "marker": {
             "colorbar": {
              "outlinewidth": 0,
              "ticks": ""
             }
            },
            "type": "scattermapbox"
           }
          ],
          "scatterpolar": [
           {
            "marker": {
             "colorbar": {
              "outlinewidth": 0,
              "ticks": ""
             }
            },
            "type": "scatterpolar"
           }
          ],
          "scatterpolargl": [
           {
            "marker": {
             "colorbar": {
              "outlinewidth": 0,
              "ticks": ""
             }
            },
            "type": "scatterpolargl"
           }
          ],
          "scatterternary": [
           {
            "marker": {
             "colorbar": {
              "outlinewidth": 0,
              "ticks": ""
             }
            },
            "type": "scatterternary"
           }
          ],
          "surface": [
           {
            "colorbar": {
             "outlinewidth": 0,
             "ticks": ""
            },
            "colorscale": [
             [
              0,
              "#0d0887"
             ],
             [
              0.1111111111111111,
              "#46039f"
             ],
             [
              0.2222222222222222,
              "#7201a8"
             ],
             [
              0.3333333333333333,
              "#9c179e"
             ],
             [
              0.4444444444444444,
              "#bd3786"
             ],
             [
              0.5555555555555556,
              "#d8576b"
             ],
             [
              0.6666666666666666,
              "#ed7953"
             ],
             [
              0.7777777777777778,
              "#fb9f3a"
             ],
             [
              0.8888888888888888,
              "#fdca26"
             ],
             [
              1,
              "#f0f921"
             ]
            ],
            "type": "surface"
           }
          ],
          "table": [
           {
            "cells": {
             "fill": {
              "color": "#EBF0F8"
             },
             "line": {
              "color": "white"
             }
            },
            "header": {
             "fill": {
              "color": "#C8D4E3"
             },
             "line": {
              "color": "white"
             }
            },
            "type": "table"
           }
          ]
         },
         "layout": {
          "annotationdefaults": {
           "arrowcolor": "#2a3f5f",
           "arrowhead": 0,
           "arrowwidth": 1
          },
          "autotypenumbers": "strict",
          "coloraxis": {
           "colorbar": {
            "outlinewidth": 0,
            "ticks": ""
           }
          },
          "colorscale": {
           "diverging": [
            [
             0,
             "#8e0152"
            ],
            [
             0.1,
             "#c51b7d"
            ],
            [
             0.2,
             "#de77ae"
            ],
            [
             0.3,
             "#f1b6da"
            ],
            [
             0.4,
             "#fde0ef"
            ],
            [
             0.5,
             "#f7f7f7"
            ],
            [
             0.6,
             "#e6f5d0"
            ],
            [
             0.7,
             "#b8e186"
            ],
            [
             0.8,
             "#7fbc41"
            ],
            [
             0.9,
             "#4d9221"
            ],
            [
             1,
             "#276419"
            ]
           ],
           "sequential": [
            [
             0,
             "#0d0887"
            ],
            [
             0.1111111111111111,
             "#46039f"
            ],
            [
             0.2222222222222222,
             "#7201a8"
            ],
            [
             0.3333333333333333,
             "#9c179e"
            ],
            [
             0.4444444444444444,
             "#bd3786"
            ],
            [
             0.5555555555555556,
             "#d8576b"
            ],
            [
             0.6666666666666666,
             "#ed7953"
            ],
            [
             0.7777777777777778,
             "#fb9f3a"
            ],
            [
             0.8888888888888888,
             "#fdca26"
            ],
            [
             1,
             "#f0f921"
            ]
           ],
           "sequentialminus": [
            [
             0,
             "#0d0887"
            ],
            [
             0.1111111111111111,
             "#46039f"
            ],
            [
             0.2222222222222222,
             "#7201a8"
            ],
            [
             0.3333333333333333,
             "#9c179e"
            ],
            [
             0.4444444444444444,
             "#bd3786"
            ],
            [
             0.5555555555555556,
             "#d8576b"
            ],
            [
             0.6666666666666666,
             "#ed7953"
            ],
            [
             0.7777777777777778,
             "#fb9f3a"
            ],
            [
             0.8888888888888888,
             "#fdca26"
            ],
            [
             1,
             "#f0f921"
            ]
           ]
          },
          "colorway": [
           "#636efa",
           "#EF553B",
           "#00cc96",
           "#ab63fa",
           "#FFA15A",
           "#19d3f3",
           "#FF6692",
           "#B6E880",
           "#FF97FF",
           "#FECB52"
          ],
          "font": {
           "color": "#2a3f5f"
          },
          "geo": {
           "bgcolor": "white",
           "lakecolor": "white",
           "landcolor": "#E5ECF6",
           "showlakes": true,
           "showland": true,
           "subunitcolor": "white"
          },
          "hoverlabel": {
           "align": "left"
          },
          "hovermode": "closest",
          "mapbox": {
           "style": "light"
          },
          "paper_bgcolor": "white",
          "plot_bgcolor": "#E5ECF6",
          "polar": {
           "angularaxis": {
            "gridcolor": "white",
            "linecolor": "white",
            "ticks": ""
           },
           "bgcolor": "#E5ECF6",
           "radialaxis": {
            "gridcolor": "white",
            "linecolor": "white",
            "ticks": ""
           }
          },
          "scene": {
           "xaxis": {
            "backgroundcolor": "#E5ECF6",
            "gridcolor": "white",
            "gridwidth": 2,
            "linecolor": "white",
            "showbackground": true,
            "ticks": "",
            "zerolinecolor": "white"
           },
           "yaxis": {
            "backgroundcolor": "#E5ECF6",
            "gridcolor": "white",
            "gridwidth": 2,
            "linecolor": "white",
            "showbackground": true,
            "ticks": "",
            "zerolinecolor": "white"
           },
           "zaxis": {
            "backgroundcolor": "#E5ECF6",
            "gridcolor": "white",
            "gridwidth": 2,
            "linecolor": "white",
            "showbackground": true,
            "ticks": "",
            "zerolinecolor": "white"
           }
          },
          "shapedefaults": {
           "line": {
            "color": "#2a3f5f"
           }
          },
          "ternary": {
           "aaxis": {
            "gridcolor": "white",
            "linecolor": "white",
            "ticks": ""
           },
           "baxis": {
            "gridcolor": "white",
            "linecolor": "white",
            "ticks": ""
           },
           "bgcolor": "#E5ECF6",
           "caxis": {
            "gridcolor": "white",
            "linecolor": "white",
            "ticks": ""
           }
          },
          "title": {
           "x": 0.05
          },
          "xaxis": {
           "automargin": true,
           "gridcolor": "white",
           "linecolor": "white",
           "ticks": "",
           "title": {
            "standoff": 15
           },
           "zerolinecolor": "white",
           "zerolinewidth": 2
          },
          "yaxis": {
           "automargin": true,
           "gridcolor": "white",
           "linecolor": "white",
           "ticks": "",
           "title": {
            "standoff": 15
           },
           "zerolinecolor": "white",
           "zerolinewidth": 2
          }
         }
        }
       }
      }
     },
     "metadata": {},
     "output_type": "display_data"
    }
   ],
   "source": [
    "fig = px.treemap(size_by_item_df[0:100],path=['Itemname'],values='count')\n",
    "fig.show()"
   ]
  },
  {
   "cell_type": "code",
   "execution_count": 67,
   "metadata": {},
   "outputs": [],
   "source": [
    "from mlxtend.frequent_patterns import apriori, association_rules\n",
    "\n",
    "item_list2 = item['Itemname'].str.split(', ').to_list()"
   ]
  },
  {
   "cell_type": "code",
   "execution_count": 68,
   "metadata": {},
   "outputs": [
    {
     "data": {
      "text/plain": [
       "[['WHITE HANGING HEART T-LIGHT HOLDER',\n",
       "  'WHITE METAL LANTERN',\n",
       "  'CREAM CUPID HEARTS COAT HANGER',\n",
       "  'KNITTED UNION FLAG HOT WATER BOTTLE',\n",
       "  'RED WOOLLY HOTTIE WHITE HEART.',\n",
       "  'SET 7 BABUSHKA NESTING BOXES',\n",
       "  'GLASS STAR FROSTED T-LIGHT HOLDER'],\n",
       " ['HAND WARMER UNION JACK', 'HAND WARMER RED POLKA DOT'],\n",
       " ['ASSORTED COLOUR BIRD ORNAMENT',\n",
       "  \"POPPY'S PLAYHOUSE BEDROOM\",\n",
       "  \"POPPY'S PLAYHOUSE KITCHEN\",\n",
       "  'FELTCRAFT PRINCESS CHARLOTTE DOLL',\n",
       "  'IVORY KNITTED MUG COSY',\n",
       "  'BOX OF 6 ASSORTED COLOUR TEASPOONS',\n",
       "  'BOX OF VINTAGE JIGSAW BLOCKS',\n",
       "  'BOX OF VINTAGE ALPHABET BLOCKS',\n",
       "  'HOME BUILDING BLOCK WORD',\n",
       "  'LOVE BUILDING BLOCK WORD',\n",
       "  'RECIPE BOX WITH METAL HEART',\n",
       "  'DOORMAT NEW ENGLAND'],\n",
       " ['JAM MAKING SET WITH JARS',\n",
       "  'RED COAT RACK PARIS FASHION',\n",
       "  'YELLOW COAT RACK PARIS FASHION',\n",
       "  'BLUE COAT RACK PARIS FASHION'],\n",
       " ['BATH BUILDING BLOCK WORD'],\n",
       " [\"PAPER CHAIN KIT 50'S CHRISTMAS\"],\n",
       " ['HAND WARMER RED POLKA DOT', 'HAND WARMER UNION JACK'],\n",
       " ['WHITE HANGING HEART T-LIGHT HOLDER',\n",
       "  'WHITE METAL LANTERN',\n",
       "  'CREAM CUPID HEARTS COAT HANGER',\n",
       "  'EDWARDIAN PARASOL RED',\n",
       "  'RETRO COFFEE MUGS ASSORTED',\n",
       "  'SAVE THE PLANET MUG',\n",
       "  'VINTAGE BILLBOARD DRINK ME MUG',\n",
       "  'VINTAGE BILLBOARD LOVE/HATE MUG',\n",
       "  'WOOD 2 DRAWER CABINET WHITE FINISH',\n",
       "  'WOOD S/3 CABINET ANT WHITE FINISH',\n",
       "  'WOODEN PICTURE FRAME WHITE FINISH',\n",
       "  'WOODEN FRAME ANTIQUE WHITE',\n",
       "  'KNITTED UNION FLAG HOT WATER BOTTLE',\n",
       "  'RED WOOLLY HOTTIE WHITE HEART.',\n",
       "  'SET 7 BABUSHKA NESTING BOXES',\n",
       "  'GLASS STAR FROSTED T-LIGHT HOLDER'],\n",
       " ['VICTORIAN SEWING BOX LARGE'],\n",
       " ['WHITE HANGING HEART T-LIGHT HOLDER',\n",
       "  'WHITE METAL LANTERN',\n",
       "  'CREAM CUPID HEARTS COAT HANGER',\n",
       "  'EDWARDIAN PARASOL RED',\n",
       "  'RETRO COFFEE MUGS ASSORTED',\n",
       "  'SAVE THE PLANET MUG',\n",
       "  'VINTAGE BILLBOARD DRINK ME MUG',\n",
       "  'VINTAGE BILLBOARD LOVE/HATE MUG',\n",
       "  'WOOD 2 DRAWER CABINET WHITE FINISH',\n",
       "  'WOOD S/3 CABINET ANT WHITE FINISH',\n",
       "  'WOODEN PICTURE FRAME WHITE FINISH',\n",
       "  'WOODEN FRAME ANTIQUE WHITE',\n",
       "  'KNITTED UNION FLAG HOT WATER BOTTLE',\n",
       "  'RED WOOLLY HOTTIE WHITE HEART.',\n",
       "  'SET 7 BABUSHKA NESTING BOXES',\n",
       "  'GLASS STAR FROSTED T-LIGHT HOLDER']]"
      ]
     },
     "execution_count": 68,
     "metadata": {},
     "output_type": "execute_result"
    }
   ],
   "source": [
    "item_list2[:10]"
   ]
  },
  {
   "cell_type": "code",
   "execution_count": 69,
   "metadata": {},
   "outputs": [],
   "source": [
    "target_item = ['WHITE HANGING HEART T-LIGHT HOLDER','WHITE METAL LANTERN','BLUE COAT RACK PARIS FASHION','WOODEN FRAME ANTIQUE WHITE']\n",
    "revised_item = []\n",
    "\n",
    "for item in item_list2:\n",
    "    filtered = [x for x in item if x in target_item]\n",
    "    if 'WHITE HANGING HEART T-LIGHT HOLDER' in filtered:\n",
    "        revised_item.append(filtered)"
   ]
  },
  {
   "cell_type": "code",
   "execution_count": 70,
   "metadata": {},
   "outputs": [
    {
     "data": {
      "text/plain": [
       "array([[False,  True,  True, False],\n",
       "       [False,  True,  True,  True],\n",
       "       [False,  True,  True,  True],\n",
       "       ...,\n",
       "       [False,  True, False, False],\n",
       "       [False,  True, False, False],\n",
       "       [False,  True, False,  True]])"
      ]
     },
     "execution_count": 70,
     "metadata": {},
     "output_type": "execute_result"
    }
   ],
   "source": [
    "from mlxtend.preprocessing import TransactionEncoder\n",
    "\n",
    "te = TransactionEncoder()\n",
    "\n",
    "te_ary = te.fit(revised_item).transform(revised_item)\n",
    "\n",
    "te_ary"
   ]
  },
  {
   "cell_type": "code",
   "execution_count": 71,
   "metadata": {},
   "outputs": [
    {
     "data": {
      "text/html": [
       "<div>\n",
       "<style scoped>\n",
       "    .dataframe tbody tr th:only-of-type {\n",
       "        vertical-align: middle;\n",
       "    }\n",
       "\n",
       "    .dataframe tbody tr th {\n",
       "        vertical-align: top;\n",
       "    }\n",
       "\n",
       "    .dataframe thead th {\n",
       "        text-align: right;\n",
       "    }\n",
       "</style>\n",
       "<table border=\"1\" class=\"dataframe\">\n",
       "  <thead>\n",
       "    <tr style=\"text-align: right;\">\n",
       "      <th></th>\n",
       "      <th>BLUE COAT RACK PARIS FASHION</th>\n",
       "      <th>WHITE HANGING HEART T-LIGHT HOLDER</th>\n",
       "      <th>WHITE METAL LANTERN</th>\n",
       "      <th>WOODEN FRAME ANTIQUE WHITE</th>\n",
       "    </tr>\n",
       "  </thead>\n",
       "  <tbody>\n",
       "    <tr>\n",
       "      <th>0</th>\n",
       "      <td>False</td>\n",
       "      <td>True</td>\n",
       "      <td>True</td>\n",
       "      <td>False</td>\n",
       "    </tr>\n",
       "    <tr>\n",
       "      <th>1</th>\n",
       "      <td>False</td>\n",
       "      <td>True</td>\n",
       "      <td>True</td>\n",
       "      <td>True</td>\n",
       "    </tr>\n",
       "    <tr>\n",
       "      <th>2</th>\n",
       "      <td>False</td>\n",
       "      <td>True</td>\n",
       "      <td>True</td>\n",
       "      <td>True</td>\n",
       "    </tr>\n",
       "    <tr>\n",
       "      <th>3</th>\n",
       "      <td>False</td>\n",
       "      <td>True</td>\n",
       "      <td>False</td>\n",
       "      <td>False</td>\n",
       "    </tr>\n",
       "    <tr>\n",
       "      <th>4</th>\n",
       "      <td>False</td>\n",
       "      <td>True</td>\n",
       "      <td>False</td>\n",
       "      <td>False</td>\n",
       "    </tr>\n",
       "    <tr>\n",
       "      <th>...</th>\n",
       "      <td>...</td>\n",
       "      <td>...</td>\n",
       "      <td>...</td>\n",
       "      <td>...</td>\n",
       "    </tr>\n",
       "    <tr>\n",
       "      <th>1879</th>\n",
       "      <td>False</td>\n",
       "      <td>True</td>\n",
       "      <td>False</td>\n",
       "      <td>True</td>\n",
       "    </tr>\n",
       "    <tr>\n",
       "      <th>1880</th>\n",
       "      <td>False</td>\n",
       "      <td>True</td>\n",
       "      <td>False</td>\n",
       "      <td>False</td>\n",
       "    </tr>\n",
       "    <tr>\n",
       "      <th>1881</th>\n",
       "      <td>False</td>\n",
       "      <td>True</td>\n",
       "      <td>False</td>\n",
       "      <td>False</td>\n",
       "    </tr>\n",
       "    <tr>\n",
       "      <th>1882</th>\n",
       "      <td>False</td>\n",
       "      <td>True</td>\n",
       "      <td>False</td>\n",
       "      <td>False</td>\n",
       "    </tr>\n",
       "    <tr>\n",
       "      <th>1883</th>\n",
       "      <td>False</td>\n",
       "      <td>True</td>\n",
       "      <td>False</td>\n",
       "      <td>True</td>\n",
       "    </tr>\n",
       "  </tbody>\n",
       "</table>\n",
       "<p>1884 rows × 4 columns</p>\n",
       "</div>"
      ],
      "text/plain": [
       "      BLUE COAT RACK PARIS FASHION  WHITE HANGING HEART T-LIGHT HOLDER  \\\n",
       "0                            False                                True   \n",
       "1                            False                                True   \n",
       "2                            False                                True   \n",
       "3                            False                                True   \n",
       "4                            False                                True   \n",
       "...                            ...                                 ...   \n",
       "1879                         False                                True   \n",
       "1880                         False                                True   \n",
       "1881                         False                                True   \n",
       "1882                         False                                True   \n",
       "1883                         False                                True   \n",
       "\n",
       "      WHITE METAL LANTERN  WOODEN FRAME ANTIQUE WHITE  \n",
       "0                    True                       False  \n",
       "1                    True                        True  \n",
       "2                    True                        True  \n",
       "3                   False                       False  \n",
       "4                   False                       False  \n",
       "...                   ...                         ...  \n",
       "1879                False                        True  \n",
       "1880                False                       False  \n",
       "1881                False                       False  \n",
       "1882                False                       False  \n",
       "1883                False                        True  \n",
       "\n",
       "[1884 rows x 4 columns]"
      ]
     },
     "execution_count": 71,
     "metadata": {},
     "output_type": "execute_result"
    }
   ],
   "source": [
    "new_item = pd.DataFrame(te_ary,columns=te.columns_)\n",
    "new_item"
   ]
  },
  {
   "cell_type": "code",
   "execution_count": 72,
   "metadata": {},
   "outputs": [
    {
     "name": "stdout",
     "output_type": "stream",
     "text": [
      "Processing 9 combinations | Sampling itemset size 32\n"
     ]
    },
    {
     "data": {
      "text/html": [
       "<div>\n",
       "<style scoped>\n",
       "    .dataframe tbody tr th:only-of-type {\n",
       "        vertical-align: middle;\n",
       "    }\n",
       "\n",
       "    .dataframe tbody tr th {\n",
       "        vertical-align: top;\n",
       "    }\n",
       "\n",
       "    .dataframe thead th {\n",
       "        text-align: right;\n",
       "    }\n",
       "</style>\n",
       "<table border=\"1\" class=\"dataframe\">\n",
       "  <thead>\n",
       "    <tr style=\"text-align: right;\">\n",
       "      <th></th>\n",
       "      <th>antecedents</th>\n",
       "      <th>consequents</th>\n",
       "      <th>antecedent support</th>\n",
       "      <th>consequent support</th>\n",
       "      <th>support</th>\n",
       "      <th>confidence</th>\n",
       "      <th>lift</th>\n",
       "      <th>leverage</th>\n",
       "      <th>conviction</th>\n",
       "      <th>zhangs_metric</th>\n",
       "    </tr>\n",
       "  </thead>\n",
       "  <tbody>\n",
       "    <tr>\n",
       "      <th>0</th>\n",
       "      <td>(WHITE HANGING HEART T-LIGHT HOLDER)</td>\n",
       "      <td>(BLUE COAT RACK PARIS FASHION)</td>\n",
       "      <td>1.000000</td>\n",
       "      <td>0.012739</td>\n",
       "      <td>0.012739</td>\n",
       "      <td>0.012739</td>\n",
       "      <td>1.0</td>\n",
       "      <td>0.0</td>\n",
       "      <td>1.0</td>\n",
       "      <td>0.0</td>\n",
       "    </tr>\n",
       "    <tr>\n",
       "      <th>1</th>\n",
       "      <td>(BLUE COAT RACK PARIS FASHION)</td>\n",
       "      <td>(WHITE HANGING HEART T-LIGHT HOLDER)</td>\n",
       "      <td>0.012739</td>\n",
       "      <td>1.000000</td>\n",
       "      <td>0.012739</td>\n",
       "      <td>1.000000</td>\n",
       "      <td>1.0</td>\n",
       "      <td>0.0</td>\n",
       "      <td>inf</td>\n",
       "      <td>0.0</td>\n",
       "    </tr>\n",
       "    <tr>\n",
       "      <th>2</th>\n",
       "      <td>(WHITE METAL LANTERN)</td>\n",
       "      <td>(WHITE HANGING HEART T-LIGHT HOLDER)</td>\n",
       "      <td>0.036624</td>\n",
       "      <td>1.000000</td>\n",
       "      <td>0.036624</td>\n",
       "      <td>1.000000</td>\n",
       "      <td>1.0</td>\n",
       "      <td>0.0</td>\n",
       "      <td>inf</td>\n",
       "      <td>0.0</td>\n",
       "    </tr>\n",
       "    <tr>\n",
       "      <th>3</th>\n",
       "      <td>(WHITE HANGING HEART T-LIGHT HOLDER)</td>\n",
       "      <td>(WHITE METAL LANTERN)</td>\n",
       "      <td>1.000000</td>\n",
       "      <td>0.036624</td>\n",
       "      <td>0.036624</td>\n",
       "      <td>0.036624</td>\n",
       "      <td>1.0</td>\n",
       "      <td>0.0</td>\n",
       "      <td>1.0</td>\n",
       "      <td>0.0</td>\n",
       "    </tr>\n",
       "    <tr>\n",
       "      <th>4</th>\n",
       "      <td>(WHITE HANGING HEART T-LIGHT HOLDER)</td>\n",
       "      <td>(WOODEN FRAME ANTIQUE WHITE)</td>\n",
       "      <td>1.000000</td>\n",
       "      <td>0.132696</td>\n",
       "      <td>0.132696</td>\n",
       "      <td>0.132696</td>\n",
       "      <td>1.0</td>\n",
       "      <td>0.0</td>\n",
       "      <td>1.0</td>\n",
       "      <td>0.0</td>\n",
       "    </tr>\n",
       "    <tr>\n",
       "      <th>5</th>\n",
       "      <td>(WOODEN FRAME ANTIQUE WHITE)</td>\n",
       "      <td>(WHITE HANGING HEART T-LIGHT HOLDER)</td>\n",
       "      <td>0.132696</td>\n",
       "      <td>1.000000</td>\n",
       "      <td>0.132696</td>\n",
       "      <td>1.000000</td>\n",
       "      <td>1.0</td>\n",
       "      <td>0.0</td>\n",
       "      <td>inf</td>\n",
       "      <td>0.0</td>\n",
       "    </tr>\n",
       "  </tbody>\n",
       "</table>\n",
       "</div>"
      ],
      "text/plain": [
       "                            antecedents                           consequents  \\\n",
       "0  (WHITE HANGING HEART T-LIGHT HOLDER)        (BLUE COAT RACK PARIS FASHION)   \n",
       "1        (BLUE COAT RACK PARIS FASHION)  (WHITE HANGING HEART T-LIGHT HOLDER)   \n",
       "2                 (WHITE METAL LANTERN)  (WHITE HANGING HEART T-LIGHT HOLDER)   \n",
       "3  (WHITE HANGING HEART T-LIGHT HOLDER)                 (WHITE METAL LANTERN)   \n",
       "4  (WHITE HANGING HEART T-LIGHT HOLDER)          (WOODEN FRAME ANTIQUE WHITE)   \n",
       "5          (WOODEN FRAME ANTIQUE WHITE)  (WHITE HANGING HEART T-LIGHT HOLDER)   \n",
       "\n",
       "   antecedent support  consequent support   support  confidence  lift  \\\n",
       "0            1.000000            0.012739  0.012739    0.012739   1.0   \n",
       "1            0.012739            1.000000  0.012739    1.000000   1.0   \n",
       "2            0.036624            1.000000  0.036624    1.000000   1.0   \n",
       "3            1.000000            0.036624  0.036624    0.036624   1.0   \n",
       "4            1.000000            0.132696  0.132696    0.132696   1.0   \n",
       "5            0.132696            1.000000  0.132696    1.000000   1.0   \n",
       "\n",
       "   leverage  conviction  zhangs_metric  \n",
       "0       0.0         1.0            0.0  \n",
       "1       0.0         inf            0.0  \n",
       "2       0.0         inf            0.0  \n",
       "3       0.0         1.0            0.0  \n",
       "4       0.0         1.0            0.0  \n",
       "5       0.0         inf            0.0  "
      ]
     },
     "execution_count": 72,
     "metadata": {},
     "output_type": "execute_result"
    }
   ],
   "source": [
    "freq_items = apriori(new_item, min_support=0.01, use_colnames=True, verbose=1)\n",
    "freq_items.sort_values(['support'], ascending=False).head(20)\n",
    "#항목 집합의 항목 개수 추가하기\n",
    "freq_items['length'] = freq_items['itemsets'].apply(lambda x: len(x))\n",
    "freq_items\n",
    "#신뢰도와 향상도 구하기\n",
    "rules = association_rules(freq_items, min_threshold=0.01)\n",
    "rules"
   ]
  },
  {
   "cell_type": "code",
   "execution_count": null,
   "metadata": {},
   "outputs": [],
   "source": []
  }
 ],
 "metadata": {
  "kernelspec": {
   "display_name": "test_venv",
   "language": "python",
   "name": "python3"
  },
  "language_info": {
   "codemirror_mode": {
    "name": "ipython",
    "version": 3
   },
   "file_extension": ".py",
   "mimetype": "text/x-python",
   "name": "python",
   "nbconvert_exporter": "python",
   "pygments_lexer": "ipython3",
   "version": "3.8.18"
  },
  "orig_nbformat": 4
 },
 "nbformat": 4,
 "nbformat_minor": 2
}
