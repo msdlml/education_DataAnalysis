{
 "cells": [
  {
   "cell_type": "code",
   "execution_count": 23,
   "metadata": {},
   "outputs": [
    {
     "ename": "TypeError",
     "evalue": "'int' object is not subscriptable",
     "output_type": "error",
     "traceback": [
      "\u001b[1;31m---------------------------------------------------------------------------\u001b[0m",
      "\u001b[1;31mTypeError\u001b[0m                                 Traceback (most recent call last)",
      "\u001b[1;32mc:\\Users\\user\\Desktop\\my_ws\\edu\\data_analysis\\1019_numpy\\num.ipynb Cell 1\u001b[0m line \u001b[0;36m1\n\u001b[0;32m     <a href='vscode-notebook-cell:/c%3A/Users/user/Desktop/my_ws/edu/data_analysis/1019_numpy/num.ipynb#W0sZmlsZQ%3D%3D?line=9'>10</a>\u001b[0m \u001b[39mfor\u001b[39;00m i \u001b[39min\u001b[39;00m \u001b[39mrange\u001b[39m(size):\n\u001b[0;32m     <a href='vscode-notebook-cell:/c%3A/Users/user/Desktop/my_ws/edu/data_analysis/1019_numpy/num.ipynb#W0sZmlsZQ%3D%3D?line=10'>11</a>\u001b[0m     \u001b[39mfor\u001b[39;00m k \u001b[39min\u001b[39;00m \u001b[39mrange\u001b[39m(size):\n\u001b[1;32m---> <a href='vscode-notebook-cell:/c%3A/Users/user/Desktop/my_ws/edu/data_analysis/1019_numpy/num.ipynb#W0sZmlsZQ%3D%3D?line=11'>12</a>\u001b[0m         \u001b[39mprint\u001b[39m(\u001b[39m\"\u001b[39m\u001b[39m%2d\u001b[39;00m\u001b[39m\"\u001b[39m \u001b[39m%\u001b[39m num_list[i][k], end\u001b[39m=\u001b[39m\u001b[39m'\u001b[39m\u001b[39m \u001b[39m\u001b[39m'\u001b[39m)\n\u001b[0;32m     <a href='vscode-notebook-cell:/c%3A/Users/user/Desktop/my_ws/edu/data_analysis/1019_numpy/num.ipynb#W0sZmlsZQ%3D%3D?line=12'>13</a>\u001b[0m     \u001b[39mprint\u001b[39m()\n\u001b[0;32m     <a href='vscode-notebook-cell:/c%3A/Users/user/Desktop/my_ws/edu/data_analysis/1019_numpy/num.ipynb#W0sZmlsZQ%3D%3D?line=13'>14</a>\u001b[0m \u001b[39mprint\u001b[39m()\n",
      "\u001b[1;31mTypeError\u001b[0m: 'int' object is not subscriptable"
     ]
    }
   ],
   "source": [
    "import random\n",
    "\n",
    "size = 5\n",
    "num_list = [[random.randint(0,255) for _ in range(size)] for _ in range(size)]\n",
    "\n",
    "for i in range(size):\n",
    "    for k in range(size):\n",
    "        num_list = random.randint(0,255)\n",
    "\n",
    "for i in range(size):\n",
    "    for k in range(size):\n",
    "        print(\"%2d\" % num_list[i][k], end=' ')\n",
    "    print()\n",
    "print()\n",
    "\n",
    "for i in range(size):\n",
    "    for k in range(size):\n",
    "        num_list[i][k] +=100\n",
    "\n",
    "for i in range(size):\n",
    "    for k in range(size):\n",
    "        print('%3d' % num_list[i][k],end = ' ')\n",
    "    print()\n",
    "\n",
    "\n",
    "\n",
    "\n"
   ]
  },
  {
   "cell_type": "code",
   "execution_count": 24,
   "metadata": {},
   "outputs": [
    {
     "name": "stdout",
     "output_type": "stream",
     "text": [
      "[[169 116 110  65 117]\n",
      " [ 19 222 220  34 206]\n",
      " [184 141 180 244  66]\n",
      " [193 108 111  26 137]\n",
      " [111 233  96  52 113]]\n",
      "\n",
      "[[269 216 210 165 217]\n",
      " [119 322 320 134 306]\n",
      " [284 241 280 344 166]\n",
      " [293 208 211 126 237]\n",
      " [211 333 196 152 213]]\n"
     ]
    }
   ],
   "source": [
    "import numpy as np\n",
    "\n",
    "size = 5\n",
    "arr = np.random.randint(0,255, size=(size,size))\n",
    "\n",
    "print(arr)\n",
    "print()\n",
    "\n",
    "arr += 100\n",
    "print(arr)"
   ]
  },
  {
   "cell_type": "code",
   "execution_count": 30,
   "metadata": {},
   "outputs": [
    {
     "name": "stdout",
     "output_type": "stream",
     "text": [
      "[[ 24  71 206]\n",
      " [175  64  79]\n",
      " [ 25   9 182]]\n",
      "[[ 48 142 412]\n",
      " [350 128 158]\n",
      " [ 50  18 364]]\n",
      "평균값은 185.55555555555554\n"
     ]
    }
   ],
   "source": [
    "import numpy\n",
    "\n",
    "size = 3\n",
    "arr = numpy.random.randint(0,255, size = (size,size))\n",
    "\n",
    "print(arr)\n",
    "sum = 0\n",
    "arr *= 2\n",
    "print(arr)\n",
    "for i in range(size):\n",
    "    for k in range(size):\n",
    "        sum += arr[i][k]\n",
    "\n",
    "print('평균값은', sum /(size*size))\n"
   ]
  },
  {
   "cell_type": "code",
   "execution_count": 36,
   "metadata": {},
   "outputs": [
    {
     "name": "stdout",
     "output_type": "stream",
     "text": [
      "파이썬 리스트 >  [236, 98, 207, 143, 34]\n",
      "array(plist) >> [236  98 207 143  34]\n",
      "arange(5) >> [0 1 2 3 4]\n",
      "arage(3,8)>> [3 4 5 6 7]\n",
      "ones(5) >>  [1. 1. 1. 1. 1.]\n",
      "ones((3,4)) >>  [[1. 1. 1. 1.]\n",
      " [1. 1. 1. 1.]\n",
      " [1. 1. 1. 1.]]\n",
      "zeros(5)>> [0. 0. 0. 0. 0.]\n",
      "empty(6)>> [6.23042070e-307 4.67296746e-307 1.69121096e-306 9.34609111e-307\n",
      " 1.42413555e-306 1.78019082e-306]\n",
      "full(5,33) >> [33 33 33 33 33]\n",
      "identity(5) >>\n",
      " [[1. 0. 0. 0. 0.]\n",
      " [0. 1. 0. 0. 0.]\n",
      " [0. 0. 1. 0. 0.]\n",
      " [0. 0. 0. 1. 0.]\n",
      " [0. 0. 0. 0. 1.]]\n"
     ]
    }
   ],
   "source": [
    "import numpy as np\n",
    "import random\n",
    "\n",
    "plist = [random.randint(0,255) for _ in range(5)]\n",
    "print('파이썬 리스트 > ',plist)\n",
    "\n",
    "arr1 = np.array(plist)\n",
    "print('array(plist) >>',arr1)\n",
    "\n",
    "arr2 = np.arange(5)\n",
    "print('arange(5) >>',arr2)\n",
    "\n",
    "arr3 = np.arange(3,8)\n",
    "print('arage(3,8)>>',arr3)\n",
    "\n",
    "arr4 = np.ones(5)\n",
    "print('ones(5) >> ', arr4)\n",
    "\n",
    "arr5 = np.ones((3,4))\n",
    "print('ones((3,4)) >> ', arr5)\n",
    "\n",
    "arr6 = np.zeros(5)\n",
    "print('zeros(5)>>' ,arr6)\n",
    "\n",
    "arr7 = np.empty(6)\n",
    "print('empty(6)>>' ,arr7)\n",
    "\n",
    "arr8 = np.full((5),33)\n",
    "print('full(5,33) >>',arr8)\n",
    "\n",
    "arr9 = np.identity(5)\n",
    "print('identity(5) >>\\n', arr9)\n",
    "\n"
   ]
  },
  {
   "cell_type": "code",
   "execution_count": 78,
   "metadata": {},
   "outputs": [
    {
     "name": "stdout",
     "output_type": "stream",
     "text": [
      "[10 20 30 40] int32\n",
      "[10. 20. 30. 40.] float64\n",
      "[10. 20. 30. 40.] float32\n",
      "[0 1 2 3 4] int32\n",
      "[1. 1. 1. 1. 1.] float64\n",
      "[1 1 1 1 1] uint8\n",
      "[1. 1. 1. 1. 1.] float16\n"
     ]
    }
   ],
   "source": [
    "import numpy as np\n",
    "import random\n",
    "\n",
    "pList1 = [10, 20, 30, 40]\n",
    "pList2 = [10, 20, 30, 40.0]\n",
    "\n",
    "numpyAry1 = np.array(pList1)\n",
    "print(numpyAry1, numpyAry1.dtype)\n",
    "\n",
    "numpyAry1 = np.array(pList2)\n",
    "print(numpyAry1, numpyAry1.dtype)\n",
    "\n",
    "numpyAry2 = np.array(pList1, dtype=np.float32)\n",
    "print(numpyAry2, numpyAry2.dtype)\n",
    "\n",
    "numpyAry3 = np.arange(5)\n",
    "print(numpyAry3, numpyAry3.dtype)\n",
    "\n",
    "numpyAry4 = np.ones(5)\n",
    "print(numpyAry4, numpyAry4.dtype)\n",
    "\n",
    "numpyAry5 = np.ones(5, dtype=np.uint8)\n",
    "print(numpyAry5, numpyAry5.dtype)\n",
    "\n",
    "numpyAry6 = numpyAry5.astype(np.float16)\n",
    "print(numpyAry6, numpyAry6.dtype)"
   ]
  },
  {
   "cell_type": "code",
   "execution_count": 3,
   "metadata": {},
   "outputs": [
    {
     "name": "stdout",
     "output_type": "stream",
     "text": [
      "int32\n",
      "2\n"
     ]
    },
    {
     "data": {
      "text/plain": [
       "(2, 3)"
      ]
     },
     "execution_count": 3,
     "metadata": {},
     "output_type": "execute_result"
    }
   ],
   "source": [
    "import numpy\n",
    "arr = numpy.random.randint(0,255,size=(2,3))\n",
    "print(arr.dtype)\n",
    "print(arr.ndim)\n",
    "arr.shape"
   ]
  },
  {
   "cell_type": "code",
   "execution_count": 5,
   "metadata": {},
   "outputs": [
    {
     "name": "stdout",
     "output_type": "stream",
     "text": [
      "[[137  35 -19]\n",
      " [ 32 104 -85]]\n",
      "[[ 274   70  -38]\n",
      " [  64  208 -170]]\n"
     ]
    }
   ],
   "source": [
    "arr = numpy.random.randint(0,255,size=(2,3))\n",
    "arr = arr - 100\n",
    "\n",
    "print(arr) \n",
    "\n",
    "arr = arr + arr  ### 브로드캐스팅\n",
    "\n",
    "print(arr)"
   ]
  },
  {
   "cell_type": "code",
   "execution_count": 6,
   "metadata": {},
   "outputs": [
    {
     "data": {
      "text/plain": [
       "array([[101, 202],\n",
       "       [103, 204]])"
      ]
     },
     "execution_count": 6,
     "metadata": {},
     "output_type": "execute_result"
    }
   ],
   "source": [
    "#배열의 크기가 다른 연산\n",
    "arr1 = numpy.array([[1,2],[3,4]])\n",
    "arr2 = numpy.array([100,200])\n",
    "\n",
    "arr1 + arr2"
   ]
  },
  {
   "cell_type": "code",
   "execution_count": 7,
   "metadata": {},
   "outputs": [
    {
     "name": "stdout",
     "output_type": "stream",
     "text": [
      "[[0.00512821 0.0045045  0.01470588]\n",
      " [0.00961538 0.00515464 0.01388889]]\n"
     ]
    }
   ],
   "source": [
    "arr = numpy.random.randint(0,255,size=(2,3))\n",
    "arr = 1/arr\n",
    "print(arr)"
   ]
  },
  {
   "cell_type": "code",
   "execution_count": 15,
   "metadata": {},
   "outputs": [
    {
     "name": "stdout",
     "output_type": "stream",
     "text": [
      "  1   2   3   4   5 \n",
      "  6   7   8   9  10 \n",
      " 11  12  13  14  15 \n",
      " 16  17  18  19  20 \n",
      " 21  22  23  24  25 \n",
      "  7   8   9 \n",
      " 12  13  14 \n",
      " 17  18  19 \n"
     ]
    }
   ],
   "source": [
    "import random\n",
    "SIZE = 5\n",
    "list1 = []\n",
    "value = 1\n",
    "for _ in range(SIZE):\n",
    "    tmplist = []\n",
    "    for _ in range(SIZE):\n",
    "        tmplist.append(value)\n",
    "        value +=1\n",
    "    list1.append(tmplist)\n",
    "\n",
    "for i in range(SIZE):\n",
    "    for k in range(SIZE):\n",
    "        print('%3d'% list1[i][k],end=' ')\n",
    "    print()\n",
    "nsize = 3\n",
    "startrow = 1\n",
    "startcol = 1 \n",
    "list2 = []\n",
    "for i in range(startrow,startrow+nsize):\n",
    "    tmplist = []\n",
    "    for k in range(startcol,startcol+nsize):\n",
    "        tmplist.append(list1[i][k])\n",
    "    list2.append(tmplist)\n",
    "\n",
    "for i in range(nsize):\n",
    "    for k in range(nsize):\n",
    "        print('%3d' % list2[i][k], end = ' ')\n",
    "    print()\n"
   ]
  },
  {
   "cell_type": "code",
   "execution_count": 25,
   "metadata": {},
   "outputs": [
    {
     "name": "stdout",
     "output_type": "stream",
     "text": [
      "[5 6 7 8]\n",
      "[5 6 7 8]\n",
      "[5 6 7 8]\n"
     ]
    }
   ],
   "source": [
    "arr = numpy.arange(1,17)\n",
    "arr = arr.reshape(4,4)\n",
    "print(arr[1])\n",
    "print(arr[1, 0:4])\n",
    "print(arr[1, :4])"
   ]
  },
  {
   "cell_type": "code",
   "execution_count": 37,
   "metadata": {},
   "outputs": [
    {
     "name": "stdout",
     "output_type": "stream",
     "text": [
      "[[ 9 10 11 12]\n",
      " [13 14 15 16]]\n",
      "[[ 9 10 11 12]\n",
      " [13 14 15 16]]\n",
      "[[ 9 10 11 12]\n",
      " [13 14 15 16]]\n",
      "[ 2  6 10 14]\n",
      "[ 2  6 10 14]\n",
      "[[ 3  4]\n",
      " [ 7  8]\n",
      " [11 12]\n",
      " [15 16]]\n",
      "[[ 3  4]\n",
      " [ 7  8]\n",
      " [11 12]\n",
      " [15 16]]\n",
      "[[ 6  7]\n",
      " [10 11]]\n",
      "[[ 5  6  7  8]\n",
      " [13 14 15 16]]\n",
      "[[ 2  4]\n",
      " [ 6  8]\n",
      " [10 12]\n",
      " [14 16]]\n"
     ]
    }
   ],
   "source": [
    "arr = numpy.arange(1,17)\n",
    "arr = arr.reshape(4,4)\n",
    "print(arr[2:])\n",
    "print(arr[2:4,])\n",
    "print(arr[2:4,:])\n",
    "\n",
    "print(arr[:,1])\n",
    "print(arr[0:4,1])\n",
    "#print[arr[,1]]    ##행은 비워두면 안됨!!!!!!!!!!!!!!!!!!!!!\n",
    "print(arr[:,2:])\n",
    "print(arr[0:4,2:4])\n",
    "print(arr[1:3,1:3])\n",
    "\n",
    "print(arr[[1,3],:])\n",
    "print(arr[:,[1,3]])"
   ]
  },
  {
   "cell_type": "code",
   "execution_count": 48,
   "metadata": {},
   "outputs": [
    {
     "name": "stdout",
     "output_type": "stream",
     "text": [
      "1 2 3 4 5 \n",
      "6 7 8 9 10 \n",
      "11 12 13 14 15 \n",
      "16 17 18 19 20 \n",
      "21 22 23 24 25 \n",
      "[[ 7  8  9]\n",
      " [12 13 14]\n",
      " [17 18 19]]\n"
     ]
    }
   ],
   "source": [
    "arr = numpy.arange(1,26)\n",
    "arr = arr.reshape(5,5)\n",
    "\n",
    "for i in range(5):\n",
    "    for k in range(5):\n",
    "        print(arr[i][k],end=' ')\n",
    "    print()\n",
    "\n",
    "\n",
    "print(arr[1:4,1:4])"
   ]
  },
  {
   "cell_type": "code",
   "execution_count": 50,
   "metadata": {},
   "outputs": [
    {
     "name": "stdout",
     "output_type": "stream",
     "text": [
      "[[0 0]\n",
      " [0 0]\n",
      " [1 1]\n",
      " [1 1]]\n",
      "[[0 0 1 1]\n",
      " [0 0 1 1]]\n"
     ]
    }
   ],
   "source": [
    "arr1 = numpy.zeros((2,2),dtype=numpy.int8)\n",
    "arr2 = numpy.ones((2,2),dtype=numpy.int8)\n",
    "\n",
    "print(numpy.concatenate((arr1,arr2),axis=0))\n",
    "print(numpy.concatenate((arr1,arr2),axis=1))"
   ]
  },
  {
   "cell_type": "code",
   "execution_count": 76,
   "metadata": {},
   "outputs": [
    {
     "name": "stdout",
     "output_type": "stream",
     "text": [
      " 1  2  3  4  5  6  7  8 \n",
      " 9 10 11 12 13 14 15 16 \n",
      "17 18 19 20 21 22 23 24 \n",
      "25 26 27 28 29 30 31 32 \n",
      "33 34 35 36 37 38 39 40 \n",
      "41 42 43 44 45 46 47 48 \n",
      "49 50 51 52 53 54 55 56 \n",
      "57 58 59 60 61 62 63 64 \n",
      "\n",
      "37 38 39 40 \n",
      "45 46 47 48 \n",
      "53 54 55 56 \n",
      "61 62 63 64 \n"
     ]
    }
   ],
   "source": [
    "import random\n",
    "ran_num = [8,12,16,20]\n",
    "ran = random.choice(ran_num)\n",
    "\n",
    "arr = numpy.arange(1,ran*ran + 1)\n",
    "arr = arr.reshape(ran,ran)\n",
    "\n",
    "for x in arr:\n",
    "    for i in x:\n",
    "        print('%2d'%i , end=' ')\n",
    "    print()\n",
    "print()\n",
    "for i in range (int(ran/2),ran):\n",
    "    for k in range(int(ran/2),ran):\n",
    "        print('%2d'%arr[i][k],end=' ')\n",
    "    print()"
   ]
  },
  {
   "cell_type": "code",
   "execution_count": 80,
   "metadata": {},
   "outputs": [
    {
     "name": "stdout",
     "output_type": "stream",
     "text": [
      "[[252  43 134]\n",
      " [ 11 217   5]\n",
      " [ 15  64 238]]\n",
      "[[231  77  47]\n",
      " [237 164 149]\n",
      " [130 235 227]]\n",
      "[[252  77 134]\n",
      " [237 217 149]\n",
      " [130 235 238]]\n",
      "[[ True False  True]\n",
      " [False  True False]\n",
      " [False False  True]]\n"
     ]
    }
   ],
   "source": [
    "arr1 = np.random.randint(0,255,size=(3,3))\n",
    "arr2 = np.random.randint(0,255,size=(3,3))\n",
    "\n",
    "print(arr1)\n",
    "print(arr2)\n",
    "print(np.maximum(arr1,arr2)) # 두배열을 비교해서 큰값을 출력\n",
    "print(np.greater(arr1,arr2)) # 두배열을 비교해서 arr1 > arr2 이면 True 아니라면 False를 출력하는 넘파이 함수"
   ]
  },
  {
   "cell_type": "code",
   "execution_count": 84,
   "metadata": {},
   "outputs": [
    {
     "name": "stdout",
     "output_type": "stream",
     "text": [
      "int32\n",
      "1\n",
      "(10,)\n",
      "10\n"
     ]
    }
   ],
   "source": [
    "arr = numpy.arange(1,11) ##배열의 속성을 알아보는 것\n",
    "\n",
    "print(arr.dtype)\n",
    "print(arr.ndim)\n",
    "print(arr.shape)\n",
    "print(arr.size)"
   ]
  },
  {
   "cell_type": "code",
   "execution_count": 89,
   "metadata": {},
   "outputs": [
    {
     "name": "stdout",
     "output_type": "stream",
     "text": [
      "[50 49 48 47 46 45 44 43 42 41 40 39 38 37 36 35 34 33 32 31 30 29 28 27\n",
      " 26 25 24 23 22 21 20 19 18 17 16 15 14 13 12 11 10]\n"
     ]
    }
   ],
   "source": [
    "arr = numpy.arange(10,51) ## 배열 거꾸로 출력하기\n",
    "# k = -1\n",
    "# for i in range(41):\n",
    "#     print(arr[k])\n",
    "#     k -= 1\n",
    "print (arr[::-1])"
   ]
  },
  {
   "cell_type": "code",
   "execution_count": 93,
   "metadata": {},
   "outputs": [
    {
     "name": "stdout",
     "output_type": "stream",
     "text": [
      "250\n",
      "0\n"
     ]
    }
   ],
   "source": [
    "arr1 = np.random.randint(0,255,size=(10,10)) ##배열안에 최대값 최소값 찾기\n",
    "print(numpy.max(arr1))\n",
    "print(numpy.min(arr1))"
   ]
  },
  {
   "cell_type": "code",
   "execution_count": 97,
   "metadata": {},
   "outputs": [
    {
     "name": "stdout",
     "output_type": "stream",
     "text": [
      "[[0 1 2]\n",
      " [3 4 5]\n",
      " [6 7 8]]\n"
     ]
    }
   ],
   "source": [
    "arr1 = numpy.arange(0,9)\n",
    "arr1 = arr1.reshape(3,3)\n",
    "print(arr1)"
   ]
  },
  {
   "cell_type": "code",
   "execution_count": 100,
   "metadata": {},
   "outputs": [
    {
     "name": "stdout",
     "output_type": "stream",
     "text": [
      "[[ 1  2  3  4  5  6]\n",
      " [ 7  8  9 10 11 12]\n",
      " [13 14 15 16 17 18]\n",
      " [19 20 21 22 23 24]]\n",
      "[[18 17 16 15 14 13]\n",
      " [24 23 22 21 20 19]]\n"
     ]
    }
   ],
   "source": [
    "arr = np.arange(1,25).reshape(4,6)\n",
    "print(arr)\n",
    "print(arr[2:,::-1])"
   ]
  },
  {
   "cell_type": "code",
   "execution_count": 104,
   "metadata": {},
   "outputs": [
    {
     "name": "stdout",
     "output_type": "stream",
     "text": [
      "[10 11 12 13 14 15 16 17 18 19 20]\n"
     ]
    }
   ],
   "source": [
    "print(arr[(arr>=10)&(arr<=20)])\n"
   ]
  },
  {
   "cell_type": "code",
   "execution_count": 109,
   "metadata": {},
   "outputs": [
    {
     "name": "stdout",
     "output_type": "stream",
     "text": [
      "마지막 원소:20\n",
      "모든 원소의 합:210\n",
      "모든원소의 평균:10.5\n",
      "[[ 1  2  3  4  5]\n",
      " [ 6  7  8  9 10]\n",
      " [11 12 13 14 15]\n",
      " [16 17 18 19 20]]\n"
     ]
    }
   ],
   "source": [
    "arr = np.arange(1,21)\n",
    "\n",
    "print(f'마지막 원소:{arr[-1]}')\n",
    "print(f'모든 원소의 합:{numpy.sum(arr)}')\n",
    "print(f'모든원소의 평균:{numpy.sum(arr)/len(arr)}')\n",
    "print(arr.reshape(4,5))"
   ]
  },
  {
   "cell_type": "code",
   "execution_count": 120,
   "metadata": {},
   "outputs": [
    {
     "name": "stdout",
     "output_type": "stream",
     "text": [
      "인상된 금액: [300. 225. 270. 330. 375.]\n",
      "평균금액: 300.0\n",
      "평균이상의 원소 : [300. 330. 375.]\n",
      "평균이상인 원소의 개수 :3 \n"
     ]
    }
   ],
   "source": [
    "list1 = [200,150,180,220,250]\n",
    "\n",
    "arr = numpy.array(list1)\n",
    "new = arr * 1.5\n",
    "print(f'인상된 금액: {arr * 1.5}')\n",
    "print(f'평균금액: {numpy.sum(arr * 1.5)/len(arr)}')\n",
    "print(f'평균이상의 원소 : {new[new >=numpy.sum(arr * 1.5)/len(arr)]}')\n",
    "print(f'평균이상인 원소의 개수 :{len(new[new >=numpy.sum(arr * 1.5)/len(arr)])} ')"
   ]
  },
  {
   "cell_type": "code",
   "execution_count": null,
   "metadata": {},
   "outputs": [],
   "source": []
  }
 ],
 "metadata": {
  "kernelspec": {
   "display_name": "test_venv",
   "language": "python",
   "name": "python3"
  },
  "language_info": {
   "codemirror_mode": {
    "name": "ipython",
    "version": 3
   },
   "file_extension": ".py",
   "mimetype": "text/x-python",
   "name": "python",
   "nbconvert_exporter": "python",
   "pygments_lexer": "ipython3",
   "version": "3.8.18"
  },
  "orig_nbformat": 4
 },
 "nbformat": 4,
 "nbformat_minor": 2
}
